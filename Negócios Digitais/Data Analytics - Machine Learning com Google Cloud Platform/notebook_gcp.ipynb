{
 "cells": [
  {
   "cell_type": "code",
   "execution_count": 0,
   "metadata": {
    "colab": {},
    "colab_type": "code",
    "id": "7pXZO_Y0IY2G"
   },
   "outputs": [],
   "source": [
    "import pandas as pd"
   ]
  },
  {
   "cell_type": "code",
   "execution_count": 0,
   "metadata": {
    "colab": {},
    "colab_type": "code",
    "id": "pMrq0ZSAIY2J"
   },
   "outputs": [],
   "source": [
    "query = \"SELECT * FROM `bigquery-public-data.google_analytics_sample.ga_sessions_*` WHERE date BETWEEN '20170101' AND '20170131'\""
   ]
  },
  {
   "cell_type": "code",
   "execution_count": 0,
   "metadata": {
    "colab": {},
    "colab_type": "code",
    "id": "smUFa0cCIY2L",
    "outputId": "9e43bf98-3d9e-46b7-a533-fe5f46b2c8d5"
   },
   "outputs": [
    {
     "data": {
      "text/plain": [
       "\"SELECT * FROM `bigquery-public-data.google_analytics_sample.ga_sessions_*` WHERE date BETWEEN '20170101' AND '20170131'\""
      ]
     },
     "execution_count": 3,
     "metadata": {
      "tags": []
     },
     "output_type": "execute_result"
    }
   ],
   "source": [
    "query"
   ]
  },
  {
   "cell_type": "code",
   "execution_count": 0,
   "metadata": {
    "colab": {},
    "colab_type": "code",
    "id": "AOpSHTBxIY2O",
    "outputId": "2d19bf2e-1d06-409e-b7d6-7f712787f39f"
   },
   "outputs": [
    {
     "name": "stdout",
     "output_type": "stream",
     "text": [
      "Requesting query... ok.\n",
      "Job ID: d695836c-c0f2-42e4-8c26-ebd076fcf9fc\n",
      "Query running...\n",
      "  Elapsed 7.76 s. Waiting...\n",
      "  Elapsed 8.79 s. Waiting...\n",
      "  Elapsed 9.84 s. Waiting...\n",
      "  Elapsed 11.94 s. Waiting...\n",
      "  Elapsed 13.36 s. Waiting...\n",
      "  Elapsed 14.42 s. Waiting...\n",
      "  Elapsed 15.46 s. Waiting...\n",
      "  Elapsed 16.49 s. Waiting...\n",
      "  Elapsed 17.52 s. Waiting...\n",
      "  Elapsed 18.54 s. Waiting...\n",
      "  Elapsed 19.57 s. Waiting...\n",
      "  Elapsed 20.6 s. Waiting...\n",
      "Query done.\n",
      "Processed: 5.4 GB Billed: 5.4 GB\n",
      "Standard price: $0.03 USD\n",
      "\n",
      "Retrieving results...\n",
      "Got 64694 rows.\n",
      "\n",
      "Total time taken 807.67 s.\n",
      "Finished at 2019-07-03 21:53:00.\n"
     ]
    }
   ],
   "source": [
    "df = pd.read_gbq(query=query, project_id='reflected-mark-244922', dialect='standard', dtype={'visitId':object})"
   ]
  },
  {
   "cell_type": "code",
   "execution_count": 0,
   "metadata": {
    "colab": {},
    "colab_type": "code",
    "id": "PCYxWz0LIY2R",
    "outputId": "fa4970db-ac6a-42cd-e04c-0eff8679b1bc"
   },
   "outputs": [
    {
     "data": {
      "text/html": [
       "<div>\n",
       "<style scoped>\n",
       "    .dataframe tbody tr th:only-of-type {\n",
       "        vertical-align: middle;\n",
       "    }\n",
       "\n",
       "    .dataframe tbody tr th {\n",
       "        vertical-align: top;\n",
       "    }\n",
       "\n",
       "    .dataframe thead th {\n",
       "        text-align: right;\n",
       "    }\n",
       "</style>\n",
       "<table border=\"1\" class=\"dataframe\">\n",
       "  <thead>\n",
       "    <tr style=\"text-align: right;\">\n",
       "      <th></th>\n",
       "      <th>visitorId</th>\n",
       "      <th>visitNumber</th>\n",
       "      <th>visitId</th>\n",
       "      <th>visitStartTime</th>\n",
       "      <th>date</th>\n",
       "      <th>totals</th>\n",
       "      <th>trafficSource</th>\n",
       "      <th>device</th>\n",
       "      <th>geoNetwork</th>\n",
       "      <th>customDimensions</th>\n",
       "      <th>hits</th>\n",
       "      <th>fullVisitorId</th>\n",
       "      <th>userId</th>\n",
       "      <th>clientId</th>\n",
       "      <th>channelGrouping</th>\n",
       "      <th>socialEngagementType</th>\n",
       "    </tr>\n",
       "  </thead>\n",
       "  <tbody>\n",
       "    <tr>\n",
       "      <th>0</th>\n",
       "      <td>None</td>\n",
       "      <td>1</td>\n",
       "      <td>1485675881</td>\n",
       "      <td>1485675881</td>\n",
       "      <td>20170128</td>\n",
       "      <td>{'sessionQualityDim': None, 'hits': 1, 'visits...</td>\n",
       "      <td>{'adContent': None, 'adwordsClickInfo': {'isVi...</td>\n",
       "      <td>{'deviceCategory': 'desktop', 'screenColors': ...</td>\n",
       "      <td>{'longitude': 'not available in demo dataset',...</td>\n",
       "      <td>[]</td>\n",
       "      <td>[{'product': [], 'type': 'PAGE', 'refund': Non...</td>\n",
       "      <td>9110054506220104806</td>\n",
       "      <td>None</td>\n",
       "      <td>None</td>\n",
       "      <td>Organic Search</td>\n",
       "      <td>Not Socially Engaged</td>\n",
       "    </tr>\n",
       "    <tr>\n",
       "      <th>1</th>\n",
       "      <td>None</td>\n",
       "      <td>1</td>\n",
       "      <td>1485602993</td>\n",
       "      <td>1485602993</td>\n",
       "      <td>20170128</td>\n",
       "      <td>{'sessionQualityDim': None, 'hits': 1, 'visits...</td>\n",
       "      <td>{'adContent': None, 'adwordsClickInfo': {'isVi...</td>\n",
       "      <td>{'deviceCategory': 'tablet', 'screenColors': '...</td>\n",
       "      <td>{'longitude': 'not available in demo dataset',...</td>\n",
       "      <td>[{'index': 4, 'value': 'EMEA'}]</td>\n",
       "      <td>[{'product': [], 'type': 'PAGE', 'refund': Non...</td>\n",
       "      <td>3810132494152562005</td>\n",
       "      <td>None</td>\n",
       "      <td>None</td>\n",
       "      <td>Organic Search</td>\n",
       "      <td>Not Socially Engaged</td>\n",
       "    </tr>\n",
       "    <tr>\n",
       "      <th>2</th>\n",
       "      <td>None</td>\n",
       "      <td>1</td>\n",
       "      <td>1485628695</td>\n",
       "      <td>1485628695</td>\n",
       "      <td>20170128</td>\n",
       "      <td>{'sessionQualityDim': None, 'hits': 1, 'visits...</td>\n",
       "      <td>{'adContent': None, 'adwordsClickInfo': {'isVi...</td>\n",
       "      <td>{'deviceCategory': 'desktop', 'screenColors': ...</td>\n",
       "      <td>{'longitude': 'not available in demo dataset',...</td>\n",
       "      <td>[]</td>\n",
       "      <td>[{'product': [], 'type': 'PAGE', 'refund': Non...</td>\n",
       "      <td>4400063200645767842</td>\n",
       "      <td>None</td>\n",
       "      <td>None</td>\n",
       "      <td>Organic Search</td>\n",
       "      <td>Not Socially Engaged</td>\n",
       "    </tr>\n",
       "    <tr>\n",
       "      <th>3</th>\n",
       "      <td>None</td>\n",
       "      <td>1</td>\n",
       "      <td>1485597945</td>\n",
       "      <td>1485597945</td>\n",
       "      <td>20170128</td>\n",
       "      <td>{'sessionQualityDim': None, 'hits': 1, 'visits...</td>\n",
       "      <td>{'adContent': None, 'adwordsClickInfo': {'isVi...</td>\n",
       "      <td>{'deviceCategory': 'mobile', 'screenColors': '...</td>\n",
       "      <td>{'longitude': 'not available in demo dataset',...</td>\n",
       "      <td>[{'index': 4, 'value': 'EMEA'}]</td>\n",
       "      <td>[{'product': [], 'type': 'PAGE', 'refund': Non...</td>\n",
       "      <td>873940342507321146</td>\n",
       "      <td>None</td>\n",
       "      <td>None</td>\n",
       "      <td>Organic Search</td>\n",
       "      <td>Not Socially Engaged</td>\n",
       "    </tr>\n",
       "    <tr>\n",
       "      <th>4</th>\n",
       "      <td>None</td>\n",
       "      <td>1</td>\n",
       "      <td>1485644479</td>\n",
       "      <td>1485644479</td>\n",
       "      <td>20170128</td>\n",
       "      <td>{'sessionQualityDim': None, 'hits': 1, 'visits...</td>\n",
       "      <td>{'adContent': None, 'adwordsClickInfo': {'isVi...</td>\n",
       "      <td>{'deviceCategory': 'desktop', 'screenColors': ...</td>\n",
       "      <td>{'longitude': 'not available in demo dataset',...</td>\n",
       "      <td>[{'index': 4, 'value': 'EMEA'}]</td>\n",
       "      <td>[{'product': [], 'type': 'PAGE', 'refund': Non...</td>\n",
       "      <td>6583696268634928336</td>\n",
       "      <td>None</td>\n",
       "      <td>None</td>\n",
       "      <td>Organic Search</td>\n",
       "      <td>Not Socially Engaged</td>\n",
       "    </tr>\n",
       "  </tbody>\n",
       "</table>\n",
       "</div>"
      ],
      "text/plain": [
       "  visitorId  visitNumber     visitId  visitStartTime      date  \\\n",
       "0      None            1  1485675881      1485675881  20170128   \n",
       "1      None            1  1485602993      1485602993  20170128   \n",
       "2      None            1  1485628695      1485628695  20170128   \n",
       "3      None            1  1485597945      1485597945  20170128   \n",
       "4      None            1  1485644479      1485644479  20170128   \n",
       "\n",
       "                                              totals  \\\n",
       "0  {'sessionQualityDim': None, 'hits': 1, 'visits...   \n",
       "1  {'sessionQualityDim': None, 'hits': 1, 'visits...   \n",
       "2  {'sessionQualityDim': None, 'hits': 1, 'visits...   \n",
       "3  {'sessionQualityDim': None, 'hits': 1, 'visits...   \n",
       "4  {'sessionQualityDim': None, 'hits': 1, 'visits...   \n",
       "\n",
       "                                       trafficSource  \\\n",
       "0  {'adContent': None, 'adwordsClickInfo': {'isVi...   \n",
       "1  {'adContent': None, 'adwordsClickInfo': {'isVi...   \n",
       "2  {'adContent': None, 'adwordsClickInfo': {'isVi...   \n",
       "3  {'adContent': None, 'adwordsClickInfo': {'isVi...   \n",
       "4  {'adContent': None, 'adwordsClickInfo': {'isVi...   \n",
       "\n",
       "                                              device  \\\n",
       "0  {'deviceCategory': 'desktop', 'screenColors': ...   \n",
       "1  {'deviceCategory': 'tablet', 'screenColors': '...   \n",
       "2  {'deviceCategory': 'desktop', 'screenColors': ...   \n",
       "3  {'deviceCategory': 'mobile', 'screenColors': '...   \n",
       "4  {'deviceCategory': 'desktop', 'screenColors': ...   \n",
       "\n",
       "                                          geoNetwork  \\\n",
       "0  {'longitude': 'not available in demo dataset',...   \n",
       "1  {'longitude': 'not available in demo dataset',...   \n",
       "2  {'longitude': 'not available in demo dataset',...   \n",
       "3  {'longitude': 'not available in demo dataset',...   \n",
       "4  {'longitude': 'not available in demo dataset',...   \n",
       "\n",
       "                  customDimensions  \\\n",
       "0                               []   \n",
       "1  [{'index': 4, 'value': 'EMEA'}]   \n",
       "2                               []   \n",
       "3  [{'index': 4, 'value': 'EMEA'}]   \n",
       "4  [{'index': 4, 'value': 'EMEA'}]   \n",
       "\n",
       "                                                hits        fullVisitorId  \\\n",
       "0  [{'product': [], 'type': 'PAGE', 'refund': Non...  9110054506220104806   \n",
       "1  [{'product': [], 'type': 'PAGE', 'refund': Non...  3810132494152562005   \n",
       "2  [{'product': [], 'type': 'PAGE', 'refund': Non...  4400063200645767842   \n",
       "3  [{'product': [], 'type': 'PAGE', 'refund': Non...   873940342507321146   \n",
       "4  [{'product': [], 'type': 'PAGE', 'refund': Non...  6583696268634928336   \n",
       "\n",
       "  userId clientId channelGrouping  socialEngagementType  \n",
       "0   None     None  Organic Search  Not Socially Engaged  \n",
       "1   None     None  Organic Search  Not Socially Engaged  \n",
       "2   None     None  Organic Search  Not Socially Engaged  \n",
       "3   None     None  Organic Search  Not Socially Engaged  \n",
       "4   None     None  Organic Search  Not Socially Engaged  "
      ]
     },
     "execution_count": 5,
     "metadata": {
      "tags": []
     },
     "output_type": "execute_result"
    }
   ],
   "source": [
    "df.head()"
   ]
  },
  {
   "cell_type": "code",
   "execution_count": 0,
   "metadata": {
    "colab": {},
    "colab_type": "code",
    "id": "_M6c49T2IY2U",
    "outputId": "8015ea74-4b0c-412b-e38a-7a5d1c8ca6ba"
   },
   "outputs": [
    {
     "data": {
      "text/plain": [
       "(64694, 16)"
      ]
     },
     "execution_count": 6,
     "metadata": {
      "tags": []
     },
     "output_type": "execute_result"
    }
   ],
   "source": [
    "df.shape"
   ]
  },
  {
   "cell_type": "code",
   "execution_count": 0,
   "metadata": {
    "colab": {},
    "colab_type": "code",
    "id": "MCtllQw4IY2X"
   },
   "outputs": [],
   "source": [
    "produtos_sessao = []\n",
    "precos_sessao = []\n",
    "\n",
    "for linha in df.hits:\n",
    "  produtos_hit = []\n",
    "  precos_hit = []\n",
    "  for hit in linha:\n",
    "    for produto in hit['product']:\n",
    "      produtos_hit.append(produto['productSKU'])\n",
    "      precos_hit.append(produto['productPrice'])\n",
    "  produtos_sessao.append(produtos_hit)\n",
    "  precos_sessao.append(sum(precos_hit))"
   ]
  },
  {
   "cell_type": "code",
   "execution_count": 0,
   "metadata": {
    "colab": {},
    "colab_type": "code",
    "id": "bc-iKU6zIY2Z",
    "outputId": "0cdedf98-9362-42e5-fe59-5428b5b0563e"
   },
   "outputs": [
    {
     "data": {
      "text/plain": [
       "64694"
      ]
     },
     "execution_count": 10,
     "metadata": {
      "tags": []
     },
     "output_type": "execute_result"
    }
   ],
   "source": [
    "len(produtos_sessao)"
   ]
  },
  {
   "cell_type": "code",
   "execution_count": 0,
   "metadata": {
    "colab": {},
    "colab_type": "code",
    "id": "qMOT3mUAIY2b",
    "outputId": "4851d1ef-a8e9-4443-dd85-00251252cf11"
   },
   "outputs": [
    {
     "data": {
      "text/plain": [
       "[]"
      ]
     },
     "execution_count": 11,
     "metadata": {
      "tags": []
     },
     "output_type": "execute_result"
    }
   ],
   "source": [
    "produtos_sessao[365]"
   ]
  },
  {
   "cell_type": "code",
   "execution_count": 0,
   "metadata": {
    "colab": {},
    "colab_type": "code",
    "id": "u1ImrvMFIY2f",
    "outputId": "0594981e-9e90-41f9-8ab3-971beecdcd54"
   },
   "outputs": [
    {
     "data": {
      "text/plain": [
       "0"
      ]
     },
     "execution_count": 12,
     "metadata": {
      "tags": []
     },
     "output_type": "execute_result"
    }
   ],
   "source": [
    "precos_sessao[365]"
   ]
  },
  {
   "cell_type": "code",
   "execution_count": 0,
   "metadata": {
    "colab": {},
    "colab_type": "code",
    "id": "1dEuCnkRIY2h"
   },
   "outputs": [],
   "source": [
    "s = pd.Series(produtos_sessao)"
   ]
  },
  {
   "cell_type": "code",
   "execution_count": 0,
   "metadata": {
    "colab": {},
    "colab_type": "code",
    "id": "M7LMPhDhIY2k"
   },
   "outputs": [],
   "source": [
    "from sklearn.preprocessing import MultiLabelBinarizer"
   ]
  },
  {
   "cell_type": "code",
   "execution_count": 0,
   "metadata": {
    "colab": {},
    "colab_type": "code",
    "id": "Nkkn5NOEIY2n"
   },
   "outputs": [],
   "source": [
    "mlb = MultiLabelBinarizer()"
   ]
  },
  {
   "cell_type": "code",
   "execution_count": 0,
   "metadata": {
    "colab": {},
    "colab_type": "code",
    "id": "AQlYns0LIY2p"
   },
   "outputs": [],
   "source": [
    "df_produtos = pd.DataFrame(mlb.fit_transform(s), columns=mlb.classes_, index=df.index)"
   ]
  },
  {
   "cell_type": "code",
   "execution_count": 0,
   "metadata": {
    "colab": {},
    "colab_type": "code",
    "id": "4HcdFAfUIY2r"
   },
   "outputs": [],
   "source": [
    "df = df.join(df_produtos)"
   ]
  },
  {
   "cell_type": "code",
   "execution_count": 0,
   "metadata": {
    "colab": {},
    "colab_type": "code",
    "id": "QlmzrMG-IY2t"
   },
   "outputs": [],
   "source": [
    "df['preco'] = precos_sessao"
   ]
  },
  {
   "cell_type": "code",
   "execution_count": 0,
   "metadata": {
    "colab": {},
    "colab_type": "code",
    "id": "iRcn34jsIY2w",
    "outputId": "5fc16622-774a-447d-e633-c96cf03b028d"
   },
   "outputs": [
    {
     "data": {
      "text/html": [
       "<div>\n",
       "<style scoped>\n",
       "    .dataframe tbody tr th:only-of-type {\n",
       "        vertical-align: middle;\n",
       "    }\n",
       "\n",
       "    .dataframe tbody tr th {\n",
       "        vertical-align: top;\n",
       "    }\n",
       "\n",
       "    .dataframe thead th {\n",
       "        text-align: right;\n",
       "    }\n",
       "</style>\n",
       "<table border=\"1\" class=\"dataframe\">\n",
       "  <thead>\n",
       "    <tr style=\"text-align: right;\">\n",
       "      <th></th>\n",
       "      <th>visitorId</th>\n",
       "      <th>visitNumber</th>\n",
       "      <th>visitId</th>\n",
       "      <th>visitStartTime</th>\n",
       "      <th>date</th>\n",
       "      <th>totals</th>\n",
       "      <th>trafficSource</th>\n",
       "      <th>device</th>\n",
       "      <th>geoNetwork</th>\n",
       "      <th>customDimensions</th>\n",
       "      <th>...</th>\n",
       "      <th>GGOEYHPA003510</th>\n",
       "      <th>GGOEYHPA003610</th>\n",
       "      <th>GGOEYHPB072210</th>\n",
       "      <th>GGOEYOBR078599</th>\n",
       "      <th>GGOEYOCR077399</th>\n",
       "      <th>GGOEYOCR077799</th>\n",
       "      <th>GGOEYOCR078099</th>\n",
       "      <th>GGOEYOLR018699</th>\n",
       "      <th>GGOEYOLR080599</th>\n",
       "      <th>preco</th>\n",
       "    </tr>\n",
       "  </thead>\n",
       "  <tbody>\n",
       "    <tr>\n",
       "      <th>0</th>\n",
       "      <td>None</td>\n",
       "      <td>1</td>\n",
       "      <td>1485675881</td>\n",
       "      <td>1485675881</td>\n",
       "      <td>20170128</td>\n",
       "      <td>{'sessionQualityDim': None, 'hits': 1, 'visits...</td>\n",
       "      <td>{'adContent': None, 'adwordsClickInfo': {'isVi...</td>\n",
       "      <td>{'deviceCategory': 'desktop', 'screenColors': ...</td>\n",
       "      <td>{'longitude': 'not available in demo dataset',...</td>\n",
       "      <td>[]</td>\n",
       "      <td>...</td>\n",
       "      <td>0</td>\n",
       "      <td>0</td>\n",
       "      <td>0</td>\n",
       "      <td>0</td>\n",
       "      <td>0</td>\n",
       "      <td>0</td>\n",
       "      <td>0</td>\n",
       "      <td>0</td>\n",
       "      <td>0</td>\n",
       "      <td>0</td>\n",
       "    </tr>\n",
       "    <tr>\n",
       "      <th>1</th>\n",
       "      <td>None</td>\n",
       "      <td>1</td>\n",
       "      <td>1485602993</td>\n",
       "      <td>1485602993</td>\n",
       "      <td>20170128</td>\n",
       "      <td>{'sessionQualityDim': None, 'hits': 1, 'visits...</td>\n",
       "      <td>{'adContent': None, 'adwordsClickInfo': {'isVi...</td>\n",
       "      <td>{'deviceCategory': 'tablet', 'screenColors': '...</td>\n",
       "      <td>{'longitude': 'not available in demo dataset',...</td>\n",
       "      <td>[{'index': 4, 'value': 'EMEA'}]</td>\n",
       "      <td>...</td>\n",
       "      <td>0</td>\n",
       "      <td>0</td>\n",
       "      <td>0</td>\n",
       "      <td>0</td>\n",
       "      <td>0</td>\n",
       "      <td>0</td>\n",
       "      <td>0</td>\n",
       "      <td>0</td>\n",
       "      <td>0</td>\n",
       "      <td>0</td>\n",
       "    </tr>\n",
       "    <tr>\n",
       "      <th>2</th>\n",
       "      <td>None</td>\n",
       "      <td>1</td>\n",
       "      <td>1485628695</td>\n",
       "      <td>1485628695</td>\n",
       "      <td>20170128</td>\n",
       "      <td>{'sessionQualityDim': None, 'hits': 1, 'visits...</td>\n",
       "      <td>{'adContent': None, 'adwordsClickInfo': {'isVi...</td>\n",
       "      <td>{'deviceCategory': 'desktop', 'screenColors': ...</td>\n",
       "      <td>{'longitude': 'not available in demo dataset',...</td>\n",
       "      <td>[]</td>\n",
       "      <td>...</td>\n",
       "      <td>0</td>\n",
       "      <td>0</td>\n",
       "      <td>0</td>\n",
       "      <td>0</td>\n",
       "      <td>0</td>\n",
       "      <td>0</td>\n",
       "      <td>0</td>\n",
       "      <td>0</td>\n",
       "      <td>0</td>\n",
       "      <td>0</td>\n",
       "    </tr>\n",
       "    <tr>\n",
       "      <th>3</th>\n",
       "      <td>None</td>\n",
       "      <td>1</td>\n",
       "      <td>1485597945</td>\n",
       "      <td>1485597945</td>\n",
       "      <td>20170128</td>\n",
       "      <td>{'sessionQualityDim': None, 'hits': 1, 'visits...</td>\n",
       "      <td>{'adContent': None, 'adwordsClickInfo': {'isVi...</td>\n",
       "      <td>{'deviceCategory': 'mobile', 'screenColors': '...</td>\n",
       "      <td>{'longitude': 'not available in demo dataset',...</td>\n",
       "      <td>[{'index': 4, 'value': 'EMEA'}]</td>\n",
       "      <td>...</td>\n",
       "      <td>0</td>\n",
       "      <td>0</td>\n",
       "      <td>0</td>\n",
       "      <td>0</td>\n",
       "      <td>0</td>\n",
       "      <td>0</td>\n",
       "      <td>0</td>\n",
       "      <td>0</td>\n",
       "      <td>0</td>\n",
       "      <td>0</td>\n",
       "    </tr>\n",
       "    <tr>\n",
       "      <th>4</th>\n",
       "      <td>None</td>\n",
       "      <td>1</td>\n",
       "      <td>1485644479</td>\n",
       "      <td>1485644479</td>\n",
       "      <td>20170128</td>\n",
       "      <td>{'sessionQualityDim': None, 'hits': 1, 'visits...</td>\n",
       "      <td>{'adContent': None, 'adwordsClickInfo': {'isVi...</td>\n",
       "      <td>{'deviceCategory': 'desktop', 'screenColors': ...</td>\n",
       "      <td>{'longitude': 'not available in demo dataset',...</td>\n",
       "      <td>[{'index': 4, 'value': 'EMEA'}]</td>\n",
       "      <td>...</td>\n",
       "      <td>0</td>\n",
       "      <td>0</td>\n",
       "      <td>0</td>\n",
       "      <td>0</td>\n",
       "      <td>0</td>\n",
       "      <td>0</td>\n",
       "      <td>0</td>\n",
       "      <td>0</td>\n",
       "      <td>0</td>\n",
       "      <td>0</td>\n",
       "    </tr>\n",
       "  </tbody>\n",
       "</table>\n",
       "<p>5 rows × 1126 columns</p>\n",
       "</div>"
      ],
      "text/plain": [
       "  visitorId  visitNumber     visitId  visitStartTime      date  \\\n",
       "0      None            1  1485675881      1485675881  20170128   \n",
       "1      None            1  1485602993      1485602993  20170128   \n",
       "2      None            1  1485628695      1485628695  20170128   \n",
       "3      None            1  1485597945      1485597945  20170128   \n",
       "4      None            1  1485644479      1485644479  20170128   \n",
       "\n",
       "                                              totals  \\\n",
       "0  {'sessionQualityDim': None, 'hits': 1, 'visits...   \n",
       "1  {'sessionQualityDim': None, 'hits': 1, 'visits...   \n",
       "2  {'sessionQualityDim': None, 'hits': 1, 'visits...   \n",
       "3  {'sessionQualityDim': None, 'hits': 1, 'visits...   \n",
       "4  {'sessionQualityDim': None, 'hits': 1, 'visits...   \n",
       "\n",
       "                                       trafficSource  \\\n",
       "0  {'adContent': None, 'adwordsClickInfo': {'isVi...   \n",
       "1  {'adContent': None, 'adwordsClickInfo': {'isVi...   \n",
       "2  {'adContent': None, 'adwordsClickInfo': {'isVi...   \n",
       "3  {'adContent': None, 'adwordsClickInfo': {'isVi...   \n",
       "4  {'adContent': None, 'adwordsClickInfo': {'isVi...   \n",
       "\n",
       "                                              device  \\\n",
       "0  {'deviceCategory': 'desktop', 'screenColors': ...   \n",
       "1  {'deviceCategory': 'tablet', 'screenColors': '...   \n",
       "2  {'deviceCategory': 'desktop', 'screenColors': ...   \n",
       "3  {'deviceCategory': 'mobile', 'screenColors': '...   \n",
       "4  {'deviceCategory': 'desktop', 'screenColors': ...   \n",
       "\n",
       "                                          geoNetwork  \\\n",
       "0  {'longitude': 'not available in demo dataset',...   \n",
       "1  {'longitude': 'not available in demo dataset',...   \n",
       "2  {'longitude': 'not available in demo dataset',...   \n",
       "3  {'longitude': 'not available in demo dataset',...   \n",
       "4  {'longitude': 'not available in demo dataset',...   \n",
       "\n",
       "                  customDimensions  ...   GGOEYHPA003510 GGOEYHPA003610  \\\n",
       "0                               []  ...                0              0   \n",
       "1  [{'index': 4, 'value': 'EMEA'}]  ...                0              0   \n",
       "2                               []  ...                0              0   \n",
       "3  [{'index': 4, 'value': 'EMEA'}]  ...                0              0   \n",
       "4  [{'index': 4, 'value': 'EMEA'}]  ...                0              0   \n",
       "\n",
       "  GGOEYHPB072210 GGOEYOBR078599 GGOEYOCR077399 GGOEYOCR077799  GGOEYOCR078099  \\\n",
       "0              0              0              0              0               0   \n",
       "1              0              0              0              0               0   \n",
       "2              0              0              0              0               0   \n",
       "3              0              0              0              0               0   \n",
       "4              0              0              0              0               0   \n",
       "\n",
       "   GGOEYOLR018699  GGOEYOLR080599  preco  \n",
       "0               0               0      0  \n",
       "1               0               0      0  \n",
       "2               0               0      0  \n",
       "3               0               0      0  \n",
       "4               0               0      0  \n",
       "\n",
       "[5 rows x 1126 columns]"
      ]
     },
     "execution_count": 19,
     "metadata": {
      "tags": []
     },
     "output_type": "execute_result"
    }
   ],
   "source": [
    "df.head()"
   ]
  },
  {
   "cell_type": "code",
   "execution_count": 0,
   "metadata": {
    "colab": {},
    "colab_type": "code",
    "id": "ngnWUeL_IY2z"
   },
   "outputs": [],
   "source": [
    "visitas = df.drop(['hits','customDimensions'], axis=1)"
   ]
  },
  {
   "cell_type": "code",
   "execution_count": 0,
   "metadata": {
    "colab": {},
    "colab_type": "code",
    "id": "EfDt-5iYIY22",
    "outputId": "0eaa34e6-86b5-4db5-9011-e18c5266f4df"
   },
   "outputs": [
    {
     "data": {
      "text/html": [
       "<div>\n",
       "<style scoped>\n",
       "    .dataframe tbody tr th:only-of-type {\n",
       "        vertical-align: middle;\n",
       "    }\n",
       "\n",
       "    .dataframe tbody tr th {\n",
       "        vertical-align: top;\n",
       "    }\n",
       "\n",
       "    .dataframe thead th {\n",
       "        text-align: right;\n",
       "    }\n",
       "</style>\n",
       "<table border=\"1\" class=\"dataframe\">\n",
       "  <thead>\n",
       "    <tr style=\"text-align: right;\">\n",
       "      <th></th>\n",
       "      <th>visitorId</th>\n",
       "      <th>visitNumber</th>\n",
       "      <th>visitId</th>\n",
       "      <th>visitStartTime</th>\n",
       "      <th>date</th>\n",
       "      <th>totals</th>\n",
       "      <th>trafficSource</th>\n",
       "      <th>device</th>\n",
       "      <th>geoNetwork</th>\n",
       "      <th>fullVisitorId</th>\n",
       "      <th>...</th>\n",
       "      <th>GGOEYHPA003510</th>\n",
       "      <th>GGOEYHPA003610</th>\n",
       "      <th>GGOEYHPB072210</th>\n",
       "      <th>GGOEYOBR078599</th>\n",
       "      <th>GGOEYOCR077399</th>\n",
       "      <th>GGOEYOCR077799</th>\n",
       "      <th>GGOEYOCR078099</th>\n",
       "      <th>GGOEYOLR018699</th>\n",
       "      <th>GGOEYOLR080599</th>\n",
       "      <th>preco</th>\n",
       "    </tr>\n",
       "  </thead>\n",
       "  <tbody>\n",
       "    <tr>\n",
       "      <th>0</th>\n",
       "      <td>None</td>\n",
       "      <td>1</td>\n",
       "      <td>1485675881</td>\n",
       "      <td>1485675881</td>\n",
       "      <td>20170128</td>\n",
       "      <td>{'sessionQualityDim': None, 'hits': 1, 'visits...</td>\n",
       "      <td>{'adContent': None, 'adwordsClickInfo': {'isVi...</td>\n",
       "      <td>{'deviceCategory': 'desktop', 'screenColors': ...</td>\n",
       "      <td>{'longitude': 'not available in demo dataset',...</td>\n",
       "      <td>9110054506220104806</td>\n",
       "      <td>...</td>\n",
       "      <td>0</td>\n",
       "      <td>0</td>\n",
       "      <td>0</td>\n",
       "      <td>0</td>\n",
       "      <td>0</td>\n",
       "      <td>0</td>\n",
       "      <td>0</td>\n",
       "      <td>0</td>\n",
       "      <td>0</td>\n",
       "      <td>0</td>\n",
       "    </tr>\n",
       "    <tr>\n",
       "      <th>1</th>\n",
       "      <td>None</td>\n",
       "      <td>1</td>\n",
       "      <td>1485602993</td>\n",
       "      <td>1485602993</td>\n",
       "      <td>20170128</td>\n",
       "      <td>{'sessionQualityDim': None, 'hits': 1, 'visits...</td>\n",
       "      <td>{'adContent': None, 'adwordsClickInfo': {'isVi...</td>\n",
       "      <td>{'deviceCategory': 'tablet', 'screenColors': '...</td>\n",
       "      <td>{'longitude': 'not available in demo dataset',...</td>\n",
       "      <td>3810132494152562005</td>\n",
       "      <td>...</td>\n",
       "      <td>0</td>\n",
       "      <td>0</td>\n",
       "      <td>0</td>\n",
       "      <td>0</td>\n",
       "      <td>0</td>\n",
       "      <td>0</td>\n",
       "      <td>0</td>\n",
       "      <td>0</td>\n",
       "      <td>0</td>\n",
       "      <td>0</td>\n",
       "    </tr>\n",
       "    <tr>\n",
       "      <th>2</th>\n",
       "      <td>None</td>\n",
       "      <td>1</td>\n",
       "      <td>1485628695</td>\n",
       "      <td>1485628695</td>\n",
       "      <td>20170128</td>\n",
       "      <td>{'sessionQualityDim': None, 'hits': 1, 'visits...</td>\n",
       "      <td>{'adContent': None, 'adwordsClickInfo': {'isVi...</td>\n",
       "      <td>{'deviceCategory': 'desktop', 'screenColors': ...</td>\n",
       "      <td>{'longitude': 'not available in demo dataset',...</td>\n",
       "      <td>4400063200645767842</td>\n",
       "      <td>...</td>\n",
       "      <td>0</td>\n",
       "      <td>0</td>\n",
       "      <td>0</td>\n",
       "      <td>0</td>\n",
       "      <td>0</td>\n",
       "      <td>0</td>\n",
       "      <td>0</td>\n",
       "      <td>0</td>\n",
       "      <td>0</td>\n",
       "      <td>0</td>\n",
       "    </tr>\n",
       "    <tr>\n",
       "      <th>3</th>\n",
       "      <td>None</td>\n",
       "      <td>1</td>\n",
       "      <td>1485597945</td>\n",
       "      <td>1485597945</td>\n",
       "      <td>20170128</td>\n",
       "      <td>{'sessionQualityDim': None, 'hits': 1, 'visits...</td>\n",
       "      <td>{'adContent': None, 'adwordsClickInfo': {'isVi...</td>\n",
       "      <td>{'deviceCategory': 'mobile', 'screenColors': '...</td>\n",
       "      <td>{'longitude': 'not available in demo dataset',...</td>\n",
       "      <td>873940342507321146</td>\n",
       "      <td>...</td>\n",
       "      <td>0</td>\n",
       "      <td>0</td>\n",
       "      <td>0</td>\n",
       "      <td>0</td>\n",
       "      <td>0</td>\n",
       "      <td>0</td>\n",
       "      <td>0</td>\n",
       "      <td>0</td>\n",
       "      <td>0</td>\n",
       "      <td>0</td>\n",
       "    </tr>\n",
       "    <tr>\n",
       "      <th>4</th>\n",
       "      <td>None</td>\n",
       "      <td>1</td>\n",
       "      <td>1485644479</td>\n",
       "      <td>1485644479</td>\n",
       "      <td>20170128</td>\n",
       "      <td>{'sessionQualityDim': None, 'hits': 1, 'visits...</td>\n",
       "      <td>{'adContent': None, 'adwordsClickInfo': {'isVi...</td>\n",
       "      <td>{'deviceCategory': 'desktop', 'screenColors': ...</td>\n",
       "      <td>{'longitude': 'not available in demo dataset',...</td>\n",
       "      <td>6583696268634928336</td>\n",
       "      <td>...</td>\n",
       "      <td>0</td>\n",
       "      <td>0</td>\n",
       "      <td>0</td>\n",
       "      <td>0</td>\n",
       "      <td>0</td>\n",
       "      <td>0</td>\n",
       "      <td>0</td>\n",
       "      <td>0</td>\n",
       "      <td>0</td>\n",
       "      <td>0</td>\n",
       "    </tr>\n",
       "  </tbody>\n",
       "</table>\n",
       "<p>5 rows × 1124 columns</p>\n",
       "</div>"
      ],
      "text/plain": [
       "  visitorId  visitNumber     visitId  visitStartTime      date  \\\n",
       "0      None            1  1485675881      1485675881  20170128   \n",
       "1      None            1  1485602993      1485602993  20170128   \n",
       "2      None            1  1485628695      1485628695  20170128   \n",
       "3      None            1  1485597945      1485597945  20170128   \n",
       "4      None            1  1485644479      1485644479  20170128   \n",
       "\n",
       "                                              totals  \\\n",
       "0  {'sessionQualityDim': None, 'hits': 1, 'visits...   \n",
       "1  {'sessionQualityDim': None, 'hits': 1, 'visits...   \n",
       "2  {'sessionQualityDim': None, 'hits': 1, 'visits...   \n",
       "3  {'sessionQualityDim': None, 'hits': 1, 'visits...   \n",
       "4  {'sessionQualityDim': None, 'hits': 1, 'visits...   \n",
       "\n",
       "                                       trafficSource  \\\n",
       "0  {'adContent': None, 'adwordsClickInfo': {'isVi...   \n",
       "1  {'adContent': None, 'adwordsClickInfo': {'isVi...   \n",
       "2  {'adContent': None, 'adwordsClickInfo': {'isVi...   \n",
       "3  {'adContent': None, 'adwordsClickInfo': {'isVi...   \n",
       "4  {'adContent': None, 'adwordsClickInfo': {'isVi...   \n",
       "\n",
       "                                              device  \\\n",
       "0  {'deviceCategory': 'desktop', 'screenColors': ...   \n",
       "1  {'deviceCategory': 'tablet', 'screenColors': '...   \n",
       "2  {'deviceCategory': 'desktop', 'screenColors': ...   \n",
       "3  {'deviceCategory': 'mobile', 'screenColors': '...   \n",
       "4  {'deviceCategory': 'desktop', 'screenColors': ...   \n",
       "\n",
       "                                          geoNetwork        fullVisitorId  \\\n",
       "0  {'longitude': 'not available in demo dataset',...  9110054506220104806   \n",
       "1  {'longitude': 'not available in demo dataset',...  3810132494152562005   \n",
       "2  {'longitude': 'not available in demo dataset',...  4400063200645767842   \n",
       "3  {'longitude': 'not available in demo dataset',...   873940342507321146   \n",
       "4  {'longitude': 'not available in demo dataset',...  6583696268634928336   \n",
       "\n",
       "   ...   GGOEYHPA003510 GGOEYHPA003610 GGOEYHPB072210 GGOEYOBR078599  \\\n",
       "0  ...                0              0              0              0   \n",
       "1  ...                0              0              0              0   \n",
       "2  ...                0              0              0              0   \n",
       "3  ...                0              0              0              0   \n",
       "4  ...                0              0              0              0   \n",
       "\n",
       "   GGOEYOCR077399  GGOEYOCR077799  GGOEYOCR078099  GGOEYOLR018699  \\\n",
       "0               0               0               0               0   \n",
       "1               0               0               0               0   \n",
       "2               0               0               0               0   \n",
       "3               0               0               0               0   \n",
       "4               0               0               0               0   \n",
       "\n",
       "   GGOEYOLR080599  preco  \n",
       "0               0      0  \n",
       "1               0      0  \n",
       "2               0      0  \n",
       "3               0      0  \n",
       "4               0      0  \n",
       "\n",
       "[5 rows x 1124 columns]"
      ]
     },
     "execution_count": 21,
     "metadata": {
      "tags": []
     },
     "output_type": "execute_result"
    }
   ],
   "source": [
    "visitas.head()"
   ]
  },
  {
   "cell_type": "code",
   "execution_count": 0,
   "metadata": {
    "colab": {},
    "colab_type": "code",
    "id": "-g0jAwQrIY24"
   },
   "outputs": [],
   "source": [
    "dicionarios = ['device', 'trafficSource', 'geoNetwork','totals']"
   ]
  },
  {
   "cell_type": "code",
   "execution_count": 0,
   "metadata": {
    "colab": {},
    "colab_type": "code",
    "id": "d6sh9YF5IY26",
    "outputId": "f9c80484-d075-4422-e84e-4cabc600a1d8"
   },
   "outputs": [
    {
     "name": "stdout",
     "output_type": "stream",
     "text": [
      "visitorId: 1\n",
      "visitNumber: 202\n",
      "visitId: 63585\n",
      "visitStartTime: 63640\n",
      "date: 31\n",
      "fullVisitorId: 53041\n",
      "userId: 1\n",
      "clientId: 1\n",
      "channelGrouping: 8\n",
      "socialEngagementType: 1\n",
      "10 52048: 2\n",
      "10 52147: 2\n",
      "10 52211: 2\n",
      "10 52213: 2\n",
      "10 52223: 2\n",
      "10 52225: 2\n",
      "10 52230: 2\n",
      "10 52231: 2\n",
      "10 52232: 2\n",
      "10 52233: 2\n",
      "10 52234: 2\n",
      "10 52237: 2\n",
      "10 52238: 2\n",
      "10 52242: 2\n",
      "10 52246: 2\n",
      "10 52250: 2\n",
      "10 52251: 2\n",
      "9180748: 2\n",
      "9180749: 2\n",
      "9180750: 2\n",
      "9180751: 2\n",
      "9180752: 2\n",
      "9180754: 2\n",
      "9180755: 2\n",
      "9180756: 2\n",
      "9180757: 2\n",
      "9180758: 2\n",
      "9180759: 2\n",
      "9180760: 2\n",
      "9180761: 2\n",
      "9180764: 2\n",
      "9180766: 2\n",
      "9180767: 2\n",
      "9180769: 2\n",
      "9180770: 2\n",
      "9180771: 2\n",
      "9180778: 2\n",
      "9180779: 2\n",
      "9180781: 2\n",
      "9180782: 2\n",
      "9180785: 2\n",
      "9180791: 2\n",
      "9180792: 2\n",
      "9180793: 2\n",
      "9180797: 2\n",
      "9180801: 2\n",
      "9180802: 2\n",
      "9180804: 2\n",
      "9180806: 2\n",
      "9180808: 2\n",
      "9180809: 2\n",
      "9180811: 2\n",
      "9180812: 2\n",
      "9180814: 2\n",
      "9180815: 2\n",
      "9180816: 2\n",
      "9180817: 2\n",
      "9180818: 2\n",
      "9180819: 2\n",
      "9180820: 2\n",
      "9180822: 2\n",
      "9180824: 2\n",
      "9180833: 2\n",
      "9180834: 2\n",
      "9180837: 2\n",
      "9180838: 2\n",
      "9180840: 2\n",
      "9180841: 2\n",
      "9180844: 2\n",
      "9180850: 2\n",
      "9180862: 2\n",
      "9180863: 2\n",
      "9180875: 2\n",
      "9180905: 2\n",
      "9181019: 2\n",
      "9181137: 2\n",
      "9181138: 2\n",
      "9181139: 2\n",
      "9181140: 2\n",
      "9181148: 2\n",
      "9181150: 2\n",
      "9181151: 2\n",
      "9181152: 2\n",
      "9181571: 2\n",
      "9181572: 2\n",
      "9181573: 2\n",
      "9181664: 2\n",
      "9182173: 2\n",
      "9182382: 2\n",
      "9182502: 2\n",
      "9182553: 2\n",
      "9182559: 2\n",
      "9182569: 2\n",
      "9182575: 2\n",
      "9182581: 2\n",
      "9182587: 2\n",
      "9182588: 2\n",
      "9182593: 2\n",
      "9182599: 2\n",
      "9182605: 2\n",
      "9182658: 2\n",
      "9182663: 2\n",
      "9182668: 2\n",
      "9182699: 2\n",
      "9182700: 2\n",
      "9182701: 2\n",
      "9182706: 2\n",
      "9182707: 2\n",
      "9182709: 2\n",
      "9182714: 2\n",
      "9182716: 2\n",
      "9182717: 2\n",
      "9182719: 2\n",
      "9182721: 2\n",
      "9182722: 2\n",
      "9182723: 2\n",
      "9182726: 2\n",
      "9182732: 2\n",
      "9182737: 2\n",
      "9182739: 2\n",
      "9182742: 2\n",
      "9182743: 2\n",
      "9182744: 2\n",
      "9182745: 2\n",
      "9182746: 2\n",
      "9182747: 2\n",
      "9182748: 2\n",
      "9182749: 2\n",
      "9182750: 2\n",
      "9182751: 2\n",
      "9182752: 2\n",
      "9182753: 2\n",
      "9182754: 2\n",
      "9182755: 2\n",
      "9182757: 2\n",
      "9182760: 2\n",
      "9182761: 2\n",
      "9182764: 2\n",
      "9182765: 2\n",
      "9182768: 2\n",
      "9182770: 2\n",
      "9182771: 2\n",
      "9182772: 2\n",
      "9182774: 2\n",
      "9182775: 2\n",
      "9182776: 2\n",
      "9182777: 2\n",
      "9182778: 2\n",
      "9182779: 2\n",
      "9182780: 2\n",
      "9182781: 2\n",
      "9182784: 2\n",
      "9182785: 2\n",
      "9182786: 2\n",
      "9182788: 2\n",
      "9182790: 2\n",
      "9182800: 2\n",
      "9182806: 2\n",
      "9182816: 2\n",
      "9182828: 2\n",
      "9182838: 2\n",
      "9182843: 2\n",
      "9182848: 2\n",
      "9182853: 2\n",
      "9182857: 2\n",
      "9182858: 2\n",
      "9182859: 2\n",
      "9182863: 2\n",
      "9182898: 2\n",
      "9182903: 2\n",
      "9182909: 2\n",
      "9182980: 2\n",
      "9182994: 2\n",
      "9182995: 2\n",
      "9182996: 2\n",
      "9182997: 2\n",
      "9182999: 2\n",
      "9183000: 2\n",
      "9183015: 2\n",
      "9183052: 2\n",
      "9183058: 2\n",
      "9183064: 2\n",
      "9183086: 2\n",
      "9183091: 2\n",
      "9183101: 2\n",
      "9183106: 2\n",
      "9183112: 2\n",
      "9183118: 2\n",
      "9183185: 2\n",
      "9183186: 2\n",
      "9183187: 2\n",
      "9183188: 2\n",
      "9183190: 2\n",
      "9183191: 2\n",
      "9183192: 2\n",
      "9183193: 2\n",
      "9183194: 2\n",
      "9183196: 2\n",
      "9183203: 2\n",
      "9183205: 2\n",
      "9183210: 2\n",
      "9183211: 2\n",
      "9183212: 2\n",
      "9183213: 2\n",
      "9183214: 2\n",
      "9183219: 2\n",
      "9183220: 2\n",
      "9183221: 2\n",
      "9183222: 2\n",
      "9183223: 2\n",
      "9183225: 2\n",
      "9183226: 2\n",
      "9183228: 2\n",
      "9183229: 2\n",
      "9183230: 2\n",
      "9183231: 2\n",
      "9183232: 2\n",
      "9183233: 2\n",
      "9183234: 2\n",
      "9183235: 2\n",
      "9183236: 2\n",
      "9183240: 2\n",
      "9183241: 2\n",
      "9184618: 2\n",
      "9184620: 2\n",
      "9184627: 2\n",
      "9184639: 2\n",
      "9184663: 2\n",
      "9184675: 2\n",
      "9184676: 2\n",
      "9184682: 2\n",
      "9184689: 2\n",
      "9184696: 2\n",
      "9184698: 2\n",
      "9184705: 2\n",
      "9184707: 2\n",
      "9184709: 2\n",
      "9184711: 2\n",
      "9184712: 2\n",
      "GGOEA0CH077599: 2\n",
      "GGOEAAAB034813: 2\n",
      "GGOEAAAB034814: 2\n",
      "GGOEAAAB034815: 2\n",
      "GGOEAAAB034816: 2\n",
      "GGOEAAAB034913: 2\n",
      "GGOEAAAB034914: 2\n",
      "GGOEAAAB034915: 2\n",
      "GGOEAAAB034917: 2\n",
      "GGOEAAAB081015: 2\n",
      "GGOEAAAB081016: 2\n",
      "GGOEAAAB081017: 2\n",
      "GGOEAAAC080913: 2\n",
      "GGOEAAAC080914: 2\n",
      "GGOEAAAC080915: 2\n",
      "GGOEAAAC080916: 2\n",
      "GGOEAAAC080917: 2\n",
      "GGOEAAAH083313: 2\n",
      "GGOEAAAH083314: 2\n",
      "GGOEAAAH083315: 2\n",
      "GGOEAAAJ031913: 2\n",
      "GGOEAAAJ031914: 2\n",
      "GGOEAAAJ031915: 2\n",
      "GGOEAAAJ031916: 2\n",
      "GGOEAAAJ031917: 2\n",
      "GGOEAAAJ032414: 2\n",
      "GGOEAAAJ032415: 2\n",
      "GGOEAAAJ032416: 2\n",
      "GGOEAAAJ034516: 2\n",
      "GGOEAAAJ080813: 2\n",
      "GGOEAAAJ080814: 2\n",
      "GGOEAAAJ080815: 2\n",
      "GGOEAAAJ080816: 2\n",
      "GGOEAAAJ080817: 2\n",
      "GGOEAAAL081115: 2\n",
      "GGOEAAAL081116: 2\n",
      "GGOEAAAL081117: 2\n",
      "GGOEAAAP081213: 2\n",
      "GGOEAAAP081215: 2\n",
      "GGOEAAAP081217: 2\n",
      "GGOEAAAQ032015: 2\n",
      "GGOEAAEB028314: 2\n",
      "GGOEAAEB028316: 2\n",
      "GGOEAAEB031213: 2\n",
      "GGOEAAEB031214: 2\n",
      "GGOEAAEB031215: 2\n",
      "GGOEAAEB031216: 2\n",
      "GGOEAAEB031614: 2\n",
      "GGOEAAEB031615: 2\n",
      "GGOEAAEJ030913: 2\n",
      "GGOEAAEJ030915: 2\n",
      "GGOEAAEJ030916: 2\n",
      "GGOEAAEJ033414: 2\n",
      "GGOEAAEJ035713: 2\n",
      "GGOEAAFB035913: 2\n",
      "GGOEAAFB035914: 2\n",
      "GGOEAAFB035915: 2\n",
      "GGOEAAFB035917: 2\n",
      "GGOEAAQB036114: 2\n",
      "GGOEAAQB036115: 2\n",
      "GGOEAAWC061650: 2\n",
      "GGOEAAWC062448: 2\n",
      "GGOEAAWC062450: 2\n",
      "GGOEAAWH061548: 2\n",
      "GGOEAAWJ062548: 2\n",
      "GGOEAAWJ062549: 2\n",
      "GGOEAAWN062648: 2\n",
      "GGOEAAWN062649: 2\n",
      "GGOEAAWT061748: 2\n",
      "GGOEAAWT061749: 2\n",
      "GGOEAAWT061753: 2\n",
      "GGOEAAXC066429: 2\n",
      "GGOEAAXC066430: 2\n",
      "GGOEAAXJ066228: 2\n",
      "GGOEAAXJ066229: 2\n",
      "GGOEAAXN066328: 2\n",
      "GGOEAAXN066329: 2\n",
      "GGOEAAYC068724: 2\n",
      "GGOEAAYJ068824: 2\n",
      "GGOEAAYJ068825: 2\n",
      "GGOEAAYJ068826: 2\n",
      "GGOEACCQ017299: 2\n",
      "GGOEADHB014799: 2\n",
      "GGOEADHH015499: 2\n",
      "GGOEADHH055999: 2\n",
      "GGOEADHH073999: 2\n",
      "GGOEADHH082399: 2\n",
      "GGOEADHJ015599: 2\n",
      "GGOEADWQ015699: 2\n",
      "GGOEAFKQ020499: 2\n",
      "GGOEAFKQ020599: 2\n",
      "GGOEAHPA004110: 2\n",
      "GGOEAHPB080210: 2\n",
      "GGOEAHPJ004314: 2\n",
      "GGOEAHPJ074410: 2\n",
      "GGOEAKDH019899: 2\n",
      "GGOEAOBH078799: 2\n",
      "GGOEAOCB077499: 2\n",
      "GGOEAOCH014199: 2\n",
      "GGOEAXXX0808: 2\n",
      "GGOEAXXX0809: 2\n",
      "GGOEAXXX0810: 2\n",
      "GGOEAXXX0811: 2\n",
      "GGOEAXXX0812: 2\n",
      "GGOEAXXX0833: 2\n",
      "GGOEGAAB010513: 2\n",
      "GGOEGAAB010514: 2\n",
      "GGOEGAAB010515: 2\n",
      "GGOEGAAB010516: 2\n",
      "GGOEGAAB010517: 2\n",
      "GGOEGAAB033813: 2\n",
      "GGOEGAAB033814: 2\n",
      "GGOEGAAB033815: 2\n",
      "GGOEGAAB033816: 2\n",
      "GGOEGAAB033817: 2\n",
      "GGOEGAAB058913: 2\n",
      "GGOEGAAB058914: 2\n",
      "GGOEGAAB058915: 2\n",
      "GGOEGAAB058916: 2\n",
      "GGOEGAAB058917: 2\n",
      "GGOEGAAB058918: 2\n",
      "GGOEGAAC035013: 2\n",
      "GGOEGAAC035014: 2\n",
      "GGOEGAAC035017: 2\n",
      "GGOEGAAH034014: 2\n",
      "GGOEGAAH034016: 2\n",
      "GGOEGAAJ032314: 2\n",
      "GGOEGAAJ032315: 2\n",
      "GGOEGAAJ032316: 2\n",
      "GGOEGAAJ032613: 2\n",
      "GGOEGAAJ032614: 2\n",
      "GGOEGAAJ032615: 2\n",
      "GGOEGAAJ032616: 2\n",
      "GGOEGAAJ032617: 2\n",
      "GGOEGAAJ032714: 2\n",
      "GGOEGAAJ032715: 2\n",
      "GGOEGAAJ032716: 2\n",
      "GGOEGAAJ032717: 2\n",
      "GGOEGAAJ057014: 2\n",
      "GGOEGAAJ059114: 2\n",
      "GGOEGAAJ059116: 2\n",
      "GGOEGAAJ073013: 2\n",
      "GGOEGAAJ073015: 2\n",
      "GGOEGAAJ073413: 2\n",
      "GGOEGAAJ073414: 2\n",
      "GGOEGAAJ073415: 2\n",
      "GGOEGAAJ073416: 2\n",
      "GGOEGAAJ073417: 2\n",
      "GGOEGAAJ080613: 2\n",
      "GGOEGAAJ080614: 2\n",
      "GGOEGAAJ080615: 2\n",
      "GGOEGAAJ080616: 2\n",
      "GGOEGAAJ080713: 2\n",
      "GGOEGAAJ080714: 2\n",
      "GGOEGAAJ080715: 2\n",
      "GGOEGAAJ080716: 2\n",
      "GGOEGAAL010613: 2\n",
      "GGOEGAAL010614: 2\n",
      "GGOEGAAL010615: 2\n",
      "GGOEGAAL010616: 2\n",
      "GGOEGAAL010617: 2\n",
      "GGOEGAAL059013: 2\n",
      "GGOEGAAL059014: 2\n",
      "GGOEGAAL059015: 2\n",
      "GGOEGAAL059016: 2\n",
      "GGOEGAAL059017: 2\n",
      "GGOEGAAL059018: 2\n",
      "GGOEGAAQ010413: 2\n",
      "GGOEGAAQ010414: 2\n",
      "GGOEGAAQ010415: 2\n",
      "GGOEGAAQ010416: 2\n",
      "GGOEGAAQ010417: 2\n",
      "GGOEGAAQ033913: 2\n",
      "GGOEGAAQ033915: 2\n",
      "GGOEGAAQ033916: 2\n",
      "GGOEGAAQ057214: 2\n",
      "GGOEGAAR010713: 2\n",
      "GGOEGAAR010714: 2\n",
      "GGOEGAAR010715: 2\n",
      "GGOEGAAR010716: 2\n",
      "GGOEGAAR010717: 2\n",
      "GGOEGAAX0031: 2\n",
      "GGOEGAAX0037: 2\n",
      "GGOEGAAX0042: 2\n",
      "GGOEGAAX0074: 2\n",
      "GGOEGAAX0081: 2\n",
      "GGOEGAAX0098: 2\n",
      "GGOEGAAX0104: 2\n",
      "GGOEGAAX0105: 2\n",
      "GGOEGAAX0106: 2\n",
      "GGOEGAAX0107: 2\n",
      "GGOEGAAX0127: 2\n",
      "GGOEGAAX0168: 2\n",
      "GGOEGAAX0213: 2\n",
      "GGOEGAAX0228: 2\n",
      "GGOEGAAX0231: 2\n",
      "GGOEGAAX0278: 2\n",
      "GGOEGAAX0279: 2\n",
      "GGOEGAAX0280: 2\n",
      "GGOEGAAX0281: 2\n",
      "GGOEGAAX0282: 2\n",
      "GGOEGAAX0283: 2\n",
      "GGOEGAAX0284: 2\n",
      "GGOEGAAX0285: 2\n",
      "GGOEGAAX0286: 2\n",
      "GGOEGAAX0287: 2\n",
      "GGOEGAAX0288: 2\n",
      "GGOEGAAX0289: 2\n",
      "GGOEGAAX0290: 2\n",
      "GGOEGAAX0291: 2\n",
      "GGOEGAAX0292: 2\n",
      "GGOEGAAX0293: 2\n",
      "GGOEGAAX0294: 2\n",
      "GGOEGAAX0295: 2\n",
      "GGOEGAAX0296: 2\n",
      "GGOEGAAX0297: 2\n",
      "GGOEGAAX0298: 2\n",
      "GGOEGAAX0299: 2\n",
      "GGOEGAAX0300: 2\n",
      "GGOEGAAX0301: 2\n",
      "GGOEGAAX0302: 2\n",
      "GGOEGAAX0304: 2\n",
      "GGOEGAAX0305: 2\n",
      "GGOEGAAX0306: 2\n",
      "GGOEGAAX0307: 2\n",
      "GGOEGAAX0309: 2\n",
      "GGOEGAAX0312: 2\n",
      "GGOEGAAX0313: 2\n",
      "GGOEGAAX0314: 2\n",
      "GGOEGAAX0315: 2\n",
      "GGOEGAAX0316: 2\n",
      "GGOEGAAX0317: 2\n",
      "GGOEGAAX0318: 2\n",
      "GGOEGAAX0319: 2\n",
      "GGOEGAAX0320: 2\n",
      "GGOEGAAX0321: 2\n",
      "GGOEGAAX0323: 2\n",
      "GGOEGAAX0324: 2\n",
      "GGOEGAAX0325: 2\n",
      "GGOEGAAX0326: 2\n",
      "GGOEGAAX0327: 2\n",
      "GGOEGAAX0328: 2\n",
      "GGOEGAAX0329: 2\n",
      "GGOEGAAX0330: 2\n",
      "GGOEGAAX0331: 2\n",
      "GGOEGAAX0332: 2\n",
      "GGOEGAAX0333: 2\n",
      "GGOEGAAX0334: 2\n",
      "GGOEGAAX0335: 2\n",
      "GGOEGAAX0338: 2\n",
      "GGOEGAAX0339: 2\n",
      "GGOEGAAX0340: 2\n",
      "GGOEGAAX0341: 2\n",
      "GGOEGAAX0342: 2\n",
      "GGOEGAAX0343: 2\n",
      "GGOEGAAX0344: 2\n",
      "GGOEGAAX0345: 2\n",
      "GGOEGAAX0346: 2\n",
      "GGOEGAAX0348: 2\n",
      "GGOEGAAX0349: 2\n",
      "GGOEGAAX0350: 2\n",
      "GGOEGAAX0351: 2\n",
      "GGOEGAAX0352: 2\n",
      "GGOEGAAX0353: 2\n",
      "GGOEGAAX0355: 2\n",
      "GGOEGAAX0356: 2\n",
      "GGOEGAAX0357: 2\n",
      "GGOEGAAX0358: 2\n",
      "GGOEGAAX0359: 2\n",
      "GGOEGAAX0360: 2\n",
      "GGOEGAAX0361: 2\n",
      "GGOEGAAX0362: 2\n",
      "GGOEGAAX0363: 2\n",
      "GGOEGAAX0364: 2\n",
      "GGOEGAAX0365: 2\n",
      "GGOEGAAX0366: 2\n",
      "GGOEGAAX0367: 2\n",
      "GGOEGAAX0566: 2\n",
      "GGOEGAAX0567: 2\n",
      "GGOEGAAX0568: 2\n",
      "GGOEGAAX0569: 2\n",
      "GGOEGAAX0570: 2\n",
      "GGOEGAAX0571: 2\n",
      "GGOEGAAX0572: 2\n",
      "GGOEGAAX0573: 2\n",
      "GGOEGAAX0574: 2\n",
      "GGOEGAAX0575: 2\n",
      "GGOEGAAX0576: 2\n",
      "GGOEGAAX0577: 2\n",
      "GGOEGAAX0578: 2\n",
      "GGOEGAAX0579: 2\n",
      "GGOEGAAX0580: 2\n",
      "GGOEGAAX0581: 2\n",
      "GGOEGAAX0582: 2\n",
      "GGOEGAAX0583: 2\n",
      "GGOEGAAX0584: 2\n",
      "GGOEGAAX0585: 2\n",
      "GGOEGAAX0586: 2\n",
      "GGOEGAAX0587: 2\n",
      "GGOEGAAX0588: 2\n",
      "GGOEGAAX0589: 2\n",
      "GGOEGAAX0590: 2\n",
      "GGOEGAAX0591: 2\n",
      "GGOEGAAX0592: 2\n",
      "GGOEGAAX0593: 2\n",
      "GGOEGAAX0594: 2\n",
      "GGOEGAAX0595: 2\n",
      "GGOEGAAX0596: 2\n",
      "GGOEGAAX0597: 2\n",
      "GGOEGAAX0598: 2\n",
      "GGOEGAAX0599: 2\n",
      "GGOEGAAX0600: 2\n",
      "GGOEGAAX0601: 2\n",
      "GGOEGAAX0602: 2\n",
      "GGOEGAAX0603: 2\n",
      "GGOEGAAX0604: 2\n",
      "GGOEGAAX0605: 2\n",
      "GGOEGAAX0606: 2\n",
      "GGOEGAAX0607: 2\n",
      "GGOEGAAX0610: 2\n",
      "GGOEGAAX0611: 2\n",
      "GGOEGAAX0612: 2\n",
      "GGOEGAAX0613: 2\n",
      "GGOEGAAX0614: 2\n",
      "GGOEGAAX0615: 2\n",
      "GGOEGAAX0616: 2\n",
      "GGOEGAAX0617: 2\n",
      "GGOEGAAX0618: 2\n",
      "GGOEGAAX0619: 2\n",
      "GGOEGAAX0620: 2\n",
      "GGOEGAAX0621: 2\n",
      "GGOEGAAX0622: 2\n",
      "GGOEGAAX0623: 2\n",
      "GGOEGAAX0624: 2\n",
      "GGOEGAAX0625: 2\n",
      "GGOEGAAX0626: 2\n",
      "GGOEGAAX0627: 2\n",
      "GGOEGAAX0628: 2\n",
      "GGOEGAAX0651: 2\n",
      "GGOEGAAX0652: 2\n",
      "GGOEGAAX0653: 2\n",
      "GGOEGAAX0654: 2\n",
      "GGOEGAAX0655: 2\n",
      "GGOEGAAX0656: 2\n",
      "GGOEGAAX0657: 2\n",
      "GGOEGAAX0659: 2\n",
      "GGOEGAAX0660: 2\n",
      "GGOEGAAX0661: 2\n",
      "GGOEGAAX0662: 2\n",
      "GGOEGAAX0663: 2\n",
      "GGOEGAAX0664: 2\n",
      "GGOEGAAX0671: 2\n",
      "GGOEGAAX0679: 2\n",
      "GGOEGAAX0680: 2\n",
      "GGOEGAAX0681: 2\n",
      "GGOEGAAX0682: 2\n",
      "GGOEGAAX0683: 2\n",
      "GGOEGAAX0684: 2\n",
      "GGOEGAAX0685: 2\n",
      "GGOEGAAX0686: 2\n",
      "GGOEGAAX0687: 2\n",
      "GGOEGAAX0688: 2\n",
      "GGOEGAAX0689: 2\n",
      "GGOEGAAX0690: 2\n",
      "GGOEGAAX0729: 2\n",
      "GGOEGAAX0730: 2\n",
      "GGOEGAAX0731: 2\n",
      "GGOEGAAX0732: 2\n",
      "GGOEGAAX0733: 2\n",
      "GGOEGAAX0734: 2\n",
      "GGOEGAAX0735: 2\n",
      "GGOEGAAX0746: 2\n",
      "GGOEGAAX0781: 2\n",
      "GGOEGAAX0795: 2\n",
      "GGOEGACB023699: 2\n",
      "GGOEGADB056614: 2\n",
      "GGOEGADB056615: 2\n",
      "GGOEGADB056616: 2\n",
      "GGOEGADB056617: 2\n",
      "GGOEGADB056618: 2\n",
      "GGOEGADB056713: 2\n",
      "GGOEGADB056714: 2\n",
      "GGOEGADB056715: 2\n",
      "GGOEGADB056716: 2\n",
      "GGOEGADB056717: 2\n",
      "GGOEGADB056914: 2\n",
      "GGOEGADB056915: 2\n",
      "GGOEGADB056916: 2\n",
      "GGOEGADB056918: 2\n",
      "GGOEGADB057313: 2\n",
      "GGOEGADB057314: 2\n",
      "GGOEGADB057315: 2\n",
      "GGOEGADB057316: 2\n",
      "GGOEGADB057317: 2\n",
      "GGOEGADB057318: 2\n",
      "GGOEGADB059213: 2\n",
      "GGOEGADB059215: 2\n",
      "GGOEGADB059216: 2\n",
      "GGOEGADB059613: 2\n",
      "GGOEGADB059614: 2\n",
      "GGOEGADB059615: 2\n",
      "GGOEGADB059616: 2\n",
      "GGOEGADB059617: 2\n",
      "GGOEGADC059314: 2\n",
      "GGOEGADC059515: 2\n",
      "GGOEGADC059516: 2\n",
      "GGOEGADJ056813: 2\n",
      "GGOEGADJ056814: 2\n",
      "GGOEGADJ056815: 2\n",
      "GGOEGADJ056816: 2\n",
      "GGOEGADJ056817: 2\n",
      "GGOEGADJ056818: 2\n",
      "GGOEGADJ057113: 2\n",
      "GGOEGADJ057114: 2\n",
      "GGOEGADJ057115: 2\n",
      "GGOEGADJ057116: 2\n",
      "GGOEGADJ059413: 2\n",
      "GGOEGADJ059415: 2\n",
      "GGOEGADJ059416: 2\n",
      "GGOEGADJ059714: 2\n",
      "GGOEGADJ059715: 2\n",
      "GGOEGADJ059716: 2\n",
      "GGOEGADJ059717: 2\n",
      "GGOEGAEA030413: 2\n",
      "GGOEGAEA030414: 2\n",
      "GGOEGAEA030415: 2\n",
      "GGOEGAEA030416: 2\n",
      "GGOEGAEA030614: 2\n",
      "GGOEGAEB027813: 2\n",
      "GGOEGAEB027814: 2\n",
      "GGOEGAEB027815: 2\n",
      "GGOEGAEB027816: 2\n",
      "GGOEGAEB028614: 2\n",
      "GGOEGAEB028615: 2\n",
      "GGOEGAEB031513: 2\n",
      "GGOEGAEB031514: 2\n",
      "GGOEGAEB031515: 2\n",
      "GGOEGAEB031516: 2\n",
      "GGOEGAEC029113: 2\n",
      "GGOEGAEC029114: 2\n",
      "GGOEGAEC029115: 2\n",
      "GGOEGAEC029116: 2\n",
      "GGOEGAEC033113: 2\n",
      "GGOEGAEC033114: 2\n",
      "GGOEGAEC033115: 2\n",
      "GGOEGAEC033116: 2\n",
      "GGOEGAEC033117: 2\n",
      "GGOEGAEJ028015: 2\n",
      "GGOEGAEJ028113: 2\n",
      "GGOEGAEJ028513: 2\n",
      "GGOEGAEJ028917: 2\n",
      "GGOEGAEJ029813: 2\n",
      "GGOEGAEJ029816: 2\n",
      "GGOEGAEJ029914: 2\n",
      "GGOEGAEJ029915: 2\n",
      "GGOEGAEJ030714: 2\n",
      "GGOEGAEJ030715: 2\n",
      "GGOEGAEJ030716: 2\n",
      "GGOEGAEJ031313: 2\n",
      "GGOEGAEJ031314: 2\n",
      "GGOEGAEJ031315: 2\n",
      "GGOEGAEJ031316: 2\n",
      "GGOEGAEJ031317: 2\n",
      "GGOEGAEJ033314: 2\n",
      "GGOEGAEJ033315: 2\n",
      "GGOEGAEJ035313: 2\n",
      "GGOEGAEJ035314: 2\n",
      "GGOEGAEJ035315: 2\n",
      "GGOEGAEJ035316: 2\n",
      "GGOEGAEQ027913: 2\n",
      "GGOEGAEQ027914: 2\n",
      "GGOEGAEQ027915: 2\n",
      "GGOEGAEQ027916: 2\n",
      "GGOEGAER029213: 2\n",
      "GGOEGAER029215: 2\n",
      "GGOEGAER029713: 2\n",
      "GGOEGAER029714: 2\n",
      "GGOEGAER029715: 2\n",
      "GGOEGAER029716: 2\n",
      "GGOEGAER033213: 2\n",
      "GGOEGAER033214: 2\n",
      "GGOEGAER035514: 2\n",
      "GGOEGAFB035813: 2\n",
      "GGOEGAFB035814: 2\n",
      "GGOEGAFB035815: 2\n",
      "GGOEGAFB035816: 2\n",
      "GGOEGAFB035817: 2\n",
      "GGOEGAFJ036213: 2\n",
      "GGOEGAFJ036214: 2\n",
      "GGOEGAFJ036215: 2\n",
      "GGOEGAFJ036216: 2\n",
      "GGOEGAFJ036217: 2\n",
      "GGOEGAHB057414: 2\n",
      "GGOEGAHB057416: 2\n",
      "GGOEGALB034113: 2\n",
      "GGOEGALB034115: 2\n",
      "GGOEGALB036513: 2\n",
      "GGOEGALB036514: 2\n",
      "GGOEGALB036515: 2\n",
      "GGOEGALB059913: 2\n",
      "GGOEGALB059914: 2\n",
      "GGOEGALB059915: 2\n",
      "GGOEGALH036714: 2\n",
      "GGOEGALH036715: 2\n",
      "GGOEGALH036717: 2\n",
      "GGOEGALJ034413: 2\n",
      "GGOEGALJ036413: 2\n",
      "GGOEGALJ036414: 2\n",
      "GGOEGALJ036415: 2\n",
      "GGOEGALJ036416: 2\n",
      "GGOEGALJ057914: 2\n",
      "GGOEGALJ073313: 2\n"
     ]
    },
    {
     "name": "stdout",
     "output_type": "stream",
     "text": [
      "GGOEGALJ073314: 2\n",
      "GGOEGALL060013: 2\n",
      "GGOEGALL074614: 2\n",
      "GGOEGALL074615: 2\n",
      "GGOEGALP034313: 2\n",
      "GGOEGALP034314: 2\n",
      "GGOEGALP034316: 2\n",
      "GGOEGALP036314: 2\n",
      "GGOEGALP036315: 2\n",
      "GGOEGALP036317: 2\n",
      "GGOEGALQ034214: 2\n",
      "GGOEGALQ034215: 2\n",
      "GGOEGALQ034217: 2\n",
      "GGOEGALQ036614: 2\n",
      "GGOEGALQ036615: 2\n",
      "GGOEGALQ036616: 2\n",
      "GGOEGALQ036617: 2\n",
      "GGOEGAPB057813: 2\n",
      "GGOEGAPB057814: 2\n",
      "GGOEGAPB057815: 2\n",
      "GGOEGAPB057816: 2\n",
      "GGOEGAPB058212: 2\n",
      "GGOEGAPB058213: 2\n",
      "GGOEGAPB058214: 2\n",
      "GGOEGAPB058215: 2\n",
      "GGOEGAPB058217: 2\n",
      "GGOEGAPB058613: 2\n",
      "GGOEGAPB058614: 2\n",
      "GGOEGAPB058617: 2\n",
      "GGOEGAPJ058012: 2\n",
      "GGOEGAPJ058013: 2\n",
      "GGOEGAPJ058014: 2\n",
      "GGOEGAPJ058017: 2\n",
      "GGOEGAPL058515: 2\n",
      "GGOEGAQB036013: 2\n",
      "GGOEGAQB036014: 2\n",
      "GGOEGAQB036015: 2\n",
      "GGOEGAQB036016: 2\n",
      "GGOEGAQB036017: 2\n",
      "GGOEGAQJ058714: 2\n",
      "GGOEGAQJ058715: 2\n",
      "GGOEGARJ058413: 2\n",
      "GGOEGATB060213: 2\n",
      "GGOEGATB060215: 2\n",
      "GGOEGATB060413: 2\n",
      "GGOEGATB060414: 2\n",
      "GGOEGATB060415: 2\n",
      "GGOEGATB060417: 2\n",
      "GGOEGATC060313: 2\n",
      "GGOEGATC060314: 2\n",
      "GGOEGATH060713: 2\n",
      "GGOEGATJ060516: 2\n",
      "GGOEGAUC057712: 2\n",
      "GGOEGAUC057714: 2\n",
      "GGOEGAUC057717: 2\n",
      "GGOEGAWC061248: 2\n",
      "GGOEGAWC061249: 2\n",
      "GGOEGAWC062150: 2\n",
      "GGOEGAWC062848: 2\n",
      "GGOEGAWC062849: 2\n",
      "GGOEGAWC062850: 2\n",
      "GGOEGAWH061348: 2\n",
      "GGOEGAWH061349: 2\n",
      "GGOEGAWH061353: 2\n",
      "GGOEGAWH061354: 2\n",
      "GGOEGAWN062748: 2\n",
      "GGOEGAWN062749: 2\n",
      "GGOEGAWN062750: 2\n",
      "GGOEGAWQ062248: 2\n",
      "GGOEGAWQ062249: 2\n",
      "GGOEGAWQ062250: 2\n",
      "GGOEGAWR061049: 2\n",
      "GGOEGAWR061050: 2\n",
      "GGOEGAWR061053: 2\n",
      "GGOEGAWR061148: 2\n",
      "GGOEGAWR061149: 2\n",
      "GGOEGAWR061153: 2\n",
      "GGOEGAWR061849: 2\n",
      "GGOEGAWR061850: 2\n",
      "GGOEGAXC065229: 2\n",
      "GGOEGAXC065255: 2\n",
      "GGOEGAXC065628: 2\n",
      "GGOEGAXC065629: 2\n",
      "GGOEGAXC065630: 2\n",
      "GGOEGAXC065655: 2\n",
      "GGOEGAXH065329: 2\n",
      "GGOEGAXH065330: 2\n",
      "GGOEGAXJ065529: 2\n",
      "GGOEGAXJ065728: 2\n",
      "GGOEGAXJ065729: 2\n",
      "GGOEGAXJ065755: 2\n",
      "GGOEGAXL065928: 2\n",
      "GGOEGAXL065929: 2\n",
      "GGOEGAXL065930: 2\n",
      "GGOEGAXL065955: 2\n",
      "GGOEGAXQ067128: 2\n",
      "GGOEGAXQ067155: 2\n",
      "GGOEGAXR066030: 2\n",
      "GGOEGAXT065429: 2\n",
      "GGOEGAXT065455: 2\n",
      "GGOEGAYB068024: 2\n",
      "GGOEGAYB068025: 2\n",
      "GGOEGAYB068026: 2\n",
      "GGOEGAYB068056: 2\n",
      "GGOEGAYC068324: 2\n",
      "GGOEGAYH067925: 2\n",
      "GGOEGAYH067926: 2\n",
      "GGOEGAYH068424: 2\n",
      "GGOEGAYH068425: 2\n",
      "GGOEGAYH068426: 2\n",
      "GGOEGAYL068125: 2\n",
      "GGOEGAYQ068925: 2\n",
      "GGOEGAYQ068926: 2\n",
      "GGOEGAYQ068956: 2\n",
      "GGOEGAYQ069024: 2\n",
      "GGOEGAYQ069025: 2\n",
      "GGOEGAYQ069026: 2\n",
      "GGOEGAYR023499: 2\n",
      "GGOEGAYR068224: 2\n",
      "GGOEGAYR068256: 2\n",
      "GGOEGBCR024399: 2\n",
      "GGOEGBFC018799: 2\n",
      "GGOEGBJB022599: 2\n",
      "GGOEGBJC014399: 2\n",
      "GGOEGBJC019999: 2\n",
      "GGOEGBJL013999: 2\n",
      "GGOEGBJR018199: 2\n",
      "GGOEGBMB073599: 2\n",
      "GGOEGBMB073799: 2\n",
      "GGOEGBMC056599: 2\n",
      "GGOEGBMC073699: 2\n",
      "GGOEGBMJ013399: 2\n",
      "GGOEGBPB021199: 2\n",
      "GGOEGBPB081999: 2\n",
      "GGOEGBPB082099: 2\n",
      "GGOEGBRA037499: 2\n",
      "GGOEGBRB013899: 2\n",
      "GGOEGBRB079599: 2\n",
      "GGOEGBRC021399: 2\n",
      "GGOEGBRD079699: 2\n",
      "GGOEGBRJ037299: 2\n",
      "GGOEGBRJ037399: 2\n",
      "GGOEGBRP037599: 2\n",
      "GGOEGCBB074199: 2\n",
      "GGOEGCBB074399: 2\n",
      "GGOEGCBC016999: 2\n",
      "GGOEGCBC074299: 2\n",
      "GGOEGCBN016899: 2\n",
      "GGOEGCBQ016499: 2\n",
      "GGOEGCGB022199: 2\n",
      "GGOEGCKQ013199: 2\n",
      "GGOEGCLB020832: 2\n",
      "GGOEGCMB020932: 2\n",
      "GGOEGCNB021099: 2\n",
      "GGOEGCVB072399: 2\n",
      "GGOEGDHB071999: 2\n",
      "GGOEGDHB072099: 2\n",
      "GGOEGDHB072199: 2\n",
      "GGOEGDHC015299: 2\n",
      "GGOEGDHC017999: 2\n",
      "GGOEGDHC018299: 2\n",
      "GGOEGDHC022999: 2\n",
      "GGOEGDHC074099: 2\n",
      "GGOEGDHC082299: 2\n",
      "GGOEGDHG014499: 2\n",
      "GGOEGDHG082499: 2\n",
      "GGOEGDHJ023099: 2\n",
      "GGOEGDHQ014899: 2\n",
      "GGOEGDHQ015399: 2\n",
      "GGOEGDHR018499: 2\n",
      "GGOEGDHR082199: 2\n",
      "GGOEGDWC020199: 2\n",
      "GGOEGDWR015799: 2\n",
      "GGOEGEFQ071399: 2\n",
      "GGOEGEFR024199: 2\n",
      "GGOEGEHQ024099: 2\n",
      "GGOEGEHQ071199: 2\n",
      "GGOEGEHQ072499: 2\n",
      "GGOEGEHQ072599: 2\n",
      "GGOEGESB015099: 2\n",
      "GGOEGESB015199: 2\n",
      "GGOEGESC014099: 2\n",
      "GGOEGESC014699: 2\n",
      "GGOEGESQ016799: 2\n",
      "GGOEGETB023799: 2\n",
      "GGOEGETR014599: 2\n",
      "GGOEGEVA022399: 2\n",
      "GGOEGEVB070499: 2\n",
      "GGOEGEVB070599: 2\n",
      "GGOEGEVB070699: 2\n",
      "GGOEGEVB070899: 2\n",
      "GGOEGEVB071799: 2\n",
      "GGOEGEVJ023999: 2\n",
      "GGOEGEVR014999: 2\n",
      "GGOEGFAQ016699: 2\n",
      "GGOEGFKA022299: 2\n",
      "GGOEGFKQ020399: 2\n",
      "GGOEGFKQ020799: 2\n",
      "GGOEGFQB013799: 2\n",
      "GGOEGFSR022099: 2\n",
      "GGOEGFYQ016599: 2\n",
      "GGOEGGCX056199: 2\n",
      "GGOEGGCX056299: 2\n",
      "GGOEGGCX056399: 2\n",
      "GGOEGGCX056499: 2\n",
      "GGOEGGOA017399: 2\n",
      "GGOEGHGC019799: 2\n",
      "GGOEGHGH019699: 2\n",
      "GGOEGHGR019499: 2\n",
      "GGOEGHGT019599: 2\n",
      "GGOEGHPA002910: 2\n",
      "GGOEGHPA003010: 2\n",
      "GGOEGHPB003410: 2\n",
      "GGOEGHPB071610: 2\n",
      "GGOEGHPJ080010: 2\n",
      "GGOEGHPJ080110: 2\n",
      "GGOEGHPJ080310: 2\n",
      "GGOEGHPL003113: 2\n",
      "GGOEGHPL003214: 2\n",
      "GGOEGKAA019299: 2\n",
      "GGOEGKWQ060910: 2\n",
      "GGOEGKWR060810: 2\n",
      "GGOEGOAA017099: 2\n",
      "GGOEGOAA017199: 2\n",
      "GGOEGOAB012999: 2\n",
      "GGOEGOAB015899: 2\n",
      "GGOEGOAB016099: 2\n",
      "GGOEGOAB021499: 2\n",
      "GGOEGOAB021699: 2\n",
      "GGOEGOAB022499: 2\n",
      "GGOEGOAC016199: 2\n",
      "GGOEGOAC021799: 2\n",
      "GGOEGOAJ021599: 2\n",
      "GGOEGOAQ012899: 2\n",
      "GGOEGOAQ015999: 2\n",
      "GGOEGOAQ018099: 2\n",
      "GGOEGOAQ020099: 2\n",
      "GGOEGOAR013099: 2\n",
      "GGOEGOAR013599: 2\n",
      "GGOEGOAR021899: 2\n",
      "GGOEGOAR021999: 2\n",
      "GGOEGOBC078699: 2\n",
      "GGOEGOBG023599: 2\n",
      "GGOEGOCB017499: 2\n",
      "GGOEGOCB078299: 2\n",
      "GGOEGOCC017599: 2\n",
      "GGOEGOCC077299: 2\n",
      "GGOEGOCC077999: 2\n",
      "GGOEGOCD078199: 2\n",
      "GGOEGOCD078399: 2\n",
      "GGOEGOCL077699: 2\n",
      "GGOEGOCR017899: 2\n",
      "GGOEGOCR078499: 2\n",
      "GGOEGOCT019199: 2\n",
      "GGOEGODR017799: 2\n",
      "GGOEGOFH020299: 2\n",
      "GGOEGOGA016299: 2\n",
      "GGOEGOLC013299: 2\n",
      "GGOEGOLC014299: 2\n",
      "GGOEGOXQ016399: 2\n",
      "GGOEGPJC019099: 2\n",
      "GGOEGPJC203399: 2\n",
      "GGOEGPJR018999: 2\n",
      "GGOEGPXC023299: 2\n",
      "GGOEGPXR023199: 2\n",
      "GGOEGXXX0806: 2\n",
      "GGOEGXXX0807: 2\n",
      "GGOEWAAJ082814: 2\n",
      "GGOEWAAJ082815: 2\n",
      "GGOEWAAJ082816: 2\n",
      "GGOEWAAJ083514: 2\n",
      "GGOEWAAJ083515: 2\n",
      "GGOEWAAJ083516: 2\n",
      "GGOEWALJ082714: 2\n",
      "GGOEWALJ083414: 2\n",
      "GGOEWALJ083416: 2\n",
      "GGOEWEBB082699: 2\n",
      "GGOEWFKA082999: 2\n",
      "GGOEWFKA083099: 2\n",
      "GGOEWFKA083199: 2\n",
      "GGOEWFKA083299: 2\n",
      "GGOEWXXX0827: 2\n",
      "GGOEWXXX0828: 2\n",
      "GGOEWXXX0834: 2\n",
      "GGOEWXXX0835: 2\n",
      "GGOEYAAB031813: 2\n",
      "GGOEYAAB031814: 2\n",
      "GGOEYAAB031815: 2\n",
      "GGOEYAAB031816: 2\n",
      "GGOEYAAB031817: 2\n",
      "GGOEYAAB034613: 2\n",
      "GGOEYAAB034614: 2\n",
      "GGOEYAAB034615: 2\n",
      "GGOEYAAB034616: 2\n",
      "GGOEYAAB034617: 2\n",
      "GGOEYAAJ032513: 2\n",
      "GGOEYAAJ032514: 2\n",
      "GGOEYAAJ032515: 2\n",
      "GGOEYAAJ032516: 2\n",
      "GGOEYAAJ032517: 2\n",
      "GGOEYAAJ033014: 2\n",
      "GGOEYAAJ033017: 2\n",
      "GGOEYAAQ031713: 2\n",
      "GGOEYAAQ031714: 2\n",
      "GGOEYAAQ031715: 2\n",
      "GGOEYAAQ031716: 2\n",
      "GGOEYAAQ031717: 2\n",
      "GGOEYAEA030513: 2\n",
      "GGOEYAEA030514: 2\n",
      "GGOEYAEA030515: 2\n",
      "GGOEYAEA035113: 2\n",
      "GGOEYAEA035114: 2\n",
      "GGOEYAEA035115: 2\n",
      "GGOEYAEB031413: 2\n",
      "GGOEYAEB035614: 2\n",
      "GGOEYAEJ029013: 2\n",
      "GGOEYAEJ029014: 2\n",
      "GGOEYAEJ029015: 2\n",
      "GGOEYAEJ029513: 2\n",
      "GGOEYAEJ029514: 2\n",
      "GGOEYAEJ029515: 2\n",
      "GGOEYAEJ029517: 2\n",
      "GGOEYAEJ029616: 2\n",
      "GGOEYAEJ033514: 2\n",
      "GGOEYAEJ033515: 2\n",
      "GGOEYAEJ033516: 2\n",
      "GGOEYAFB073113: 2\n",
      "GGOEYAFB073114: 2\n",
      "GGOEYAFB073115: 2\n",
      "GGOEYAFB073116: 2\n",
      "GGOEYAFB073117: 2\n",
      "GGOEYAQB073213: 2\n",
      "GGOEYAQB073214: 2\n",
      "GGOEYAQB073215: 2\n",
      "GGOEYAQB073217: 2\n",
      "GGOEYAWJ061448: 2\n",
      "GGOEYAWJ061449: 2\n",
      "GGOEYAWR062349: 2\n",
      "GGOEYAWR062350: 2\n",
      "GGOEYAXR066128: 2\n",
      "GGOEYAXR066129: 2\n",
      "GGOEYAXR066130: 2\n",
      "GGOEYAYR068624: 2\n",
      "GGOEYAYR068625: 2\n",
      "GGOEYAYR068626: 2\n",
      "GGOEYAYR068656: 2\n",
      "GGOEYDHJ019399: 2\n",
      "GGOEYDHJ056099: 2\n",
      "GGOEYFKQ020699: 2\n",
      "GGOEYHPA003510: 2\n",
      "GGOEYHPA003610: 2\n",
      "GGOEYHPB072210: 2\n",
      "GGOEYOBR078599: 2\n",
      "GGOEYOCR077399: 2\n",
      "GGOEYOCR077799: 2\n",
      "GGOEYOCR078099: 2\n",
      "GGOEYOLR018699: 2\n",
      "GGOEYOLR080599: 2\n",
      "preco: 13589\n",
      "browser: 27\n",
      "browserSize: 1\n",
      "browserVersion: 1\n",
      "deviceCategory: 3\n",
      "flashVersion: 1\n",
      "isMobile: 2\n",
      "javaEnabled: 1\n",
      "language: 1\n",
      "mobileDeviceBranding: 1\n",
      "mobileDeviceInfo: 1\n",
      "mobileDeviceMarketingName: 1\n",
      "mobileDeviceModel: 1\n",
      "mobileInputSelector: 1\n",
      "operatingSystem: 15\n",
      "operatingSystemVersion: 1\n",
      "screenColors: 1\n",
      "screenResolution: 1\n",
      "adContent: 15\n",
      "campaign: 3\n",
      "campaignCode: 1\n",
      "isTrueDirect: 2\n",
      "keyword: 84\n",
      "medium: 7\n",
      "referralPath: 268\n",
      "source: 95\n",
      "city: 191\n",
      "cityId: 1\n",
      "continent: 6\n",
      "country: 177\n",
      "latitude: 1\n",
      "longitude: 1\n",
      "metro: 41\n",
      "networkDomain: 5016\n",
      "networkLocation: 1\n",
      "region: 136\n",
      "subContinent: 22\n",
      "bounces: 2\n",
      "hits: 140\n",
      "newVisits: 2\n",
      "pageviews: 108\n",
      "screenviews: 1\n",
      "sessionQualityDim: 1\n",
      "timeOnScreen: 1\n",
      "timeOnSite: 2146\n",
      "totalTransactionRevenue: 551\n",
      "transactionRevenue: 478\n",
      "transactions: 4\n",
      "uniqueScreenviews: 1\n",
      "visits: 1\n"
     ]
    }
   ],
   "source": [
    "import json\n",
    "\n",
    "# Transformando as chaves dos dicionários em novas colunas\n",
    "for coluna in dicionarios:\n",
    "    visitas = visitas.join(pd.DataFrame([json.loads(json.dumps(linha)) for linha in visitas[coluna]]),rsuffix=('_'+ coluna))\n",
    "visitas.drop(dicionarios, axis=1, inplace=True)\n",
    "\n",
    "\n",
    "# Corrigindo o formato das colunas com valores quantitativos\n",
    "totals = df.totals[0].keys()\n",
    "totals = list(totals)\n",
    "for coluna in totals:\n",
    "    visitas[coluna] = pd.to_numeric(visitas[coluna])\n",
    "\n",
    "\n",
    "# Limpando os dados\n",
    "visitas.drop('adwordsClickInfo',axis=1,inplace=True)\n",
    "coluna_na = []\n",
    "for coluna in visitas.columns:\n",
    "    print(coluna + ': ' + str(len(visitas[coluna].unique())))\n",
    "    if len(visitas[coluna].unique()) == 1:\n",
    "        coluna_na.append(coluna)\n",
    "visitas.drop(coluna_na,axis=1,inplace=True)"
   ]
  },
  {
   "cell_type": "code",
   "execution_count": 0,
   "metadata": {
    "colab": {},
    "colab_type": "code",
    "id": "WlKloMcdIY29",
    "outputId": "37a16373-b6c9-4736-dbf3-1fc0b4b6d13a"
   },
   "outputs": [
    {
     "data": {
      "text/html": [
       "<div>\n",
       "<style scoped>\n",
       "    .dataframe tbody tr th:only-of-type {\n",
       "        vertical-align: middle;\n",
       "    }\n",
       "\n",
       "    .dataframe tbody tr th {\n",
       "        vertical-align: top;\n",
       "    }\n",
       "\n",
       "    .dataframe thead th {\n",
       "        text-align: right;\n",
       "    }\n",
       "</style>\n",
       "<table border=\"1\" class=\"dataframe\">\n",
       "  <thead>\n",
       "    <tr style=\"text-align: right;\">\n",
       "      <th></th>\n",
       "      <th>visitNumber</th>\n",
       "      <th>visitId</th>\n",
       "      <th>visitStartTime</th>\n",
       "      <th>date</th>\n",
       "      <th>fullVisitorId</th>\n",
       "      <th>channelGrouping</th>\n",
       "      <th>10 52048</th>\n",
       "      <th>10 52147</th>\n",
       "      <th>10 52211</th>\n",
       "      <th>10 52213</th>\n",
       "      <th>...</th>\n",
       "      <th>region</th>\n",
       "      <th>subContinent</th>\n",
       "      <th>bounces</th>\n",
       "      <th>hits</th>\n",
       "      <th>newVisits</th>\n",
       "      <th>pageviews</th>\n",
       "      <th>timeOnSite</th>\n",
       "      <th>totalTransactionRevenue</th>\n",
       "      <th>transactionRevenue</th>\n",
       "      <th>transactions</th>\n",
       "    </tr>\n",
       "  </thead>\n",
       "  <tbody>\n",
       "    <tr>\n",
       "      <th>0</th>\n",
       "      <td>1</td>\n",
       "      <td>1485675881</td>\n",
       "      <td>1485675881</td>\n",
       "      <td>20170128</td>\n",
       "      <td>9110054506220104806</td>\n",
       "      <td>Organic Search</td>\n",
       "      <td>0</td>\n",
       "      <td>0</td>\n",
       "      <td>0</td>\n",
       "      <td>0</td>\n",
       "      <td>...</td>\n",
       "      <td>not available in demo dataset</td>\n",
       "      <td>Eastern Europe</td>\n",
       "      <td>1.0</td>\n",
       "      <td>1</td>\n",
       "      <td>1.0</td>\n",
       "      <td>1.0</td>\n",
       "      <td>NaN</td>\n",
       "      <td>NaN</td>\n",
       "      <td>NaN</td>\n",
       "      <td>NaN</td>\n",
       "    </tr>\n",
       "    <tr>\n",
       "      <th>1</th>\n",
       "      <td>1</td>\n",
       "      <td>1485602993</td>\n",
       "      <td>1485602993</td>\n",
       "      <td>20170128</td>\n",
       "      <td>3810132494152562005</td>\n",
       "      <td>Organic Search</td>\n",
       "      <td>0</td>\n",
       "      <td>0</td>\n",
       "      <td>0</td>\n",
       "      <td>0</td>\n",
       "      <td>...</td>\n",
       "      <td>not available in demo dataset</td>\n",
       "      <td>Eastern Europe</td>\n",
       "      <td>1.0</td>\n",
       "      <td>1</td>\n",
       "      <td>1.0</td>\n",
       "      <td>1.0</td>\n",
       "      <td>NaN</td>\n",
       "      <td>NaN</td>\n",
       "      <td>NaN</td>\n",
       "      <td>NaN</td>\n",
       "    </tr>\n",
       "    <tr>\n",
       "      <th>2</th>\n",
       "      <td>1</td>\n",
       "      <td>1485628695</td>\n",
       "      <td>1485628695</td>\n",
       "      <td>20170128</td>\n",
       "      <td>4400063200645767842</td>\n",
       "      <td>Organic Search</td>\n",
       "      <td>0</td>\n",
       "      <td>0</td>\n",
       "      <td>0</td>\n",
       "      <td>0</td>\n",
       "      <td>...</td>\n",
       "      <td>(not set)</td>\n",
       "      <td>(not set)</td>\n",
       "      <td>1.0</td>\n",
       "      <td>1</td>\n",
       "      <td>1.0</td>\n",
       "      <td>1.0</td>\n",
       "      <td>NaN</td>\n",
       "      <td>NaN</td>\n",
       "      <td>NaN</td>\n",
       "      <td>NaN</td>\n",
       "    </tr>\n",
       "    <tr>\n",
       "      <th>3</th>\n",
       "      <td>1</td>\n",
       "      <td>1485597945</td>\n",
       "      <td>1485597945</td>\n",
       "      <td>20170128</td>\n",
       "      <td>873940342507321146</td>\n",
       "      <td>Organic Search</td>\n",
       "      <td>0</td>\n",
       "      <td>0</td>\n",
       "      <td>0</td>\n",
       "      <td>0</td>\n",
       "      <td>...</td>\n",
       "      <td>not available in demo dataset</td>\n",
       "      <td>Western Europe</td>\n",
       "      <td>1.0</td>\n",
       "      <td>1</td>\n",
       "      <td>1.0</td>\n",
       "      <td>1.0</td>\n",
       "      <td>NaN</td>\n",
       "      <td>NaN</td>\n",
       "      <td>NaN</td>\n",
       "      <td>NaN</td>\n",
       "    </tr>\n",
       "    <tr>\n",
       "      <th>4</th>\n",
       "      <td>1</td>\n",
       "      <td>1485644479</td>\n",
       "      <td>1485644479</td>\n",
       "      <td>20170128</td>\n",
       "      <td>6583696268634928336</td>\n",
       "      <td>Organic Search</td>\n",
       "      <td>0</td>\n",
       "      <td>0</td>\n",
       "      <td>0</td>\n",
       "      <td>0</td>\n",
       "      <td>...</td>\n",
       "      <td>Ile-de-France</td>\n",
       "      <td>Western Europe</td>\n",
       "      <td>1.0</td>\n",
       "      <td>1</td>\n",
       "      <td>1.0</td>\n",
       "      <td>1.0</td>\n",
       "      <td>NaN</td>\n",
       "      <td>NaN</td>\n",
       "      <td>NaN</td>\n",
       "      <td>NaN</td>\n",
       "    </tr>\n",
       "  </tbody>\n",
       "</table>\n",
       "<p>5 rows × 1142 columns</p>\n",
       "</div>"
      ],
      "text/plain": [
       "   visitNumber     visitId  visitStartTime      date        fullVisitorId  \\\n",
       "0            1  1485675881      1485675881  20170128  9110054506220104806   \n",
       "1            1  1485602993      1485602993  20170128  3810132494152562005   \n",
       "2            1  1485628695      1485628695  20170128  4400063200645767842   \n",
       "3            1  1485597945      1485597945  20170128   873940342507321146   \n",
       "4            1  1485644479      1485644479  20170128  6583696268634928336   \n",
       "\n",
       "  channelGrouping  10 52048  10 52147  10 52211  10 52213      ...       \\\n",
       "0  Organic Search         0         0         0         0      ...        \n",
       "1  Organic Search         0         0         0         0      ...        \n",
       "2  Organic Search         0         0         0         0      ...        \n",
       "3  Organic Search         0         0         0         0      ...        \n",
       "4  Organic Search         0         0         0         0      ...        \n",
       "\n",
       "                          region    subContinent  bounces  hits  newVisits  \\\n",
       "0  not available in demo dataset  Eastern Europe      1.0     1        1.0   \n",
       "1  not available in demo dataset  Eastern Europe      1.0     1        1.0   \n",
       "2                      (not set)       (not set)      1.0     1        1.0   \n",
       "3  not available in demo dataset  Western Europe      1.0     1        1.0   \n",
       "4                  Ile-de-France  Western Europe      1.0     1        1.0   \n",
       "\n",
       "   pageviews  timeOnSite  totalTransactionRevenue  transactionRevenue  \\\n",
       "0        1.0         NaN                      NaN                 NaN   \n",
       "1        1.0         NaN                      NaN                 NaN   \n",
       "2        1.0         NaN                      NaN                 NaN   \n",
       "3        1.0         NaN                      NaN                 NaN   \n",
       "4        1.0         NaN                      NaN                 NaN   \n",
       "\n",
       "   transactions  \n",
       "0           NaN  \n",
       "1           NaN  \n",
       "2           NaN  \n",
       "3           NaN  \n",
       "4           NaN  \n",
       "\n",
       "[5 rows x 1142 columns]"
      ]
     },
     "execution_count": 24,
     "metadata": {
      "tags": []
     },
     "output_type": "execute_result"
    }
   ],
   "source": [
    "visitas.head()"
   ]
  },
  {
   "cell_type": "code",
   "execution_count": 0,
   "metadata": {
    "colab": {},
    "colab_type": "code",
    "id": "bNSUGDqIIY3A"
   },
   "outputs": [],
   "source": [
    "visitas.drop('transactionRevenue',axis=1,inplace=True)"
   ]
  },
  {
   "cell_type": "code",
   "execution_count": 0,
   "metadata": {
    "colab": {},
    "colab_type": "code",
    "id": "JTX2a7uVIY3C"
   },
   "outputs": [],
   "source": [
    "visitas.drop('transactions',axis=1,inplace=True)"
   ]
  },
  {
   "cell_type": "code",
   "execution_count": 0,
   "metadata": {
    "colab": {},
    "colab_type": "code",
    "id": "dUsyMbbLIY3D"
   },
   "outputs": [],
   "source": [
    "visitas.totalTransactionRevenue = visitas.totalTransactionRevenue / 1000000"
   ]
  },
  {
   "cell_type": "code",
   "execution_count": 0,
   "metadata": {
    "colab": {},
    "colab_type": "code",
    "id": "kiqTx8ZbIY3F"
   },
   "outputs": [],
   "source": [
    "# Criando lista com variaveis quantitativas\n",
    "quant = list(set(totals) - set(coluna_na) - set(['transactionRevenue','transactions']))\n",
    "\n",
    "#Criando dataframe com os resultadas quantitativos das sessoes\n",
    "visitas_totals = visitas.groupby('fullVisitorId',as_index=False)[quant].sum()\n",
    "\n",
    "# Última visita\n",
    "visitas_ultima = visitas.groupby('fullVisitorId',as_index=False)\n",
    "visitas_ultima = visitas_ultima['visitNumber'].max()\n",
    "\n",
    "# Combinação entre visitantes e visitas únicos\n",
    "usuarios_visitas_unicos = visitas.drop_duplicates(subset=['fullVisitorId','visitNumber'])\n",
    "\n",
    "# Dataframe usuários com todos os usuários unicos e sua última visita\n",
    "usuarios = pd.merge(visitas_ultima,usuarios_visitas_unicos,left_on=['fullVisitorId','visitNumber'],\n",
    "                    right_on=['fullVisitorId','visitNumber'],how='left')\n",
    "\n",
    "# Primeira visita\n",
    "visitas_primeira = visitas.groupby('fullVisitorId',as_index=False)['visitNumber'].min()\n",
    "visitas_primeira.set_index('fullVisitorId',inplace=True)\n",
    "\n",
    "# Dataframe usuários com todos os usuários unicos + sua última visita + primeira visita\n",
    "usuarios = usuarios.join(visitas_primeira,how='left',on='fullVisitorId',rsuffix='_primeira')\n",
    "usuarios = pd.merge(usuarios,usuarios_visitas_unicos,left_on=['fullVisitorId','visitNumber_primeira'],\n",
    "                    right_on=['fullVisitorId','visitNumber'],how='left',suffixes=('_ultima','_primeira'))\n",
    "\n",
    "# Dataframe usuários com todos os usuários unicos + sua última visita + primeira visita + somatório das colunas quant\n",
    "usuarios = pd.merge(usuarios,visitas_totals,left_on=['fullVisitorId'],\n",
    "                    right_on=['fullVisitorId'],how='left')\n",
    "\n",
    "# Removendo totais\n",
    "for i in quant:\n",
    "    usuarios.drop(i+'_primeira',axis=1,inplace=True)\n",
    "    usuarios.drop(i+'_ultima',axis=1,inplace=True)\n",
    "\n",
    "# Calculando o tempo entre primeira e última visista\n",
    "usuarios['tempo_visitas'] = usuarios.visitStartTime_ultima - usuarios.visitStartTime_primeira"
   ]
  },
  {
   "cell_type": "code",
   "execution_count": 0,
   "metadata": {
    "colab": {},
    "colab_type": "code",
    "id": "djQhtKcRIY3H",
    "outputId": "2fdb7220-d9da-4d2f-a671-1e16c85e6527"
   },
   "outputs": [
    {
     "name": "stderr",
     "output_type": "stream",
     "text": [
      "/usr/local/envs/py3env/lib/python3.5/site-packages/ipykernel/__main__.py:20: SettingWithCopyWarning: \n",
      "A value is trying to be set on a copy of a slice from a DataFrame.\n",
      "Try using .loc[row_indexer,col_indexer] = value instead\n",
      "\n",
      "See the caveats in the documentation: http://pandas.pydata.org/pandas-docs/stable/indexing.html#indexing-view-versus-copy\n"
     ]
    }
   ],
   "source": [
    "#Removendo as colunas Ids\n",
    "ids = ['fullVisitorId', 'visitId_ultima','visitId_primeira']\n",
    "usuarios.drop(ids,axis=1,inplace=True)\n",
    "\n",
    "#Criando uma variavel y com a coluna resposta\n",
    "y = usuarios.totalTransactionRevenue.copy()\n",
    "y.fillna(0,inplace=True)\n",
    "y[y<0] = 0\n",
    "\n",
    "#Criando uma variavel X com todas as variaveis menos a resposta\n",
    "X = usuarios.drop('totalTransactionRevenue',axis=1)\n",
    "\n",
    "\n",
    "#Transformando as variaveis qualitativas em numeros\n",
    "from sklearn.preprocessing import LabelEncoder\n",
    "quali = usuarios.dtypes[usuarios.dtypes == 'object'].keys()\n",
    "for col in quali:\n",
    "    lbl = LabelEncoder()\n",
    "    lbl.fit(list(X[col].values.astype('str')))\n",
    "    X[col] = lbl.transform(list(X[col].values.astype('str')))"
   ]
  },
  {
   "cell_type": "code",
   "execution_count": 0,
   "metadata": {
    "colab": {},
    "colab_type": "code",
    "id": "7brAC5_LIY3K",
    "outputId": "ac274685-32c8-4cbe-b263-012f3396ff13"
   },
   "outputs": [
    {
     "data": {
      "text/plain": [
       "(53041, 2271)"
      ]
     },
     "execution_count": 30,
     "metadata": {
      "tags": []
     },
     "output_type": "execute_result"
    }
   ],
   "source": [
    "X.shape"
   ]
  },
  {
   "cell_type": "code",
   "execution_count": 0,
   "metadata": {
    "colab": {},
    "colab_type": "code",
    "id": "66XtEJRzIY3N",
    "outputId": "f92fae22-62a4-4a08-9018-7378c7c3d75a"
   },
   "outputs": [
    {
     "data": {
      "text/html": [
       "<div>\n",
       "<style scoped>\n",
       "    .dataframe tbody tr th:only-of-type {\n",
       "        vertical-align: middle;\n",
       "    }\n",
       "\n",
       "    .dataframe tbody tr th {\n",
       "        vertical-align: top;\n",
       "    }\n",
       "\n",
       "    .dataframe thead th {\n",
       "        text-align: right;\n",
       "    }\n",
       "</style>\n",
       "<table border=\"1\" class=\"dataframe\">\n",
       "  <thead>\n",
       "    <tr style=\"text-align: right;\">\n",
       "      <th></th>\n",
       "      <th>visitNumber_ultima</th>\n",
       "      <th>visitStartTime_ultima</th>\n",
       "      <th>date_ultima</th>\n",
       "      <th>channelGrouping_ultima</th>\n",
       "      <th>10 52048_ultima</th>\n",
       "      <th>10 52147_ultima</th>\n",
       "      <th>10 52211_ultima</th>\n",
       "      <th>10 52213_ultima</th>\n",
       "      <th>10 52223_ultima</th>\n",
       "      <th>10 52225_ultima</th>\n",
       "      <th>...</th>\n",
       "      <th>metro_primeira</th>\n",
       "      <th>networkDomain_primeira</th>\n",
       "      <th>region_primeira</th>\n",
       "      <th>subContinent_primeira</th>\n",
       "      <th>hits</th>\n",
       "      <th>newVisits</th>\n",
       "      <th>bounces</th>\n",
       "      <th>pageviews</th>\n",
       "      <th>timeOnSite</th>\n",
       "      <th>tempo_visitas</th>\n",
       "    </tr>\n",
       "  </thead>\n",
       "  <tbody>\n",
       "    <tr>\n",
       "      <th>0</th>\n",
       "      <td>1</td>\n",
       "      <td>1484597865</td>\n",
       "      <td>15</td>\n",
       "      <td>7</td>\n",
       "      <td>0</td>\n",
       "      <td>0</td>\n",
       "      <td>0</td>\n",
       "      <td>0</td>\n",
       "      <td>0</td>\n",
       "      <td>0</td>\n",
       "      <td>...</td>\n",
       "      <td>40</td>\n",
       "      <td>1075</td>\n",
       "      <td>135</td>\n",
       "      <td>17</td>\n",
       "      <td>1</td>\n",
       "      <td>1.0</td>\n",
       "      <td>1.0</td>\n",
       "      <td>1.0</td>\n",
       "      <td>0.0</td>\n",
       "      <td>0</td>\n",
       "    </tr>\n",
       "    <tr>\n",
       "      <th>1</th>\n",
       "      <td>1</td>\n",
       "      <td>1485675517</td>\n",
       "      <td>27</td>\n",
       "      <td>7</td>\n",
       "      <td>0</td>\n",
       "      <td>0</td>\n",
       "      <td>0</td>\n",
       "      <td>0</td>\n",
       "      <td>0</td>\n",
       "      <td>0</td>\n",
       "      <td>...</td>\n",
       "      <td>40</td>\n",
       "      <td>2545</td>\n",
       "      <td>135</td>\n",
       "      <td>6</td>\n",
       "      <td>1</td>\n",
       "      <td>1.0</td>\n",
       "      <td>1.0</td>\n",
       "      <td>1.0</td>\n",
       "      <td>0.0</td>\n",
       "      <td>0</td>\n",
       "    </tr>\n",
       "    <tr>\n",
       "      <th>2</th>\n",
       "      <td>1</td>\n",
       "      <td>1483595731</td>\n",
       "      <td>3</td>\n",
       "      <td>6</td>\n",
       "      <td>0</td>\n",
       "      <td>0</td>\n",
       "      <td>0</td>\n",
       "      <td>0</td>\n",
       "      <td>0</td>\n",
       "      <td>0</td>\n",
       "      <td>...</td>\n",
       "      <td>36</td>\n",
       "      <td>892</td>\n",
       "      <td>128</td>\n",
       "      <td>12</td>\n",
       "      <td>5</td>\n",
       "      <td>1.0</td>\n",
       "      <td>0.0</td>\n",
       "      <td>5.0</td>\n",
       "      <td>78.0</td>\n",
       "      <td>0</td>\n",
       "    </tr>\n",
       "    <tr>\n",
       "      <th>3</th>\n",
       "      <td>1</td>\n",
       "      <td>1483629067</td>\n",
       "      <td>4</td>\n",
       "      <td>4</td>\n",
       "      <td>0</td>\n",
       "      <td>0</td>\n",
       "      <td>0</td>\n",
       "      <td>0</td>\n",
       "      <td>0</td>\n",
       "      <td>0</td>\n",
       "      <td>...</td>\n",
       "      <td>0</td>\n",
       "      <td>4503</td>\n",
       "      <td>49</td>\n",
       "      <td>21</td>\n",
       "      <td>1</td>\n",
       "      <td>1.0</td>\n",
       "      <td>1.0</td>\n",
       "      <td>1.0</td>\n",
       "      <td>0.0</td>\n",
       "      <td>0</td>\n",
       "    </tr>\n",
       "    <tr>\n",
       "      <th>4</th>\n",
       "      <td>1</td>\n",
       "      <td>1484513468</td>\n",
       "      <td>14</td>\n",
       "      <td>4</td>\n",
       "      <td>0</td>\n",
       "      <td>0</td>\n",
       "      <td>0</td>\n",
       "      <td>0</td>\n",
       "      <td>0</td>\n",
       "      <td>0</td>\n",
       "      <td>...</td>\n",
       "      <td>40</td>\n",
       "      <td>4644</td>\n",
       "      <td>135</td>\n",
       "      <td>13</td>\n",
       "      <td>1</td>\n",
       "      <td>1.0</td>\n",
       "      <td>1.0</td>\n",
       "      <td>1.0</td>\n",
       "      <td>0.0</td>\n",
       "      <td>0</td>\n",
       "    </tr>\n",
       "  </tbody>\n",
       "</table>\n",
       "<p>5 rows × 2271 columns</p>\n",
       "</div>"
      ],
      "text/plain": [
       "   visitNumber_ultima  visitStartTime_ultima  date_ultima  \\\n",
       "0                   1             1484597865           15   \n",
       "1                   1             1485675517           27   \n",
       "2                   1             1483595731            3   \n",
       "3                   1             1483629067            4   \n",
       "4                   1             1484513468           14   \n",
       "\n",
       "   channelGrouping_ultima  10 52048_ultima  10 52147_ultima  10 52211_ultima  \\\n",
       "0                       7                0                0                0   \n",
       "1                       7                0                0                0   \n",
       "2                       6                0                0                0   \n",
       "3                       4                0                0                0   \n",
       "4                       4                0                0                0   \n",
       "\n",
       "   10 52213_ultima  10 52223_ultima  10 52225_ultima      ...        \\\n",
       "0                0                0                0      ...         \n",
       "1                0                0                0      ...         \n",
       "2                0                0                0      ...         \n",
       "3                0                0                0      ...         \n",
       "4                0                0                0      ...         \n",
       "\n",
       "   metro_primeira  networkDomain_primeira  region_primeira  \\\n",
       "0              40                    1075              135   \n",
       "1              40                    2545              135   \n",
       "2              36                     892              128   \n",
       "3               0                    4503               49   \n",
       "4              40                    4644              135   \n",
       "\n",
       "   subContinent_primeira  hits  newVisits  bounces  pageviews  timeOnSite  \\\n",
       "0                     17     1        1.0      1.0        1.0         0.0   \n",
       "1                      6     1        1.0      1.0        1.0         0.0   \n",
       "2                     12     5        1.0      0.0        5.0        78.0   \n",
       "3                     21     1        1.0      1.0        1.0         0.0   \n",
       "4                     13     1        1.0      1.0        1.0         0.0   \n",
       "\n",
       "   tempo_visitas  \n",
       "0              0  \n",
       "1              0  \n",
       "2              0  \n",
       "3              0  \n",
       "4              0  \n",
       "\n",
       "[5 rows x 2271 columns]"
      ]
     },
     "execution_count": 31,
     "metadata": {
      "tags": []
     },
     "output_type": "execute_result"
    }
   ],
   "source": [
    "X.head()"
   ]
  },
  {
   "cell_type": "code",
   "execution_count": 0,
   "metadata": {
    "colab": {},
    "colab_type": "code",
    "id": "ZiOlVQepIY3P"
   },
   "outputs": [],
   "source": [
    "from sklearn.model_selection import train_test_split"
   ]
  },
  {
   "cell_type": "code",
   "execution_count": 0,
   "metadata": {
    "colab": {},
    "colab_type": "code",
    "id": "2rt_-z_2IY3R"
   },
   "outputs": [],
   "source": [
    "X_train, X_test, y_train, y_test = train_test_split(X, y, test_size=0.3, random_state=42)"
   ]
  },
  {
   "cell_type": "code",
   "execution_count": 0,
   "metadata": {
    "colab": {},
    "colab_type": "code",
    "id": "Q8Uvylt7IY3T",
    "outputId": "28a02995-929b-4757-9af6-caaa788842d3"
   },
   "outputs": [
    {
     "data": {
      "text/plain": [
       "(37128, 2271)"
      ]
     },
     "execution_count": 34,
     "metadata": {
      "tags": []
     },
     "output_type": "execute_result"
    }
   ],
   "source": [
    "X_train.shape"
   ]
  },
  {
   "cell_type": "code",
   "execution_count": 0,
   "metadata": {
    "colab": {},
    "colab_type": "code",
    "id": "hJ7fSSJVIY3U",
    "outputId": "387e33c8-2604-4820-958b-02f1d632ebd3"
   },
   "outputs": [
    {
     "data": {
      "text/html": [
       "<div>\n",
       "<style scoped>\n",
       "    .dataframe tbody tr th:only-of-type {\n",
       "        vertical-align: middle;\n",
       "    }\n",
       "\n",
       "    .dataframe tbody tr th {\n",
       "        vertical-align: top;\n",
       "    }\n",
       "\n",
       "    .dataframe thead th {\n",
       "        text-align: right;\n",
       "    }\n",
       "</style>\n",
       "<table border=\"1\" class=\"dataframe\">\n",
       "  <thead>\n",
       "    <tr style=\"text-align: right;\">\n",
       "      <th></th>\n",
       "      <th>visitNumber_ultima</th>\n",
       "      <th>visitStartTime_ultima</th>\n",
       "      <th>date_ultima</th>\n",
       "      <th>channelGrouping_ultima</th>\n",
       "      <th>10 52048_ultima</th>\n",
       "      <th>10 52147_ultima</th>\n",
       "      <th>10 52211_ultima</th>\n",
       "      <th>10 52213_ultima</th>\n",
       "      <th>10 52223_ultima</th>\n",
       "      <th>10 52225_ultima</th>\n",
       "      <th>...</th>\n",
       "      <th>metro_primeira</th>\n",
       "      <th>networkDomain_primeira</th>\n",
       "      <th>region_primeira</th>\n",
       "      <th>subContinent_primeira</th>\n",
       "      <th>hits</th>\n",
       "      <th>newVisits</th>\n",
       "      <th>bounces</th>\n",
       "      <th>pageviews</th>\n",
       "      <th>timeOnSite</th>\n",
       "      <th>tempo_visitas</th>\n",
       "    </tr>\n",
       "  </thead>\n",
       "  <tbody>\n",
       "    <tr>\n",
       "      <th>29494</th>\n",
       "      <td>1</td>\n",
       "      <td>1484468235</td>\n",
       "      <td>14</td>\n",
       "      <td>4</td>\n",
       "      <td>0</td>\n",
       "      <td>0</td>\n",
       "      <td>0</td>\n",
       "      <td>0</td>\n",
       "      <td>0</td>\n",
       "      <td>0</td>\n",
       "      <td>...</td>\n",
       "      <td>40</td>\n",
       "      <td>1181</td>\n",
       "      <td>135</td>\n",
       "      <td>17</td>\n",
       "      <td>1</td>\n",
       "      <td>1.0</td>\n",
       "      <td>1.0</td>\n",
       "      <td>1.0</td>\n",
       "      <td>0.0</td>\n",
       "      <td>0</td>\n",
       "    </tr>\n",
       "    <tr>\n",
       "      <th>10410</th>\n",
       "      <td>1</td>\n",
       "      <td>1484105824</td>\n",
       "      <td>9</td>\n",
       "      <td>6</td>\n",
       "      <td>0</td>\n",
       "      <td>0</td>\n",
       "      <td>0</td>\n",
       "      <td>0</td>\n",
       "      <td>0</td>\n",
       "      <td>0</td>\n",
       "      <td>...</td>\n",
       "      <td>35</td>\n",
       "      <td>892</td>\n",
       "      <td>21</td>\n",
       "      <td>12</td>\n",
       "      <td>4</td>\n",
       "      <td>1.0</td>\n",
       "      <td>0.0</td>\n",
       "      <td>4.0</td>\n",
       "      <td>63.0</td>\n",
       "      <td>0</td>\n",
       "    </tr>\n",
       "    <tr>\n",
       "      <th>43766</th>\n",
       "      <td>1</td>\n",
       "      <td>1484106891</td>\n",
       "      <td>9</td>\n",
       "      <td>4</td>\n",
       "      <td>0</td>\n",
       "      <td>0</td>\n",
       "      <td>0</td>\n",
       "      <td>0</td>\n",
       "      <td>0</td>\n",
       "      <td>0</td>\n",
       "      <td>...</td>\n",
       "      <td>35</td>\n",
       "      <td>0</td>\n",
       "      <td>21</td>\n",
       "      <td>12</td>\n",
       "      <td>1</td>\n",
       "      <td>1.0</td>\n",
       "      <td>1.0</td>\n",
       "      <td>1.0</td>\n",
       "      <td>0.0</td>\n",
       "      <td>0</td>\n",
       "    </tr>\n",
       "    <tr>\n",
       "      <th>29660</th>\n",
       "      <td>1</td>\n",
       "      <td>1484089259</td>\n",
       "      <td>9</td>\n",
       "      <td>6</td>\n",
       "      <td>0</td>\n",
       "      <td>0</td>\n",
       "      <td>0</td>\n",
       "      <td>0</td>\n",
       "      <td>0</td>\n",
       "      <td>0</td>\n",
       "      <td>...</td>\n",
       "      <td>35</td>\n",
       "      <td>0</td>\n",
       "      <td>21</td>\n",
       "      <td>12</td>\n",
       "      <td>1</td>\n",
       "      <td>1.0</td>\n",
       "      <td>1.0</td>\n",
       "      <td>1.0</td>\n",
       "      <td>0.0</td>\n",
       "      <td>0</td>\n",
       "    </tr>\n",
       "    <tr>\n",
       "      <th>444</th>\n",
       "      <td>24</td>\n",
       "      <td>1483421832</td>\n",
       "      <td>1</td>\n",
       "      <td>4</td>\n",
       "      <td>0</td>\n",
       "      <td>0</td>\n",
       "      <td>0</td>\n",
       "      <td>0</td>\n",
       "      <td>0</td>\n",
       "      <td>0</td>\n",
       "      <td>...</td>\n",
       "      <td>35</td>\n",
       "      <td>0</td>\n",
       "      <td>21</td>\n",
       "      <td>12</td>\n",
       "      <td>60</td>\n",
       "      <td>0.0</td>\n",
       "      <td>0.0</td>\n",
       "      <td>45.0</td>\n",
       "      <td>876.0</td>\n",
       "      <td>0</td>\n",
       "    </tr>\n",
       "  </tbody>\n",
       "</table>\n",
       "<p>5 rows × 2271 columns</p>\n",
       "</div>"
      ],
      "text/plain": [
       "       visitNumber_ultima  visitStartTime_ultima  date_ultima  \\\n",
       "29494                   1             1484468235           14   \n",
       "10410                   1             1484105824            9   \n",
       "43766                   1             1484106891            9   \n",
       "29660                   1             1484089259            9   \n",
       "444                    24             1483421832            1   \n",
       "\n",
       "       channelGrouping_ultima  10 52048_ultima  10 52147_ultima  \\\n",
       "29494                       4                0                0   \n",
       "10410                       6                0                0   \n",
       "43766                       4                0                0   \n",
       "29660                       6                0                0   \n",
       "444                         4                0                0   \n",
       "\n",
       "       10 52211_ultima  10 52213_ultima  10 52223_ultima  10 52225_ultima  \\\n",
       "29494                0                0                0                0   \n",
       "10410                0                0                0                0   \n",
       "43766                0                0                0                0   \n",
       "29660                0                0                0                0   \n",
       "444                  0                0                0                0   \n",
       "\n",
       "           ...        metro_primeira  networkDomain_primeira  region_primeira  \\\n",
       "29494      ...                    40                    1181              135   \n",
       "10410      ...                    35                     892               21   \n",
       "43766      ...                    35                       0               21   \n",
       "29660      ...                    35                       0               21   \n",
       "444        ...                    35                       0               21   \n",
       "\n",
       "       subContinent_primeira  hits  newVisits  bounces  pageviews  timeOnSite  \\\n",
       "29494                     17     1        1.0      1.0        1.0         0.0   \n",
       "10410                     12     4        1.0      0.0        4.0        63.0   \n",
       "43766                     12     1        1.0      1.0        1.0         0.0   \n",
       "29660                     12     1        1.0      1.0        1.0         0.0   \n",
       "444                       12    60        0.0      0.0       45.0       876.0   \n",
       "\n",
       "       tempo_visitas  \n",
       "29494              0  \n",
       "10410              0  \n",
       "43766              0  \n",
       "29660              0  \n",
       "444                0  \n",
       "\n",
       "[5 rows x 2271 columns]"
      ]
     },
     "execution_count": 35,
     "metadata": {
      "tags": []
     },
     "output_type": "execute_result"
    }
   ],
   "source": [
    "X_train.head()"
   ]
  },
  {
   "cell_type": "code",
   "execution_count": 0,
   "metadata": {
    "colab": {},
    "colab_type": "code",
    "id": "uMeqAERlIY3W",
    "outputId": "d4969e7a-0164-46c9-cc2d-4ee0f3f33482"
   },
   "outputs": [
    {
     "data": {
      "text/plain": [
       "29494     0.00\n",
       "10410     0.00\n",
       "43766     0.00\n",
       "29660     0.00\n",
       "444      39.37\n",
       "Name: totalTransactionRevenue, dtype: float64"
      ]
     },
     "execution_count": 36,
     "metadata": {
      "tags": []
     },
     "output_type": "execute_result"
    }
   ],
   "source": [
    "y_train.head()"
   ]
  },
  {
   "cell_type": "code",
   "execution_count": 0,
   "metadata": {
    "colab": {},
    "colab_type": "code",
    "id": "HThCx0w7IY3b"
   },
   "outputs": [],
   "source": [
    "from sklearn.linear_model import LinearRegression"
   ]
  },
  {
   "cell_type": "code",
   "execution_count": 0,
   "metadata": {
    "colab": {},
    "colab_type": "code",
    "id": "TVwBE8XHIY3c"
   },
   "outputs": [],
   "source": [
    "reg = LinearRegression()"
   ]
  },
  {
   "cell_type": "code",
   "execution_count": 0,
   "metadata": {
    "colab": {},
    "colab_type": "code",
    "id": "roON79PpIY3h",
    "outputId": "7773c5e0-a131-44bb-f1b9-9b897fb8fab0"
   },
   "outputs": [
    {
     "data": {
      "text/plain": [
       "LinearRegression(copy_X=True, fit_intercept=True, n_jobs=1, normalize=False)"
      ]
     },
     "execution_count": 39,
     "metadata": {
      "tags": []
     },
     "output_type": "execute_result"
    }
   ],
   "source": [
    "reg.fit(X_train, y_train)"
   ]
  },
  {
   "cell_type": "code",
   "execution_count": 0,
   "metadata": {
    "colab": {},
    "colab_type": "code",
    "id": "kh7_2K67IY3k"
   },
   "outputs": [],
   "source": [
    "reg_predict = reg.predict(X_test)"
   ]
  },
  {
   "cell_type": "code",
   "execution_count": 0,
   "metadata": {
    "colab": {},
    "colab_type": "code",
    "id": "xnPqNjxrIY3l",
    "outputId": "0652e04a-a2d0-446c-ae8c-c5a3a8b937d4"
   },
   "outputs": [
    {
     "data": {
      "text/plain": [
       "array([ -1.30256696,   0.18200783,   3.6039713 , ...,  -3.02690224,\n",
       "         0.45236903, -67.32576575])"
      ]
     },
     "execution_count": 41,
     "metadata": {
      "tags": []
     },
     "output_type": "execute_result"
    }
   ],
   "source": [
    "reg_predict"
   ]
  },
  {
   "cell_type": "code",
   "execution_count": 0,
   "metadata": {
    "colab": {},
    "colab_type": "code",
    "id": "suLQ8FjXIY3n"
   },
   "outputs": [],
   "source": [
    "from sklearn.metrics import mean_squared_error"
   ]
  },
  {
   "cell_type": "code",
   "execution_count": 0,
   "metadata": {
    "colab": {},
    "colab_type": "code",
    "id": "6HTAbJCZIY3p"
   },
   "outputs": [],
   "source": [
    "import numpy as np"
   ]
  },
  {
   "cell_type": "code",
   "execution_count": 0,
   "metadata": {
    "colab": {},
    "colab_type": "code",
    "id": "5FgAokICIY3q",
    "outputId": "b5b82d76-9117-4407-d566-cb3b3887ed97"
   },
   "outputs": [
    {
     "data": {
      "text/plain": [
       "131.38527134958824"
      ]
     },
     "execution_count": 44,
     "metadata": {
      "tags": []
     },
     "output_type": "execute_result"
    }
   ],
   "source": [
    "np.sqrt(mean_squared_error(y_test, reg_predict))"
   ]
  },
  {
   "cell_type": "code",
   "execution_count": 0,
   "metadata": {
    "colab": {},
    "colab_type": "code",
    "id": "3xrKMLv0IY3u"
   },
   "outputs": [],
   "source": [
    "from sklearn.ensemble import GradientBoostingRegressor"
   ]
  },
  {
   "cell_type": "code",
   "execution_count": 0,
   "metadata": {
    "colab": {},
    "colab_type": "code",
    "id": "f7pMKrDoIY3w"
   },
   "outputs": [],
   "source": [
    "gb = GradientBoostingRegressor()"
   ]
  },
  {
   "cell_type": "code",
   "execution_count": 0,
   "metadata": {
    "colab": {},
    "colab_type": "code",
    "id": "foGhWZ4fIY3x",
    "outputId": "f6c63bd8-0d19-4f37-96db-a6c8bb4732d8"
   },
   "outputs": [
    {
     "data": {
      "text/plain": [
       "GradientBoostingRegressor(alpha=0.9, criterion='friedman_mse', init=None,\n",
       "             learning_rate=0.1, loss='ls', max_depth=3, max_features=None,\n",
       "             max_leaf_nodes=None, min_impurity_decrease=0.0,\n",
       "             min_impurity_split=None, min_samples_leaf=1,\n",
       "             min_samples_split=2, min_weight_fraction_leaf=0.0,\n",
       "             n_estimators=100, presort='auto', random_state=None,\n",
       "             subsample=1.0, verbose=0, warm_start=False)"
      ]
     },
     "execution_count": 47,
     "metadata": {
      "tags": []
     },
     "output_type": "execute_result"
    }
   ],
   "source": [
    "gb.fit(X_train,y_train)"
   ]
  },
  {
   "cell_type": "code",
   "execution_count": 0,
   "metadata": {
    "colab": {},
    "colab_type": "code",
    "id": "hMJsC2eoIY3z"
   },
   "outputs": [],
   "source": [
    "gb_predict = gb.predict(X_test)"
   ]
  },
  {
   "cell_type": "code",
   "execution_count": 0,
   "metadata": {
    "colab": {},
    "colab_type": "code",
    "id": "eWOiiIlnIY30"
   },
   "outputs": [],
   "source": [
    "gb_predict[gb_predict < 0] = 0"
   ]
  },
  {
   "cell_type": "code",
   "execution_count": 0,
   "metadata": {
    "colab": {},
    "colab_type": "code",
    "id": "ATtORAAfIY31",
    "outputId": "ed55417e-748e-4db7-8227-0252b0fd95b5"
   },
   "outputs": [
    {
     "data": {
      "text/plain": [
       "41.178654373193844"
      ]
     },
     "execution_count": 50,
     "metadata": {
      "tags": []
     },
     "output_type": "execute_result"
    }
   ],
   "source": [
    "np.sqrt(mean_squared_error(y_test, gb_predict))"
   ]
  },
  {
   "cell_type": "code",
   "execution_count": 0,
   "metadata": {
    "colab": {},
    "colab_type": "code",
    "id": "cIQ0GApnIY33"
   },
   "outputs": [],
   "source": [
    "resultados = pd.DataFrame()\n",
    "resultados['revenue'] = y_test\n",
    "resultados['predict'] = gb_predict\n",
    "resultados['erro'] = gb_predict - y_test"
   ]
  },
  {
   "cell_type": "code",
   "execution_count": 0,
   "metadata": {
    "colab": {},
    "colab_type": "code",
    "id": "EnBHjP2TIY35",
    "outputId": "fe264b5e-7888-453b-b776-dc8642e855b6"
   },
   "outputs": [
    {
     "data": {
      "text/html": [
       "<div>\n",
       "<style scoped>\n",
       "    .dataframe tbody tr th:only-of-type {\n",
       "        vertical-align: middle;\n",
       "    }\n",
       "\n",
       "    .dataframe tbody tr th {\n",
       "        vertical-align: top;\n",
       "    }\n",
       "\n",
       "    .dataframe thead th {\n",
       "        text-align: right;\n",
       "    }\n",
       "</style>\n",
       "<table border=\"1\" class=\"dataframe\">\n",
       "  <thead>\n",
       "    <tr style=\"text-align: right;\">\n",
       "      <th></th>\n",
       "      <th>revenue</th>\n",
       "      <th>predict</th>\n",
       "      <th>erro</th>\n",
       "    </tr>\n",
       "  </thead>\n",
       "  <tbody>\n",
       "    <tr>\n",
       "      <th>429</th>\n",
       "      <td>0.0</td>\n",
       "      <td>0.227121</td>\n",
       "      <td>0.227121</td>\n",
       "    </tr>\n",
       "    <tr>\n",
       "      <th>32524</th>\n",
       "      <td>0.0</td>\n",
       "      <td>0.227121</td>\n",
       "      <td>0.227121</td>\n",
       "    </tr>\n",
       "    <tr>\n",
       "      <th>44785</th>\n",
       "      <td>0.0</td>\n",
       "      <td>0.227121</td>\n",
       "      <td>0.227121</td>\n",
       "    </tr>\n",
       "    <tr>\n",
       "      <th>31742</th>\n",
       "      <td>0.0</td>\n",
       "      <td>0.227121</td>\n",
       "      <td>0.227121</td>\n",
       "    </tr>\n",
       "    <tr>\n",
       "      <th>33125</th>\n",
       "      <td>0.0</td>\n",
       "      <td>0.227121</td>\n",
       "      <td>0.227121</td>\n",
       "    </tr>\n",
       "  </tbody>\n",
       "</table>\n",
       "</div>"
      ],
      "text/plain": [
       "       revenue   predict      erro\n",
       "429        0.0  0.227121  0.227121\n",
       "32524      0.0  0.227121  0.227121\n",
       "44785      0.0  0.227121  0.227121\n",
       "31742      0.0  0.227121  0.227121\n",
       "33125      0.0  0.227121  0.227121"
      ]
     },
     "execution_count": 52,
     "metadata": {
      "tags": []
     },
     "output_type": "execute_result"
    }
   ],
   "source": [
    "resultados.head()"
   ]
  },
  {
   "cell_type": "code",
   "execution_count": 0,
   "metadata": {
    "colab": {},
    "colab_type": "code",
    "id": "pqu2AFcxIY37",
    "outputId": "915f0587-1e84-4766-9db0-409f853e7cfc"
   },
   "outputs": [
    {
     "data": {
      "text/html": [
       "<div>\n",
       "<style scoped>\n",
       "    .dataframe tbody tr th:only-of-type {\n",
       "        vertical-align: middle;\n",
       "    }\n",
       "\n",
       "    .dataframe tbody tr th {\n",
       "        vertical-align: top;\n",
       "    }\n",
       "\n",
       "    .dataframe thead th {\n",
       "        text-align: right;\n",
       "    }\n",
       "</style>\n",
       "<table border=\"1\" class=\"dataframe\">\n",
       "  <thead>\n",
       "    <tr style=\"text-align: right;\">\n",
       "      <th></th>\n",
       "      <th>revenue</th>\n",
       "      <th>predict</th>\n",
       "      <th>erro</th>\n",
       "    </tr>\n",
       "  </thead>\n",
       "  <tbody>\n",
       "    <tr>\n",
       "      <th>6926</th>\n",
       "      <td>71.39</td>\n",
       "      <td>104.129816</td>\n",
       "      <td>32.739816</td>\n",
       "    </tr>\n",
       "    <tr>\n",
       "      <th>51564</th>\n",
       "      <td>34.58</td>\n",
       "      <td>34.403549</td>\n",
       "      <td>-0.176451</td>\n",
       "    </tr>\n",
       "    <tr>\n",
       "      <th>28871</th>\n",
       "      <td>71.97</td>\n",
       "      <td>36.216330</td>\n",
       "      <td>-35.753670</td>\n",
       "    </tr>\n",
       "    <tr>\n",
       "      <th>19568</th>\n",
       "      <td>79.18</td>\n",
       "      <td>27.039619</td>\n",
       "      <td>-52.140381</td>\n",
       "    </tr>\n",
       "    <tr>\n",
       "      <th>17364</th>\n",
       "      <td>29.97</td>\n",
       "      <td>1.091915</td>\n",
       "      <td>-28.878085</td>\n",
       "    </tr>\n",
       "  </tbody>\n",
       "</table>\n",
       "</div>"
      ],
      "text/plain": [
       "       revenue     predict       erro\n",
       "6926     71.39  104.129816  32.739816\n",
       "51564    34.58   34.403549  -0.176451\n",
       "28871    71.97   36.216330 -35.753670\n",
       "19568    79.18   27.039619 -52.140381\n",
       "17364    29.97    1.091915 -28.878085"
      ]
     },
     "execution_count": 53,
     "metadata": {
      "tags": []
     },
     "output_type": "execute_result"
    }
   ],
   "source": [
    "resultados[resultados.revenue > 0].head()"
   ]
  },
  {
   "cell_type": "code",
   "execution_count": 0,
   "metadata": {
    "colab": {},
    "colab_type": "code",
    "id": "EB9Kynw7IY39"
   },
   "outputs": [],
   "source": [
    "from sklearn.dummy import DummyRegressor"
   ]
  },
  {
   "cell_type": "code",
   "execution_count": 0,
   "metadata": {
    "colab": {},
    "colab_type": "code",
    "id": "PZ2Og7SwIY3_"
   },
   "outputs": [],
   "source": [
    "dr = DummyRegressor()"
   ]
  },
  {
   "cell_type": "code",
   "execution_count": 0,
   "metadata": {
    "colab": {},
    "colab_type": "code",
    "id": "tr1GOIVRIY4A",
    "outputId": "79e30557-c700-462c-a009-3b1ccf53f83f"
   },
   "outputs": [
    {
     "data": {
      "text/plain": [
       "DummyRegressor(constant=None, quantile=None, strategy='mean')"
      ]
     },
     "execution_count": 56,
     "metadata": {
      "tags": []
     },
     "output_type": "execute_result"
    }
   ],
   "source": [
    "dr.fit(X_train, y_train)"
   ]
  },
  {
   "cell_type": "code",
   "execution_count": 0,
   "metadata": {
    "colab": {},
    "colab_type": "code",
    "id": "Z-1SmNWGIY4B"
   },
   "outputs": [],
   "source": [
    "dr_predict = dr.predict(X_test)"
   ]
  },
  {
   "cell_type": "code",
   "execution_count": 0,
   "metadata": {
    "colab": {},
    "colab_type": "code",
    "id": "kmSuM_xmIY4D",
    "outputId": "31bab7d0-e950-478a-d11a-aa0e67a84bb3"
   },
   "outputs": [
    {
     "data": {
      "text/plain": [
       "43.006562211198855"
      ]
     },
     "execution_count": 58,
     "metadata": {
      "tags": []
     },
     "output_type": "execute_result"
    }
   ],
   "source": [
    "np.sqrt(mean_squared_error(y_test, dr_predict))"
   ]
  },
  {
   "cell_type": "code",
   "execution_count": 0,
   "metadata": {
    "colab": {},
    "colab_type": "code",
    "id": "P75m6jjZIY4F"
   },
   "outputs": [],
   "source": [
    "y_train.values[y_train <= 0] = 0\n",
    "y_train.values[y_train > 0] = 1\n",
    "y_test.values[y_test <= 0] = 0\n",
    "y_test.values[y_test > 0] = 1"
   ]
  },
  {
   "cell_type": "code",
   "execution_count": 0,
   "metadata": {
    "colab": {},
    "colab_type": "code",
    "id": "FAG1yaf4IY4G"
   },
   "outputs": [],
   "source": [
    "from sklearn.ensemble import GradientBoostingClassifier"
   ]
  },
  {
   "cell_type": "code",
   "execution_count": 0,
   "metadata": {
    "colab": {},
    "colab_type": "code",
    "id": "VtRpnnMZIY4H"
   },
   "outputs": [],
   "source": [
    "clf_gb = GradientBoostingClassifier()"
   ]
  },
  {
   "cell_type": "code",
   "execution_count": 0,
   "metadata": {
    "colab": {},
    "colab_type": "code",
    "id": "If_28jpoIY4I",
    "outputId": "7a727b6a-e8c7-49cc-9432-15801e53988e"
   },
   "outputs": [
    {
     "data": {
      "text/plain": [
       "GradientBoostingClassifier(criterion='friedman_mse', init=None,\n",
       "              learning_rate=0.1, loss='deviance', max_depth=3,\n",
       "              max_features=None, max_leaf_nodes=None,\n",
       "              min_impurity_decrease=0.0, min_impurity_split=None,\n",
       "              min_samples_leaf=1, min_samples_split=2,\n",
       "              min_weight_fraction_leaf=0.0, n_estimators=100,\n",
       "              presort='auto', random_state=None, subsample=1.0, verbose=0,\n",
       "              warm_start=False)"
      ]
     },
     "execution_count": 62,
     "metadata": {
      "tags": []
     },
     "output_type": "execute_result"
    }
   ],
   "source": [
    "clf_gb.fit(X_train, y_train)"
   ]
  },
  {
   "cell_type": "code",
   "execution_count": 0,
   "metadata": {
    "colab": {},
    "colab_type": "code",
    "id": "enJixSNpIY4K"
   },
   "outputs": [],
   "source": [
    "clf_gb_predict = clf_gb.predict(X_test)"
   ]
  },
  {
   "cell_type": "code",
   "execution_count": 0,
   "metadata": {
    "colab": {},
    "colab_type": "code",
    "id": "erWjyAmKIY4L"
   },
   "outputs": [],
   "source": [
    "from sklearn.metrics import confusion_matrix"
   ]
  },
  {
   "cell_type": "code",
   "execution_count": 0,
   "metadata": {
    "colab": {},
    "colab_type": "code",
    "id": "RIobRiYtIY4M",
    "outputId": "ee5ae801-bbba-48e7-cf2a-ff5882d606aa"
   },
   "outputs": [
    {
     "data": {
      "text/plain": [
       "array([[15647,    63],\n",
       "       [  130,    73]])"
      ]
     },
     "execution_count": 65,
     "metadata": {
      "tags": []
     },
     "output_type": "execute_result"
    }
   ],
   "source": [
    "confusion_matrix(y_test,clf_gb_predict)"
   ]
  },
  {
   "cell_type": "code",
   "execution_count": 0,
   "metadata": {
    "colab": {},
    "colab_type": "code",
    "id": "EpJzEmytIY4N"
   },
   "outputs": [],
   "source": [
    "from sklearn.metrics import classification_report"
   ]
  },
  {
   "cell_type": "code",
   "execution_count": 0,
   "metadata": {
    "colab": {},
    "colab_type": "code",
    "id": "7f2gxVMeIY4O",
    "outputId": "0eb5204b-9e64-48b3-9da5-97a98109ba0c"
   },
   "outputs": [
    {
     "name": "stdout",
     "output_type": "stream",
     "text": [
      "             precision    recall  f1-score   support\n",
      "\n",
      "        0.0       0.99      1.00      0.99     15710\n",
      "        1.0       0.54      0.36      0.43       203\n",
      "\n",
      "avg / total       0.99      0.99      0.99     15913\n",
      "\n"
     ]
    }
   ],
   "source": [
    "print(classification_report(y_test,clf_gb_predict))"
   ]
  },
  {
   "cell_type": "code",
   "execution_count": 0,
   "metadata": {
    "colab": {},
    "colab_type": "code",
    "id": "_CFb6i0_IY4Q",
    "outputId": "c51e8116-4d81-4c9e-db68-1b4854e24ca3"
   },
   "outputs": [
    {
     "name": "stderr",
     "output_type": "stream",
     "text": [
      "/usr/local/envs/py3env/lib/python3.5/site-packages/ipykernel/__main__.py:1: SettingWithCopyWarning: \n",
      "A value is trying to be set on a copy of a slice from a DataFrame.\n",
      "Try using .loc[row_indexer,col_indexer] = value instead\n",
      "\n",
      "See the caveats in the documentation: http://pandas.pydata.org/pandas-docs/stable/indexing.html#indexing-view-versus-copy\n",
      "  if __name__ == '__main__':\n"
     ]
    }
   ],
   "source": [
    "X_train['revenue'] = y_train"
   ]
  },
  {
   "cell_type": "code",
   "execution_count": 0,
   "metadata": {
    "colab": {},
    "colab_type": "code",
    "id": "zu0IesgrIY4S",
    "outputId": "51a8bc75-5262-4ad4-af14-49f5fe52b367"
   },
   "outputs": [
    {
     "data": {
      "text/html": [
       "<div>\n",
       "<style scoped>\n",
       "    .dataframe tbody tr th:only-of-type {\n",
       "        vertical-align: middle;\n",
       "    }\n",
       "\n",
       "    .dataframe tbody tr th {\n",
       "        vertical-align: top;\n",
       "    }\n",
       "\n",
       "    .dataframe thead th {\n",
       "        text-align: right;\n",
       "    }\n",
       "</style>\n",
       "<table border=\"1\" class=\"dataframe\">\n",
       "  <thead>\n",
       "    <tr style=\"text-align: right;\">\n",
       "      <th></th>\n",
       "      <th>visitNumber_ultima</th>\n",
       "      <th>visitStartTime_ultima</th>\n",
       "      <th>date_ultima</th>\n",
       "      <th>channelGrouping_ultima</th>\n",
       "      <th>10 52048_ultima</th>\n",
       "      <th>10 52147_ultima</th>\n",
       "      <th>10 52211_ultima</th>\n",
       "      <th>10 52213_ultima</th>\n",
       "      <th>10 52223_ultima</th>\n",
       "      <th>10 52225_ultima</th>\n",
       "      <th>...</th>\n",
       "      <th>networkDomain_primeira</th>\n",
       "      <th>region_primeira</th>\n",
       "      <th>subContinent_primeira</th>\n",
       "      <th>hits</th>\n",
       "      <th>newVisits</th>\n",
       "      <th>bounces</th>\n",
       "      <th>pageviews</th>\n",
       "      <th>timeOnSite</th>\n",
       "      <th>tempo_visitas</th>\n",
       "      <th>revenue</th>\n",
       "    </tr>\n",
       "  </thead>\n",
       "  <tbody>\n",
       "    <tr>\n",
       "      <th>29494</th>\n",
       "      <td>1</td>\n",
       "      <td>1484468235</td>\n",
       "      <td>14</td>\n",
       "      <td>4</td>\n",
       "      <td>0</td>\n",
       "      <td>0</td>\n",
       "      <td>0</td>\n",
       "      <td>0</td>\n",
       "      <td>0</td>\n",
       "      <td>0</td>\n",
       "      <td>...</td>\n",
       "      <td>1181</td>\n",
       "      <td>135</td>\n",
       "      <td>17</td>\n",
       "      <td>1</td>\n",
       "      <td>1.0</td>\n",
       "      <td>1.0</td>\n",
       "      <td>1.0</td>\n",
       "      <td>0.0</td>\n",
       "      <td>0</td>\n",
       "      <td>0.0</td>\n",
       "    </tr>\n",
       "    <tr>\n",
       "      <th>10410</th>\n",
       "      <td>1</td>\n",
       "      <td>1484105824</td>\n",
       "      <td>9</td>\n",
       "      <td>6</td>\n",
       "      <td>0</td>\n",
       "      <td>0</td>\n",
       "      <td>0</td>\n",
       "      <td>0</td>\n",
       "      <td>0</td>\n",
       "      <td>0</td>\n",
       "      <td>...</td>\n",
       "      <td>892</td>\n",
       "      <td>21</td>\n",
       "      <td>12</td>\n",
       "      <td>4</td>\n",
       "      <td>1.0</td>\n",
       "      <td>0.0</td>\n",
       "      <td>4.0</td>\n",
       "      <td>63.0</td>\n",
       "      <td>0</td>\n",
       "      <td>0.0</td>\n",
       "    </tr>\n",
       "    <tr>\n",
       "      <th>43766</th>\n",
       "      <td>1</td>\n",
       "      <td>1484106891</td>\n",
       "      <td>9</td>\n",
       "      <td>4</td>\n",
       "      <td>0</td>\n",
       "      <td>0</td>\n",
       "      <td>0</td>\n",
       "      <td>0</td>\n",
       "      <td>0</td>\n",
       "      <td>0</td>\n",
       "      <td>...</td>\n",
       "      <td>0</td>\n",
       "      <td>21</td>\n",
       "      <td>12</td>\n",
       "      <td>1</td>\n",
       "      <td>1.0</td>\n",
       "      <td>1.0</td>\n",
       "      <td>1.0</td>\n",
       "      <td>0.0</td>\n",
       "      <td>0</td>\n",
       "      <td>0.0</td>\n",
       "    </tr>\n",
       "    <tr>\n",
       "      <th>29660</th>\n",
       "      <td>1</td>\n",
       "      <td>1484089259</td>\n",
       "      <td>9</td>\n",
       "      <td>6</td>\n",
       "      <td>0</td>\n",
       "      <td>0</td>\n",
       "      <td>0</td>\n",
       "      <td>0</td>\n",
       "      <td>0</td>\n",
       "      <td>0</td>\n",
       "      <td>...</td>\n",
       "      <td>0</td>\n",
       "      <td>21</td>\n",
       "      <td>12</td>\n",
       "      <td>1</td>\n",
       "      <td>1.0</td>\n",
       "      <td>1.0</td>\n",
       "      <td>1.0</td>\n",
       "      <td>0.0</td>\n",
       "      <td>0</td>\n",
       "      <td>0.0</td>\n",
       "    </tr>\n",
       "    <tr>\n",
       "      <th>444</th>\n",
       "      <td>24</td>\n",
       "      <td>1483421832</td>\n",
       "      <td>1</td>\n",
       "      <td>4</td>\n",
       "      <td>0</td>\n",
       "      <td>0</td>\n",
       "      <td>0</td>\n",
       "      <td>0</td>\n",
       "      <td>0</td>\n",
       "      <td>0</td>\n",
       "      <td>...</td>\n",
       "      <td>0</td>\n",
       "      <td>21</td>\n",
       "      <td>12</td>\n",
       "      <td>60</td>\n",
       "      <td>0.0</td>\n",
       "      <td>0.0</td>\n",
       "      <td>45.0</td>\n",
       "      <td>876.0</td>\n",
       "      <td>0</td>\n",
       "      <td>1.0</td>\n",
       "    </tr>\n",
       "  </tbody>\n",
       "</table>\n",
       "<p>5 rows × 2272 columns</p>\n",
       "</div>"
      ],
      "text/plain": [
       "       visitNumber_ultima  visitStartTime_ultima  date_ultima  \\\n",
       "29494                   1             1484468235           14   \n",
       "10410                   1             1484105824            9   \n",
       "43766                   1             1484106891            9   \n",
       "29660                   1             1484089259            9   \n",
       "444                    24             1483421832            1   \n",
       "\n",
       "       channelGrouping_ultima  10 52048_ultima  10 52147_ultima  \\\n",
       "29494                       4                0                0   \n",
       "10410                       6                0                0   \n",
       "43766                       4                0                0   \n",
       "29660                       6                0                0   \n",
       "444                         4                0                0   \n",
       "\n",
       "       10 52211_ultima  10 52213_ultima  10 52223_ultima  10 52225_ultima  \\\n",
       "29494                0                0                0                0   \n",
       "10410                0                0                0                0   \n",
       "43766                0                0                0                0   \n",
       "29660                0                0                0                0   \n",
       "444                  0                0                0                0   \n",
       "\n",
       "        ...     networkDomain_primeira  region_primeira  \\\n",
       "29494   ...                       1181              135   \n",
       "10410   ...                        892               21   \n",
       "43766   ...                          0               21   \n",
       "29660   ...                          0               21   \n",
       "444     ...                          0               21   \n",
       "\n",
       "       subContinent_primeira  hits  newVisits  bounces  pageviews  timeOnSite  \\\n",
       "29494                     17     1        1.0      1.0        1.0         0.0   \n",
       "10410                     12     4        1.0      0.0        4.0        63.0   \n",
       "43766                     12     1        1.0      1.0        1.0         0.0   \n",
       "29660                     12     1        1.0      1.0        1.0         0.0   \n",
       "444                       12    60        0.0      0.0       45.0       876.0   \n",
       "\n",
       "       tempo_visitas  revenue  \n",
       "29494              0      0.0  \n",
       "10410              0      0.0  \n",
       "43766              0      0.0  \n",
       "29660              0      0.0  \n",
       "444                0      1.0  \n",
       "\n",
       "[5 rows x 2272 columns]"
      ]
     },
     "execution_count": 214,
     "metadata": {
      "tags": []
     },
     "output_type": "execute_result"
    }
   ],
   "source": [
    "X_train.head()"
   ]
  },
  {
   "cell_type": "code",
   "execution_count": 0,
   "metadata": {
    "colab": {},
    "colab_type": "code",
    "id": "HckYmwT4IY4T"
   },
   "outputs": [],
   "source": [
    "usuarios_com_gastos = X_train[X_train.revenue > 0]"
   ]
  },
  {
   "cell_type": "code",
   "execution_count": 0,
   "metadata": {
    "colab": {},
    "colab_type": "code",
    "id": "EHcT0HK8IY4V",
    "outputId": "7a106d2e-c443-4c09-c57d-5f17c8efa749"
   },
   "outputs": [
    {
     "data": {
      "text/plain": [
       "(459, 2272)"
      ]
     },
     "execution_count": 216,
     "metadata": {
      "tags": []
     },
     "output_type": "execute_result"
    }
   ],
   "source": [
    "usuarios_com_gastos.shape"
   ]
  },
  {
   "cell_type": "code",
   "execution_count": 0,
   "metadata": {
    "colab": {},
    "colab_type": "code",
    "id": "6NHiTXHaIY4W"
   },
   "outputs": [],
   "source": [
    "usuarios_sem_gastos = X_train[X_train.revenue <= 0]"
   ]
  },
  {
   "cell_type": "code",
   "execution_count": 0,
   "metadata": {
    "colab": {},
    "colab_type": "code",
    "id": "thI4Cb8fIY4Y",
    "outputId": "1d0a6d2d-bc93-416f-80f1-55e8aa958935"
   },
   "outputs": [
    {
     "data": {
      "text/plain": [
       "(36669, 2272)"
      ]
     },
     "execution_count": 218,
     "metadata": {
      "tags": []
     },
     "output_type": "execute_result"
    }
   ],
   "source": [
    "usuarios_sem_gastos.shape"
   ]
  },
  {
   "cell_type": "code",
   "execution_count": 0,
   "metadata": {
    "colab": {},
    "colab_type": "code",
    "id": "5lq7XOG1IY4c"
   },
   "outputs": [],
   "source": [
    "from sklearn.utils import resample"
   ]
  },
  {
   "cell_type": "code",
   "execution_count": 0,
   "metadata": {
    "colab": {},
    "colab_type": "code",
    "id": "tWdkyCWGIY4d"
   },
   "outputs": [],
   "source": [
    "usuarios_sem_gastos_ds = resample(usuarios_sem_gastos,\n",
    "                                  replace=False,\n",
    "                                  n_samples=30000,\n",
    "                                  random_state=42)"
   ]
  },
  {
   "cell_type": "code",
   "execution_count": 0,
   "metadata": {
    "colab": {},
    "colab_type": "code",
    "id": "Rz4QGV5kIY4f",
    "outputId": "e621bad5-0842-41f2-fe71-1a785e8be4df"
   },
   "outputs": [
    {
     "data": {
      "text/plain": [
       "(30000, 2272)"
      ]
     },
     "execution_count": 221,
     "metadata": {
      "tags": []
     },
     "output_type": "execute_result"
    }
   ],
   "source": [
    "usuarios_sem_gastos_ds.shape"
   ]
  },
  {
   "cell_type": "code",
   "execution_count": 0,
   "metadata": {
    "colab": {},
    "colab_type": "code",
    "id": "nTxlEvjvIY4i"
   },
   "outputs": [],
   "source": [
    "X_train_ds = pd.concat([usuarios_sem_gastos_ds, usuarios_com_gastos])"
   ]
  },
  {
   "cell_type": "code",
   "execution_count": 0,
   "metadata": {
    "colab": {},
    "colab_type": "code",
    "id": "K4GcxrNhIY4k",
    "outputId": "679f19c6-b8e8-4591-beb7-b8bb1be0438e"
   },
   "outputs": [
    {
     "data": {
      "text/plain": [
       "(30459, 2272)"
      ]
     },
     "execution_count": 282,
     "metadata": {
      "tags": []
     },
     "output_type": "execute_result"
    }
   ],
   "source": [
    "X_train_ds.shape"
   ]
  },
  {
   "cell_type": "code",
   "execution_count": 0,
   "metadata": {
    "colab": {},
    "colab_type": "code",
    "id": "27hS7TIDIY4m"
   },
   "outputs": [],
   "source": [
    "y_train_ds = X_train_ds.revenue.copy()\n",
    "X_train_ds.drop('revenue',axis=1,inplace=True)"
   ]
  },
  {
   "cell_type": "code",
   "execution_count": 0,
   "metadata": {
    "colab": {},
    "colab_type": "code",
    "id": "hN_jYTb8IY4n"
   },
   "outputs": [],
   "source": [
    "clf_gb_ds = GradientBoostingClassifier(random_state=42)"
   ]
  },
  {
   "cell_type": "code",
   "execution_count": 0,
   "metadata": {
    "colab": {},
    "colab_type": "code",
    "id": "i90zVf2rIY4n",
    "outputId": "7e3ec36d-46f5-4e14-9a01-bd068282c919"
   },
   "outputs": [
    {
     "data": {
      "text/plain": [
       "GradientBoostingClassifier(criterion='friedman_mse', init=None,\n",
       "              learning_rate=0.1, loss='deviance', max_depth=3,\n",
       "              max_features=None, max_leaf_nodes=None,\n",
       "              min_impurity_decrease=0.0, min_impurity_split=None,\n",
       "              min_samples_leaf=1, min_samples_split=2,\n",
       "              min_weight_fraction_leaf=0.0, n_estimators=100,\n",
       "              presort='auto', random_state=42, subsample=1.0, verbose=0,\n",
       "              warm_start=False)"
      ]
     },
     "execution_count": 241,
     "metadata": {
      "tags": []
     },
     "output_type": "execute_result"
    }
   ],
   "source": [
    "clf_gb_ds.fit(X_train_ds, y_train_ds)"
   ]
  },
  {
   "cell_type": "code",
   "execution_count": 0,
   "metadata": {
    "colab": {},
    "colab_type": "code",
    "id": "4h5xUFJBIY4o"
   },
   "outputs": [],
   "source": [
    "clf_gb_predict_ds = clf_gb_ds.predict(X_test)"
   ]
  },
  {
   "cell_type": "code",
   "execution_count": 0,
   "metadata": {
    "colab": {},
    "colab_type": "code",
    "id": "4kD70yEBIY4q",
    "outputId": "43d80544-3d22-4183-8583-3e47ae7b075f"
   },
   "outputs": [
    {
     "data": {
      "text/plain": [
       "array([[15646,    64],\n",
       "       [  114,    89]])"
      ]
     },
     "execution_count": 243,
     "metadata": {
      "tags": []
     },
     "output_type": "execute_result"
    }
   ],
   "source": [
    "confusion_matrix(y_test,clf_gb_predict_ds)"
   ]
  },
  {
   "cell_type": "code",
   "execution_count": 0,
   "metadata": {
    "colab": {},
    "colab_type": "code",
    "id": "X_ExaK-eIY4s",
    "outputId": "719c0d64-f0de-4d72-8c42-70291d89cd76"
   },
   "outputs": [
    {
     "name": "stdout",
     "output_type": "stream",
     "text": [
      "             precision    recall  f1-score   support\n",
      "\n",
      "        0.0       0.99      1.00      0.99     15710\n",
      "        1.0       0.58      0.44      0.50       203\n",
      "\n",
      "avg / total       0.99      0.99      0.99     15913\n",
      "\n"
     ]
    }
   ],
   "source": [
    "print(classification_report(y_test,clf_gb_predict_ds))"
   ]
  },
  {
   "cell_type": "code",
   "execution_count": 0,
   "metadata": {
    "colab": {},
    "colab_type": "code",
    "id": "oSiB56U3IY4t",
    "outputId": "e4f4e299-9df9-41cd-f1fa-272525c270a4"
   },
   "outputs": [
    {
     "name": "stdout",
     "output_type": "stream",
     "text": [
      "Requirement already up-to-date: xgboost in /usr/local/envs/py3env/lib/python3.5/site-packages (0.90)\r\n",
      "Requirement already satisfied, skipping upgrade: scipy in /usr/local/envs/py3env/lib/python3.5/site-packages (from xgboost) (1.0.0)\r\n",
      "Requirement already satisfied, skipping upgrade: numpy in /usr/local/envs/py3env/lib/python3.5/site-packages (from xgboost) (1.14.0)\r\n"
     ]
    }
   ],
   "source": [
    "!pip install --upgrade xgboost"
   ]
  },
  {
   "cell_type": "code",
   "execution_count": 0,
   "metadata": {
    "colab": {},
    "colab_type": "code",
    "id": "ATkHDL-FIY4u"
   },
   "outputs": [],
   "source": [
    "from xgboost import XGBClassifier"
   ]
  },
  {
   "cell_type": "code",
   "execution_count": 0,
   "metadata": {
    "colab": {},
    "colab_type": "code",
    "id": "DbGnjywZIY4v"
   },
   "outputs": [],
   "source": [
    "xgb = XGBClassifier(seed=42,n_estimators=300)"
   ]
  },
  {
   "cell_type": "code",
   "execution_count": 0,
   "metadata": {
    "colab": {},
    "colab_type": "code",
    "id": "Xid4JujZIY4x"
   },
   "outputs": [],
   "source": [
    "X_train_ds = X_train_ds.loc[:,~X_train_ds.columns.duplicated()]"
   ]
  },
  {
   "cell_type": "code",
   "execution_count": 0,
   "metadata": {
    "colab": {},
    "colab_type": "code",
    "id": "WNP6r-kJIY4x",
    "outputId": "96c916cb-504d-4089-8de6-6586991a2f8a"
   },
   "outputs": [
    {
     "data": {
      "text/plain": [
       "(30459, 2270)"
      ]
     },
     "execution_count": 289,
     "metadata": {
      "tags": []
     },
     "output_type": "execute_result"
    }
   ],
   "source": [
    "X_train_ds.shape"
   ]
  },
  {
   "cell_type": "code",
   "execution_count": 0,
   "metadata": {
    "colab": {},
    "colab_type": "code",
    "id": "qIlY0rLEIY4y"
   },
   "outputs": [],
   "source": [
    "X_test = X_test.loc[:,~X_test.columns.duplicated()]"
   ]
  },
  {
   "cell_type": "code",
   "execution_count": 0,
   "metadata": {
    "colab": {},
    "colab_type": "code",
    "id": "dC0XzOGPIY4z",
    "outputId": "50a89ca1-1f57-4e98-c20d-b8c637fbaccd"
   },
   "outputs": [
    {
     "data": {
      "text/plain": [
       "XGBClassifier(base_score=0.5, colsample_bylevel=1, colsample_bytree=1,\n",
       "       gamma=0, learning_rate=0.1, max_delta_step=0, max_depth=3,\n",
       "       min_child_weight=1, missing=None, n_estimators=300, nthread=-1,\n",
       "       objective='binary:logistic', reg_alpha=0, reg_lambda=1,\n",
       "       scale_pos_weight=1, seed=42, silent=True, subsample=1)"
      ]
     },
     "execution_count": 291,
     "metadata": {
      "tags": []
     },
     "output_type": "execute_result"
    }
   ],
   "source": [
    "xgb.fit(X_train_ds, y_train_ds)"
   ]
  },
  {
   "cell_type": "code",
   "execution_count": 0,
   "metadata": {
    "colab": {},
    "colab_type": "code",
    "id": "7LdOiNJTIY40",
    "outputId": "86d7fd2e-1903-4c8e-c731-4753302b690c"
   },
   "outputs": [
    {
     "name": "stderr",
     "output_type": "stream",
     "text": [
      "/usr/local/envs/py3env/lib/python3.5/site-packages/sklearn/preprocessing/label.py:151: DeprecationWarning: The truth value of an empty array is ambiguous. Returning False, but in future this will result in an error. Use `array.size > 0` to check that an array is not empty.\n",
      "  if diff:\n"
     ]
    }
   ],
   "source": [
    "clf_xgb_predict_ds = xgb.predict(X_test)"
   ]
  },
  {
   "cell_type": "code",
   "execution_count": 0,
   "metadata": {
    "colab": {},
    "colab_type": "code",
    "id": "LGu_48vzIY42",
    "outputId": "0baf556c-1628-46e9-a1f9-e4e7c28a04c5"
   },
   "outputs": [
    {
     "data": {
      "text/plain": [
       "array([[15660,    50],\n",
       "       [   97,   106]])"
      ]
     },
     "execution_count": 294,
     "metadata": {
      "tags": []
     },
     "output_type": "execute_result"
    }
   ],
   "source": [
    "confusion_matrix(y_test,clf_xgb_predict_ds)"
   ]
  },
  {
   "cell_type": "code",
   "execution_count": 0,
   "metadata": {
    "colab": {},
    "colab_type": "code",
    "id": "e0-EOp28IY43",
    "outputId": "60eba5fa-d9a5-4b17-9370-5cbb563cc0c8"
   },
   "outputs": [
    {
     "name": "stdout",
     "output_type": "stream",
     "text": [
      "             precision    recall  f1-score   support\n",
      "\n",
      "        0.0       0.99      1.00      1.00     15710\n",
      "        1.0       0.68      0.52      0.59       203\n",
      "\n",
      "avg / total       0.99      0.99      0.99     15913\n",
      "\n"
     ]
    }
   ],
   "source": [
    "print(classification_report(y_test,clf_xgb_predict_ds))"
   ]
  },
  {
   "cell_type": "code",
   "execution_count": 0,
   "metadata": {
    "colab": {},
    "colab_type": "code",
    "id": "00hrETqmIY44"
   },
   "outputs": [],
   "source": []
  }
 ],
 "metadata": {
  "colab": {
   "name": "Machine Learning no Marketing Digital 2.ipynb",
   "provenance": [],
   "version": "0.3.2"
  },
  "kernelspec": {
   "display_name": "Python 3 (ipykernel)",
   "language": "python",
   "name": "python3"
  },
  "language_info": {
   "codemirror_mode": {
    "name": "ipython",
    "version": 3
   },
   "file_extension": ".py",
   "mimetype": "text/x-python",
   "name": "python",
   "nbconvert_exporter": "python",
   "pygments_lexer": "ipython3",
   "version": "3.11.7"
  }
 },
 "nbformat": 4,
 "nbformat_minor": 1
}
