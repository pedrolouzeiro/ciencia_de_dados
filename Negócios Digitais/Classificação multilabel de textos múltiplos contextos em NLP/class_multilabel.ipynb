{
 "cells": [
  {
   "cell_type": "code",
   "execution_count": 1,
   "id": "a3049b69",
   "metadata": {},
   "outputs": [
    {
     "data": {
      "text/html": [
       "<div>\n",
       "<style scoped>\n",
       "    .dataframe tbody tr th:only-of-type {\n",
       "        vertical-align: middle;\n",
       "    }\n",
       "\n",
       "    .dataframe tbody tr th {\n",
       "        vertical-align: top;\n",
       "    }\n",
       "\n",
       "    .dataframe thead th {\n",
       "        text-align: right;\n",
       "    }\n",
       "</style>\n",
       "<table border=\"1\" class=\"dataframe\">\n",
       "  <thead>\n",
       "    <tr style=\"text-align: right;\">\n",
       "      <th></th>\n",
       "      <th>Perguntas</th>\n",
       "      <th>Tags</th>\n",
       "    </tr>\n",
       "  </thead>\n",
       "  <tbody>\n",
       "    <tr>\n",
       "      <th>3684</th>\n",
       "      <td>o meu problema é o seguinte estou a tentar por...</td>\n",
       "      <td>angular node.js</td>\n",
       "    </tr>\n",
       "    <tr>\n",
       "      <th>4608</th>\n",
       "      <td>Estou usando Ajax para enviar dados via POST, ...</td>\n",
       "      <td>jquery</td>\n",
       "    </tr>\n",
       "    <tr>\n",
       "      <th>1650</th>\n",
       "      <td>usei muito javascript/jquery para montar um pr...</td>\n",
       "      <td>jquery</td>\n",
       "    </tr>\n",
       "    <tr>\n",
       "      <th>170</th>\n",
       "      <td>Tenho que fazer um contador regressivo para um...</td>\n",
       "      <td>jquery html</td>\n",
       "    </tr>\n",
       "    <tr>\n",
       "      <th>1355</th>\n",
       "      <td>Bom dia Preciso fazer um update dos dados que ...</td>\n",
       "      <td>html</td>\n",
       "    </tr>\n",
       "    <tr>\n",
       "      <th>4461</th>\n",
       "      <td>Tenho um menu que caso o usuário selecione a o...</td>\n",
       "      <td>html</td>\n",
       "    </tr>\n",
       "    <tr>\n",
       "      <th>3453</th>\n",
       "      <td>Tenho uma CODE  modal do bootstrap que fica na...</td>\n",
       "      <td>jquery</td>\n",
       "    </tr>\n",
       "    <tr>\n",
       "      <th>4780</th>\n",
       "      <td>tenho este código:  CODE   Como eu consigo sel...</td>\n",
       "      <td>jquery html</td>\n",
       "    </tr>\n",
       "    <tr>\n",
       "      <th>4499</th>\n",
       "      <td>tenho um script como seguinte código:      COD...</td>\n",
       "      <td>jquery</td>\n",
       "    </tr>\n",
       "    <tr>\n",
       "      <th>2778</th>\n",
       "      <td>Estou tentando fazer um elemento div trocar de...</td>\n",
       "      <td>html</td>\n",
       "    </tr>\n",
       "  </tbody>\n",
       "</table>\n",
       "</div>"
      ],
      "text/plain": [
       "                                              Perguntas             Tags\n",
       "3684  o meu problema é o seguinte estou a tentar por...  angular node.js\n",
       "4608  Estou usando Ajax para enviar dados via POST, ...          jquery \n",
       "1650  usei muito javascript/jquery para montar um pr...           jquery\n",
       "170   Tenho que fazer um contador regressivo para um...     jquery html \n",
       "1355  Bom dia Preciso fazer um update dos dados que ...            html \n",
       "4461  Tenho um menu que caso o usuário selecione a o...             html\n",
       "3453  Tenho uma CODE  modal do bootstrap que fica na...           jquery\n",
       "4780  tenho este código:  CODE   Como eu consigo sel...      jquery html\n",
       "4499  tenho um script como seguinte código:      COD...          jquery \n",
       "2778  Estou tentando fazer um elemento div trocar de...             html"
      ]
     },
     "execution_count": 1,
     "metadata": {},
     "output_type": "execute_result"
    }
   ],
   "source": [
    "import pandas as pd\n",
    "\n",
    "perguntas = pd.read_csv('stackoverflow_perguntas.csv')\n",
    "perguntas.sample(10)"
   ]
  },
  {
   "cell_type": "markdown",
   "id": "0351a49e",
   "metadata": {},
   "source": [
    "## Preparando os dados"
   ]
  },
  {
   "cell_type": "markdown",
   "id": "c0a37d40",
   "metadata": {},
   "source": [
    "### Desafios de usar string como target"
   ]
  },
  {
   "cell_type": "code",
   "execution_count": 2,
   "id": "e8e6598a",
   "metadata": {},
   "outputs": [
    {
     "data": {
      "text/plain": [
       "37"
      ]
     },
     "execution_count": 2,
     "metadata": {},
     "output_type": "execute_result"
    }
   ],
   "source": [
    "perguntas['Tags'].unique()\n",
    "perguntas['Tags'].nunique()"
   ]
  },
  {
   "cell_type": "markdown",
   "id": "31b3d363",
   "metadata": {},
   "source": [
    "### Explorando uma possível soluçao de utilizar strings como alvo"
   ]
  },
  {
   "cell_type": "code",
   "execution_count": 3,
   "id": "7e6cf815",
   "metadata": {},
   "outputs": [
    {
     "name": "stdout",
     "output_type": "stream",
     "text": [
      "['node.js', 'jquery', 'html', 'angular']\n"
     ]
    }
   ],
   "source": [
    "lista_de_tags = []\n",
    "for tags in perguntas['Tags'].unique():\n",
    "    for tag in tags.split():\n",
    "        if tag not in lista_de_tags:\n",
    "            lista_de_tags.append(tag)\n",
    "print(lista_de_tags)"
   ]
  },
  {
   "cell_type": "markdown",
   "id": "c809c2d4",
   "metadata": {},
   "source": [
    "### Transformando labels em colunas"
   ]
  },
  {
   "cell_type": "code",
   "execution_count": 4,
   "id": "bc483f81",
   "metadata": {},
   "outputs": [
    {
     "data": {
      "text/html": [
       "<div>\n",
       "<style scoped>\n",
       "    .dataframe tbody tr th:only-of-type {\n",
       "        vertical-align: middle;\n",
       "    }\n",
       "\n",
       "    .dataframe tbody tr th {\n",
       "        vertical-align: top;\n",
       "    }\n",
       "\n",
       "    .dataframe thead th {\n",
       "        text-align: right;\n",
       "    }\n",
       "</style>\n",
       "<table border=\"1\" class=\"dataframe\">\n",
       "  <thead>\n",
       "    <tr style=\"text-align: right;\">\n",
       "      <th></th>\n",
       "      <th>Perguntas</th>\n",
       "      <th>Tags</th>\n",
       "      <th>node.js</th>\n",
       "    </tr>\n",
       "  </thead>\n",
       "  <tbody>\n",
       "    <tr>\n",
       "      <th>0</th>\n",
       "      <td>Possuo um projeto Node.js porém preciso criar ...</td>\n",
       "      <td>node.js</td>\n",
       "      <td>1</td>\n",
       "    </tr>\n",
       "    <tr>\n",
       "      <th>1</th>\n",
       "      <td>Gostaria de fazer testes unitários no Node.js,...</td>\n",
       "      <td>node.js</td>\n",
       "      <td>1</td>\n",
       "    </tr>\n",
       "    <tr>\n",
       "      <th>2</th>\n",
       "      <td>Como inverter a ordem com que o jQuery itera u...</td>\n",
       "      <td>jquery</td>\n",
       "      <td>0</td>\n",
       "    </tr>\n",
       "    <tr>\n",
       "      <th>3</th>\n",
       "      <td>Eu tenho uma página onde pretendo utilizar um ...</td>\n",
       "      <td>html</td>\n",
       "      <td>0</td>\n",
       "    </tr>\n",
       "    <tr>\n",
       "      <th>4</th>\n",
       "      <td>Como exibir os dados retornados do FireStore e...</td>\n",
       "      <td>html angular</td>\n",
       "      <td>0</td>\n",
       "    </tr>\n",
       "    <tr>\n",
       "      <th>...</th>\n",
       "      <td>...</td>\n",
       "      <td>...</td>\n",
       "      <td>...</td>\n",
       "    </tr>\n",
       "    <tr>\n",
       "      <th>5403</th>\n",
       "      <td>Queria saber como pegar o total de cores de um...</td>\n",
       "      <td>jquery html</td>\n",
       "      <td>0</td>\n",
       "    </tr>\n",
       "    <tr>\n",
       "      <th>5404</th>\n",
       "      <td>Boa noite, estou usando phonegap para fazer um...</td>\n",
       "      <td>html</td>\n",
       "      <td>0</td>\n",
       "    </tr>\n",
       "    <tr>\n",
       "      <th>5405</th>\n",
       "      <td>Estou construindo um mini fórum, e nele, os us...</td>\n",
       "      <td>jquery html</td>\n",
       "      <td>0</td>\n",
       "    </tr>\n",
       "    <tr>\n",
       "      <th>5406</th>\n",
       "      <td>Boa tarde,  Estou para desenvolver um site na ...</td>\n",
       "      <td>html</td>\n",
       "      <td>0</td>\n",
       "    </tr>\n",
       "    <tr>\n",
       "      <th>5407</th>\n",
       "      <td>Estou fazendo um hotsite, ele é one page, e é ...</td>\n",
       "      <td>jquery html</td>\n",
       "      <td>0</td>\n",
       "    </tr>\n",
       "  </tbody>\n",
       "</table>\n",
       "<p>5408 rows × 3 columns</p>\n",
       "</div>"
      ],
      "text/plain": [
       "                                              Perguntas           Tags  \\\n",
       "0     Possuo um projeto Node.js porém preciso criar ...        node.js   \n",
       "1     Gostaria de fazer testes unitários no Node.js,...        node.js   \n",
       "2     Como inverter a ordem com que o jQuery itera u...         jquery   \n",
       "3     Eu tenho uma página onde pretendo utilizar um ...           html   \n",
       "4     Como exibir os dados retornados do FireStore e...  html angular    \n",
       "...                                                 ...            ...   \n",
       "5403  Queria saber como pegar o total de cores de um...   jquery html    \n",
       "5404  Boa noite, estou usando phonegap para fazer um...          html    \n",
       "5405  Estou construindo um mini fórum, e nele, os us...    jquery html   \n",
       "5406  Boa tarde,  Estou para desenvolver um site na ...           html   \n",
       "5407  Estou fazendo um hotsite, ele é one page, e é ...    jquery html   \n",
       "\n",
       "      node.js  \n",
       "0           1  \n",
       "1           1  \n",
       "2           0  \n",
       "3           0  \n",
       "4           0  \n",
       "...       ...  \n",
       "5403        0  \n",
       "5404        0  \n",
       "5405        0  \n",
       "5406        0  \n",
       "5407        0  \n",
       "\n",
       "[5408 rows x 3 columns]"
      ]
     },
     "execution_count": 4,
     "metadata": {},
     "output_type": "execute_result"
    }
   ],
   "source": [
    "node_js = []\n",
    "for linha_tag in perguntas['Tags']:\n",
    "    if 'node.js' in linha_tag:\n",
    "        node_js.append(1)\n",
    "    else:\n",
    "        node_js.append(0)\n",
    "        \n",
    "perguntas['node.js'] = node_js      \n",
    "perguntas"
   ]
  },
  {
   "cell_type": "code",
   "execution_count": 5,
   "id": "407cb639",
   "metadata": {},
   "outputs": [],
   "source": [
    "def nova_coluna(lista_tags, dataframe, nome_tags):\n",
    "    for tag in lista_tags:\n",
    "        coluna = []\n",
    "        for linha_tag in dataframe[nome_tags]:\n",
    "            if tag in linha_tag:\n",
    "                coluna.append(1)\n",
    "            else:\n",
    "                coluna.append(0)\n",
    "        dataframe[tag] = coluna"
   ]
  },
  {
   "cell_type": "code",
   "execution_count": 6,
   "id": "bf0ac523",
   "metadata": {},
   "outputs": [],
   "source": [
    "nova_coluna(lista_de_tags, perguntas, 'Tags')"
   ]
  },
  {
   "cell_type": "code",
   "execution_count": 7,
   "id": "0a3f42f0",
   "metadata": {},
   "outputs": [
    {
     "data": {
      "text/html": [
       "<div>\n",
       "<style scoped>\n",
       "    .dataframe tbody tr th:only-of-type {\n",
       "        vertical-align: middle;\n",
       "    }\n",
       "\n",
       "    .dataframe tbody tr th {\n",
       "        vertical-align: top;\n",
       "    }\n",
       "\n",
       "    .dataframe thead th {\n",
       "        text-align: right;\n",
       "    }\n",
       "</style>\n",
       "<table border=\"1\" class=\"dataframe\">\n",
       "  <thead>\n",
       "    <tr style=\"text-align: right;\">\n",
       "      <th></th>\n",
       "      <th>Perguntas</th>\n",
       "      <th>Tags</th>\n",
       "      <th>node.js</th>\n",
       "      <th>jquery</th>\n",
       "      <th>html</th>\n",
       "      <th>angular</th>\n",
       "    </tr>\n",
       "  </thead>\n",
       "  <tbody>\n",
       "    <tr>\n",
       "      <th>0</th>\n",
       "      <td>Possuo um projeto Node.js porém preciso criar ...</td>\n",
       "      <td>node.js</td>\n",
       "      <td>1</td>\n",
       "      <td>0</td>\n",
       "      <td>0</td>\n",
       "      <td>0</td>\n",
       "    </tr>\n",
       "    <tr>\n",
       "      <th>1</th>\n",
       "      <td>Gostaria de fazer testes unitários no Node.js,...</td>\n",
       "      <td>node.js</td>\n",
       "      <td>1</td>\n",
       "      <td>0</td>\n",
       "      <td>0</td>\n",
       "      <td>0</td>\n",
       "    </tr>\n",
       "    <tr>\n",
       "      <th>2</th>\n",
       "      <td>Como inverter a ordem com que o jQuery itera u...</td>\n",
       "      <td>jquery</td>\n",
       "      <td>0</td>\n",
       "      <td>1</td>\n",
       "      <td>0</td>\n",
       "      <td>0</td>\n",
       "    </tr>\n",
       "    <tr>\n",
       "      <th>3</th>\n",
       "      <td>Eu tenho uma página onde pretendo utilizar um ...</td>\n",
       "      <td>html</td>\n",
       "      <td>0</td>\n",
       "      <td>0</td>\n",
       "      <td>1</td>\n",
       "      <td>0</td>\n",
       "    </tr>\n",
       "    <tr>\n",
       "      <th>4</th>\n",
       "      <td>Como exibir os dados retornados do FireStore e...</td>\n",
       "      <td>html angular</td>\n",
       "      <td>0</td>\n",
       "      <td>0</td>\n",
       "      <td>1</td>\n",
       "      <td>1</td>\n",
       "    </tr>\n",
       "    <tr>\n",
       "      <th>...</th>\n",
       "      <td>...</td>\n",
       "      <td>...</td>\n",
       "      <td>...</td>\n",
       "      <td>...</td>\n",
       "      <td>...</td>\n",
       "      <td>...</td>\n",
       "    </tr>\n",
       "    <tr>\n",
       "      <th>5403</th>\n",
       "      <td>Queria saber como pegar o total de cores de um...</td>\n",
       "      <td>jquery html</td>\n",
       "      <td>0</td>\n",
       "      <td>1</td>\n",
       "      <td>1</td>\n",
       "      <td>0</td>\n",
       "    </tr>\n",
       "    <tr>\n",
       "      <th>5404</th>\n",
       "      <td>Boa noite, estou usando phonegap para fazer um...</td>\n",
       "      <td>html</td>\n",
       "      <td>0</td>\n",
       "      <td>0</td>\n",
       "      <td>1</td>\n",
       "      <td>0</td>\n",
       "    </tr>\n",
       "    <tr>\n",
       "      <th>5405</th>\n",
       "      <td>Estou construindo um mini fórum, e nele, os us...</td>\n",
       "      <td>jquery html</td>\n",
       "      <td>0</td>\n",
       "      <td>1</td>\n",
       "      <td>1</td>\n",
       "      <td>0</td>\n",
       "    </tr>\n",
       "    <tr>\n",
       "      <th>5406</th>\n",
       "      <td>Boa tarde,  Estou para desenvolver um site na ...</td>\n",
       "      <td>html</td>\n",
       "      <td>0</td>\n",
       "      <td>0</td>\n",
       "      <td>1</td>\n",
       "      <td>0</td>\n",
       "    </tr>\n",
       "    <tr>\n",
       "      <th>5407</th>\n",
       "      <td>Estou fazendo um hotsite, ele é one page, e é ...</td>\n",
       "      <td>jquery html</td>\n",
       "      <td>0</td>\n",
       "      <td>1</td>\n",
       "      <td>1</td>\n",
       "      <td>0</td>\n",
       "    </tr>\n",
       "  </tbody>\n",
       "</table>\n",
       "<p>5408 rows × 6 columns</p>\n",
       "</div>"
      ],
      "text/plain": [
       "                                              Perguntas           Tags  \\\n",
       "0     Possuo um projeto Node.js porém preciso criar ...        node.js   \n",
       "1     Gostaria de fazer testes unitários no Node.js,...        node.js   \n",
       "2     Como inverter a ordem com que o jQuery itera u...         jquery   \n",
       "3     Eu tenho uma página onde pretendo utilizar um ...           html   \n",
       "4     Como exibir os dados retornados do FireStore e...  html angular    \n",
       "...                                                 ...            ...   \n",
       "5403  Queria saber como pegar o total de cores de um...   jquery html    \n",
       "5404  Boa noite, estou usando phonegap para fazer um...          html    \n",
       "5405  Estou construindo um mini fórum, e nele, os us...    jquery html   \n",
       "5406  Boa tarde,  Estou para desenvolver um site na ...           html   \n",
       "5407  Estou fazendo um hotsite, ele é one page, e é ...    jquery html   \n",
       "\n",
       "      node.js  jquery  html  angular  \n",
       "0           1       0     0        0  \n",
       "1           1       0     0        0  \n",
       "2           0       1     0        0  \n",
       "3           0       0     1        0  \n",
       "4           0       0     1        1  \n",
       "...       ...     ...   ...      ...  \n",
       "5403        0       1     1        0  \n",
       "5404        0       0     1        0  \n",
       "5405        0       1     1        0  \n",
       "5406        0       0     1        0  \n",
       "5407        0       1     1        0  \n",
       "\n",
       "[5408 rows x 6 columns]"
      ]
     },
     "execution_count": 7,
     "metadata": {},
     "output_type": "execute_result"
    }
   ],
   "source": [
    "perguntas"
   ]
  },
  {
   "cell_type": "markdown",
   "id": "4f554130",
   "metadata": {},
   "source": [
    "## Dividindo dados"
   ]
  },
  {
   "cell_type": "code",
   "execution_count": 8,
   "id": "214dfebb",
   "metadata": {},
   "outputs": [],
   "source": [
    "from sklearn.model_selection import train_test_split"
   ]
  },
  {
   "cell_type": "markdown",
   "id": "4bcbf2d9",
   "metadata": {},
   "source": [
    "### Dados de treino e teste"
   ]
  },
  {
   "cell_type": "code",
   "execution_count": 9,
   "id": "37af68d9",
   "metadata": {},
   "outputs": [
    {
     "data": {
      "text/html": [
       "<div>\n",
       "<style scoped>\n",
       "    .dataframe tbody tr th:only-of-type {\n",
       "        vertical-align: middle;\n",
       "    }\n",
       "\n",
       "    .dataframe tbody tr th {\n",
       "        vertical-align: top;\n",
       "    }\n",
       "\n",
       "    .dataframe thead th {\n",
       "        text-align: right;\n",
       "    }\n",
       "</style>\n",
       "<table border=\"1\" class=\"dataframe\">\n",
       "  <thead>\n",
       "    <tr style=\"text-align: right;\">\n",
       "      <th></th>\n",
       "      <th>Perguntas</th>\n",
       "      <th>Tags</th>\n",
       "      <th>node.js</th>\n",
       "      <th>jquery</th>\n",
       "      <th>html</th>\n",
       "      <th>angular</th>\n",
       "      <th>todas_tags</th>\n",
       "    </tr>\n",
       "  </thead>\n",
       "  <tbody>\n",
       "    <tr>\n",
       "      <th>2993</th>\n",
       "      <td>Eu preciso de uma ajuda muito importante, tenh...</td>\n",
       "      <td>html</td>\n",
       "      <td>0</td>\n",
       "      <td>0</td>\n",
       "      <td>1</td>\n",
       "      <td>0</td>\n",
       "      <td>(0, 0, 1, 0)</td>\n",
       "    </tr>\n",
       "    <tr>\n",
       "      <th>4029</th>\n",
       "      <td>Estou a fazer um trabalho em html, css, javasc...</td>\n",
       "      <td>html</td>\n",
       "      <td>0</td>\n",
       "      <td>0</td>\n",
       "      <td>1</td>\n",
       "      <td>0</td>\n",
       "      <td>(0, 0, 1, 0)</td>\n",
       "    </tr>\n",
       "    <tr>\n",
       "      <th>5193</th>\n",
       "      <td>Estou desenvolvendo uma página HTML simples co...</td>\n",
       "      <td>jquery html</td>\n",
       "      <td>0</td>\n",
       "      <td>1</td>\n",
       "      <td>1</td>\n",
       "      <td>0</td>\n",
       "      <td>(0, 1, 1, 0)</td>\n",
       "    </tr>\n",
       "    <tr>\n",
       "      <th>5063</th>\n",
       "      <td>Como faço para limitar a quantidade (em 1) de ...</td>\n",
       "      <td>html</td>\n",
       "      <td>0</td>\n",
       "      <td>0</td>\n",
       "      <td>1</td>\n",
       "      <td>0</td>\n",
       "      <td>(0, 0, 1, 0)</td>\n",
       "    </tr>\n",
       "    <tr>\n",
       "      <th>3507</th>\n",
       "      <td>Estou com o seguinte problema, achei um plugin...</td>\n",
       "      <td>jquery</td>\n",
       "      <td>0</td>\n",
       "      <td>1</td>\n",
       "      <td>0</td>\n",
       "      <td>0</td>\n",
       "      <td>(0, 1, 0, 0)</td>\n",
       "    </tr>\n",
       "    <tr>\n",
       "      <th>673</th>\n",
       "      <td>Esse é um arquivo .json que eu criei só para e...</td>\n",
       "      <td>jquery html</td>\n",
       "      <td>0</td>\n",
       "      <td>1</td>\n",
       "      <td>1</td>\n",
       "      <td>0</td>\n",
       "      <td>(0, 1, 1, 0)</td>\n",
       "    </tr>\n",
       "    <tr>\n",
       "      <th>1677</th>\n",
       "      <td>ola pessoal tenho uma duvida vejo que algum si...</td>\n",
       "      <td>jquery html</td>\n",
       "      <td>0</td>\n",
       "      <td>1</td>\n",
       "      <td>1</td>\n",
       "      <td>0</td>\n",
       "      <td>(0, 1, 1, 0)</td>\n",
       "    </tr>\n",
       "    <tr>\n",
       "      <th>2579</th>\n",
       "      <td>Estou desenvolvendo utilizando sequelize mas c...</td>\n",
       "      <td>node.js</td>\n",
       "      <td>1</td>\n",
       "      <td>0</td>\n",
       "      <td>0</td>\n",
       "      <td>0</td>\n",
       "      <td>(1, 0, 0, 0)</td>\n",
       "    </tr>\n",
       "    <tr>\n",
       "      <th>1238</th>\n",
       "      <td>Bem, tenho um projeto que tem o  package.json ...</td>\n",
       "      <td>node.js</td>\n",
       "      <td>1</td>\n",
       "      <td>0</td>\n",
       "      <td>0</td>\n",
       "      <td>0</td>\n",
       "      <td>(1, 0, 0, 0)</td>\n",
       "    </tr>\n",
       "    <tr>\n",
       "      <th>188</th>\n",
       "      <td>Se ele digitar 1, tenho que verificar se na ta...</td>\n",
       "      <td>html</td>\n",
       "      <td>0</td>\n",
       "      <td>0</td>\n",
       "      <td>1</td>\n",
       "      <td>0</td>\n",
       "      <td>(0, 0, 1, 0)</td>\n",
       "    </tr>\n",
       "  </tbody>\n",
       "</table>\n",
       "</div>"
      ],
      "text/plain": [
       "                                              Perguntas         Tags  node.js  \\\n",
       "2993  Eu preciso de uma ajuda muito importante, tenh...        html         0   \n",
       "4029  Estou a fazer um trabalho em html, css, javasc...        html         0   \n",
       "5193  Estou desenvolvendo uma página HTML simples co...  jquery html        0   \n",
       "5063  Como faço para limitar a quantidade (em 1) de ...         html        0   \n",
       "3507  Estou com o seguinte problema, achei um plugin...       jquery        0   \n",
       "673   Esse é um arquivo .json que eu criei só para e...  jquery html        0   \n",
       "1677  ola pessoal tenho uma duvida vejo que algum si...  jquery html        0   \n",
       "2579  Estou desenvolvendo utilizando sequelize mas c...     node.js         1   \n",
       "1238  Bem, tenho um projeto que tem o  package.json ...      node.js        1   \n",
       "188   Se ele digitar 1, tenho que verificar se na ta...         html        0   \n",
       "\n",
       "      jquery  html  angular    todas_tags  \n",
       "2993       0     1        0  (0, 0, 1, 0)  \n",
       "4029       0     1        0  (0, 0, 1, 0)  \n",
       "5193       1     1        0  (0, 1, 1, 0)  \n",
       "5063       0     1        0  (0, 0, 1, 0)  \n",
       "3507       1     0        0  (0, 1, 0, 0)  \n",
       "673        1     1        0  (0, 1, 1, 0)  \n",
       "1677       1     1        0  (0, 1, 1, 0)  \n",
       "2579       0     0        0  (1, 0, 0, 0)  \n",
       "1238       0     0        0  (1, 0, 0, 0)  \n",
       "188        0     1        0  (0, 0, 1, 0)  "
      ]
     },
     "execution_count": 9,
     "metadata": {},
     "output_type": "execute_result"
    }
   ],
   "source": [
    "lista_zip_tags = list(zip(perguntas[lista_de_tags[0]], perguntas[lista_de_tags[1]], perguntas[lista_de_tags[2]], perguntas[lista_de_tags[3]]))\n",
    "\n",
    "perguntas['todas_tags'] = lista_zip_tags\n",
    "perguntas.sample(10)"
   ]
  },
  {
   "cell_type": "code",
   "execution_count": 10,
   "id": "da29a820",
   "metadata": {},
   "outputs": [],
   "source": [
    "perguntas_treino, perguntas_test, tags_treino, tags_test = train_test_split(\n",
    "    perguntas['Perguntas'],\n",
    "    perguntas['todas_tags'],\n",
    "    test_size= 0.2,\n",
    "    random_state = 123\n",
    ")"
   ]
  },
  {
   "cell_type": "code",
   "execution_count": 11,
   "id": "edd93af3",
   "metadata": {},
   "outputs": [
    {
     "data": {
      "text/plain": [
       "1577       array1 = [1,2,3];   array2 = [\"um\",\"dois\",\"...\n",
       "1927    Não sei se fui claro no título, mas quem é da ...\n",
       "3409    Alguém sabe me dizer qual a melhor forma de re...\n",
       "4606    Estou com problemas ao tentar validar campos d...\n",
       "5237    Preciso copiar um valor de dentro de um CODE  ...\n",
       "                              ...                        \n",
       "5218    Tenho um sisteminha, para mudar o layout da pá...\n",
       "4060    Como fazer alto scoll ao carregar a página?  E...\n",
       "1346    Explicação:  Tenho uma CODE  pai que contém du...\n",
       "3454    Estou querendo fazer um sistema onde eu iria t...\n",
       "3582    Galera eu to com um problemão, ja pesquisei ba...\n",
       "Name: Perguntas, Length: 4326, dtype: object"
      ]
     },
     "execution_count": 11,
     "metadata": {},
     "output_type": "execute_result"
    }
   ],
   "source": [
    "perguntas_treino"
   ]
  },
  {
   "cell_type": "markdown",
   "id": "fa224309",
   "metadata": {},
   "source": [
    "### Vetorizando textos"
   ]
  },
  {
   "cell_type": "code",
   "execution_count": 12,
   "id": "d7037b0f",
   "metadata": {},
   "outputs": [],
   "source": [
    "from sklearn.feature_extraction.text import TfidfVectorizer\n",
    "# 'max_df' = se a palavra estiver presente em 85 dos dados deve ser descartada\n",
    "vetorizar = TfidfVectorizer(max_features = 5000, max_df = 0.85)"
   ]
  },
  {
   "cell_type": "code",
   "execution_count": 13,
   "id": "ba2c787e",
   "metadata": {},
   "outputs": [],
   "source": [
    "vetorizar.fit(perguntas['Perguntas'])\n",
    "\n",
    "perguntas_treino_tfidf = vetorizar.transform(perguntas_treino)\n",
    "perguntas_test_tfidf = vetorizar.transform(perguntas_test)\n"
   ]
  },
  {
   "cell_type": "code",
   "execution_count": 14,
   "id": "982f6ef0",
   "metadata": {},
   "outputs": [
    {
     "name": "stdout",
     "output_type": "stream",
     "text": [
      "(4326, 5000)\n",
      "(1082, 5000)\n"
     ]
    }
   ],
   "source": [
    "print(perguntas_treino_tfidf.shape)\n",
    "print(perguntas_test_tfidf.shape)"
   ]
  },
  {
   "cell_type": "markdown",
   "id": "434d6a0f",
   "metadata": {},
   "source": [
    "### Relevância Binária"
   ]
  },
  {
   "cell_type": "code",
   "execution_count": 15,
   "id": "05e7d9c8",
   "metadata": {},
   "outputs": [],
   "source": [
    "from sklearn.multiclass import OneVsRestClassifier\n",
    "from sklearn.linear_model import LogisticRegression\n"
   ]
  },
  {
   "cell_type": "code",
   "execution_count": 16,
   "id": "ca22aded",
   "metadata": {},
   "outputs": [],
   "source": [
    "import numpy as np\n",
    "\n",
    "tags_treino_array = np.asarray(list(tags_treino))\n",
    "tags_test_array = np.asarray(list(tags_test))\n"
   ]
  },
  {
   "cell_type": "code",
   "execution_count": 17,
   "id": "ae1181e6",
   "metadata": {},
   "outputs": [
    {
     "data": {
      "text/html": [
       "<style>#sk-container-id-1 {color: black;background-color: white;}#sk-container-id-1 pre{padding: 0;}#sk-container-id-1 div.sk-toggleable {background-color: white;}#sk-container-id-1 label.sk-toggleable__label {cursor: pointer;display: block;width: 100%;margin-bottom: 0;padding: 0.3em;box-sizing: border-box;text-align: center;}#sk-container-id-1 label.sk-toggleable__label-arrow:before {content: \"▸\";float: left;margin-right: 0.25em;color: #696969;}#sk-container-id-1 label.sk-toggleable__label-arrow:hover:before {color: black;}#sk-container-id-1 div.sk-estimator:hover label.sk-toggleable__label-arrow:before {color: black;}#sk-container-id-1 div.sk-toggleable__content {max-height: 0;max-width: 0;overflow: hidden;text-align: left;background-color: #f0f8ff;}#sk-container-id-1 div.sk-toggleable__content pre {margin: 0.2em;color: black;border-radius: 0.25em;background-color: #f0f8ff;}#sk-container-id-1 input.sk-toggleable__control:checked~div.sk-toggleable__content {max-height: 200px;max-width: 100%;overflow: auto;}#sk-container-id-1 input.sk-toggleable__control:checked~label.sk-toggleable__label-arrow:before {content: \"▾\";}#sk-container-id-1 div.sk-estimator input.sk-toggleable__control:checked~label.sk-toggleable__label {background-color: #d4ebff;}#sk-container-id-1 div.sk-label input.sk-toggleable__control:checked~label.sk-toggleable__label {background-color: #d4ebff;}#sk-container-id-1 input.sk-hidden--visually {border: 0;clip: rect(1px 1px 1px 1px);clip: rect(1px, 1px, 1px, 1px);height: 1px;margin: -1px;overflow: hidden;padding: 0;position: absolute;width: 1px;}#sk-container-id-1 div.sk-estimator {font-family: monospace;background-color: #f0f8ff;border: 1px dotted black;border-radius: 0.25em;box-sizing: border-box;margin-bottom: 0.5em;}#sk-container-id-1 div.sk-estimator:hover {background-color: #d4ebff;}#sk-container-id-1 div.sk-parallel-item::after {content: \"\";width: 100%;border-bottom: 1px solid gray;flex-grow: 1;}#sk-container-id-1 div.sk-label:hover label.sk-toggleable__label {background-color: #d4ebff;}#sk-container-id-1 div.sk-serial::before {content: \"\";position: absolute;border-left: 1px solid gray;box-sizing: border-box;top: 0;bottom: 0;left: 50%;z-index: 0;}#sk-container-id-1 div.sk-serial {display: flex;flex-direction: column;align-items: center;background-color: white;padding-right: 0.2em;padding-left: 0.2em;position: relative;}#sk-container-id-1 div.sk-item {position: relative;z-index: 1;}#sk-container-id-1 div.sk-parallel {display: flex;align-items: stretch;justify-content: center;background-color: white;position: relative;}#sk-container-id-1 div.sk-item::before, #sk-container-id-1 div.sk-parallel-item::before {content: \"\";position: absolute;border-left: 1px solid gray;box-sizing: border-box;top: 0;bottom: 0;left: 50%;z-index: -1;}#sk-container-id-1 div.sk-parallel-item {display: flex;flex-direction: column;z-index: 1;position: relative;background-color: white;}#sk-container-id-1 div.sk-parallel-item:first-child::after {align-self: flex-end;width: 50%;}#sk-container-id-1 div.sk-parallel-item:last-child::after {align-self: flex-start;width: 50%;}#sk-container-id-1 div.sk-parallel-item:only-child::after {width: 0;}#sk-container-id-1 div.sk-dashed-wrapped {border: 1px dashed gray;margin: 0 0.4em 0.5em 0.4em;box-sizing: border-box;padding-bottom: 0.4em;background-color: white;}#sk-container-id-1 div.sk-label label {font-family: monospace;font-weight: bold;display: inline-block;line-height: 1.2em;}#sk-container-id-1 div.sk-label-container {text-align: center;}#sk-container-id-1 div.sk-container {/* jupyter's `normalize.less` sets `[hidden] { display: none; }` but bootstrap.min.css set `[hidden] { display: none !important; }` so we also need the `!important` here to be able to override the default hidden behavior on the sphinx rendered scikit-learn.org. See: https://github.com/scikit-learn/scikit-learn/issues/21755 */display: inline-block !important;position: relative;}#sk-container-id-1 div.sk-text-repr-fallback {display: none;}</style><div id=\"sk-container-id-1\" class=\"sk-top-container\"><div class=\"sk-text-repr-fallback\"><pre>OneVsRestClassifier(estimator=LogisticRegression())</pre><b>In a Jupyter environment, please rerun this cell to show the HTML representation or trust the notebook. <br />On GitHub, the HTML representation is unable to render, please try loading this page with nbviewer.org.</b></div><div class=\"sk-container\" hidden><div class=\"sk-item sk-dashed-wrapped\"><div class=\"sk-label-container\"><div class=\"sk-label sk-toggleable\"><input class=\"sk-toggleable__control sk-hidden--visually\" id=\"sk-estimator-id-1\" type=\"checkbox\" ><label for=\"sk-estimator-id-1\" class=\"sk-toggleable__label sk-toggleable__label-arrow\">OneVsRestClassifier</label><div class=\"sk-toggleable__content\"><pre>OneVsRestClassifier(estimator=LogisticRegression())</pre></div></div></div><div class=\"sk-parallel\"><div class=\"sk-parallel-item\"><div class=\"sk-item\"><div class=\"sk-label-container\"><div class=\"sk-label sk-toggleable\"><input class=\"sk-toggleable__control sk-hidden--visually\" id=\"sk-estimator-id-2\" type=\"checkbox\" ><label for=\"sk-estimator-id-2\" class=\"sk-toggleable__label sk-toggleable__label-arrow\">estimator: LogisticRegression</label><div class=\"sk-toggleable__content\"><pre>LogisticRegression()</pre></div></div></div><div class=\"sk-serial\"><div class=\"sk-item\"><div class=\"sk-estimator sk-toggleable\"><input class=\"sk-toggleable__control sk-hidden--visually\" id=\"sk-estimator-id-3\" type=\"checkbox\" ><label for=\"sk-estimator-id-3\" class=\"sk-toggleable__label sk-toggleable__label-arrow\">LogisticRegression</label><div class=\"sk-toggleable__content\"><pre>LogisticRegression()</pre></div></div></div></div></div></div></div></div></div></div>"
      ],
      "text/plain": [
       "OneVsRestClassifier(estimator=LogisticRegression())"
      ]
     },
     "execution_count": 17,
     "metadata": {},
     "output_type": "execute_result"
    }
   ],
   "source": [
    "classificador_onevsrest = OneVsRestClassifier(LogisticRegression())\n",
    "classificador_onevsrest.fit(perguntas_treino_tfidf, tags_treino_array)"
   ]
  },
  {
   "cell_type": "code",
   "execution_count": 18,
   "id": "a106172c",
   "metadata": {},
   "outputs": [
    {
     "name": "stdout",
     "output_type": "stream",
     "text": [
      "Resultados:  41.68%\n"
     ]
    }
   ],
   "source": [
    "resultado_onevsrest = classificador_onevsrest.score(perguntas_test_tfidf, tags_test_array)\n",
    "print('Resultados: {0: .2f}%'.format(resultado_onevsrest*100))"
   ]
  },
  {
   "cell_type": "markdown",
   "id": "b446c99c",
   "metadata": {},
   "source": [
    "## Métricas de Avaliação"
   ]
  },
  {
   "cell_type": "code",
   "execution_count": 19,
   "id": "883fb1c3",
   "metadata": {},
   "outputs": [
    {
     "data": {
      "text/plain": [
       "13"
      ]
     },
     "execution_count": 19,
     "metadata": {},
     "output_type": "execute_result"
    }
   ],
   "source": [
    "perguntas['todas_tags'].unique()\n",
    "perguntas['todas_tags'].nunique()"
   ]
  },
  {
   "cell_type": "markdown",
   "id": "ca747591",
   "metadata": {},
   "source": [
    "### Calculando hamming loss"
   ]
  },
  {
   "cell_type": "code",
   "execution_count": 20,
   "id": "607a30fa",
   "metadata": {},
   "outputs": [
    {
     "name": "stdout",
     "output_type": "stream",
     "text": [
      "Hamming loss:  0.19\n"
     ]
    }
   ],
   "source": [
    "from sklearn.metrics import hamming_loss\n",
    "\n",
    "previsao_onevsrest = classificador_onevsrest.predict(perguntas_test_tfidf)\n",
    "\n",
    "hamming_loss_onevsrest = hamming_loss(tags_test_array, previsao_onevsrest)\n",
    "\n",
    "print('Hamming loss: {0: .2f}'.format(hamming_loss_onevsrest))"
   ]
  },
  {
   "cell_type": "markdown",
   "id": "49266753",
   "metadata": {},
   "source": [
    "## Captando relação com classificação em cadeia "
   ]
  },
  {
   "cell_type": "markdown",
   "id": "60c48f20",
   "metadata": {},
   "source": [
    "### Já que a relevancia binaria não cria relação entre pergunta e tag usaremos classificação em cadeia"
   ]
  },
  {
   "cell_type": "code",
   "execution_count": 21,
   "id": "58d080a2",
   "metadata": {},
   "outputs": [],
   "source": [
    "from skmultilearn.problem_transform import ClassifierChain"
   ]
  },
  {
   "cell_type": "code",
   "execution_count": 22,
   "id": "aeb45a2a",
   "metadata": {},
   "outputs": [
    {
     "name": "stdout",
     "output_type": "stream",
     "text": [
      "Resultados:  49.82%\n"
     ]
    }
   ],
   "source": [
    "classificador_cadeia = ClassifierChain(LogisticRegression())\n",
    "\n",
    "classificador_cadeia.fit(perguntas_treino_tfidf, tags_treino_array)\n",
    "resultado_cadeia = classificador_cadeia.score(perguntas_test_tfidf, tags_test_array)\n",
    "print('Resultados: {0: .2f}%'.format(resultado_cadeia*100))"
   ]
  },
  {
   "cell_type": "code",
   "execution_count": 23,
   "id": "cee53f34",
   "metadata": {},
   "outputs": [
    {
     "name": "stdout",
     "output_type": "stream",
     "text": [
      "Hamming loss:  0.21\n"
     ]
    }
   ],
   "source": [
    "previsao_cadeia = classificador_cadeia.predict(perguntas_test_tfidf)\n",
    "\n",
    "hamming_loss_cadeia = hamming_loss(tags_test_array, previsao_cadeia)\n",
    "\n",
    "print('Hamming loss: {0: .2f}'.format(hamming_loss_cadeia))"
   ]
  },
  {
   "cell_type": "markdown",
   "id": "e4765f24",
   "metadata": {},
   "source": [
    "### Relevância binário com skmultilearn"
   ]
  },
  {
   "cell_type": "code",
   "execution_count": 24,
   "id": "b98b7e88",
   "metadata": {},
   "outputs": [],
   "source": [
    "from skmultilearn.problem_transform import BinaryRelevance"
   ]
  },
  {
   "cell_type": "code",
   "execution_count": 25,
   "id": "023c9e8e",
   "metadata": {},
   "outputs": [
    {
     "name": "stdout",
     "output_type": "stream",
     "text": [
      "Resultados:  41.68%\n",
      "Hamming loss:  0.19\n"
     ]
    }
   ],
   "source": [
    "classificador_br = BinaryRelevance(LogisticRegression())\n",
    "\n",
    "classificador_br.fit(perguntas_treino_tfidf, tags_treino_array)\n",
    "\n",
    "resultado_br = classificador_br.score(perguntas_test_tfidf, tags_test_array)\n",
    "print('Resultados: {0: .2f}%'.format(resultado_br*100))\n",
    "previsao_br = classificador_br.predict(perguntas_test_tfidf)\n",
    "\n",
    "hamming_loss_br = hamming_loss(tags_test_array, previsao_br)\n",
    "\n",
    "print('Hamming loss: {0: .2f}'.format(hamming_loss_br))"
   ]
  },
  {
   "cell_type": "markdown",
   "id": "1ce7fae0",
   "metadata": {},
   "source": [
    "### Utilizando ML-KNN"
   ]
  },
  {
   "cell_type": "code",
   "execution_count": 26,
   "id": "57f98b2b",
   "metadata": {},
   "outputs": [],
   "source": [
    "from skmultilearn.adapt import MLkNN"
   ]
  },
  {
   "cell_type": "code",
   "execution_count": 28,
   "id": "80bc1c13",
   "metadata": {},
   "outputs": [
    {
     "name": "stdout",
     "output_type": "stream",
     "text": [
      "Resultados:  34.10%\n",
      "Hamming loss:  0.25\n"
     ]
    }
   ],
   "source": [
    "classificador_mlknn = MLkNN()\n",
    "\n",
    "classificador_mlknn.fit(perguntas_treino_tfidf, tags_treino_array)\n",
    "\n",
    "resultado_mlknn = classificador_mlknn.score(perguntas_test_tfidf, tags_test_array)\n",
    "print('Resultados: {0: .2f}%'.format(resultado_mlknn*100))\n",
    "previsao_mlknn = classificador_mlknn.predict(perguntas_test_tfidf)\n",
    "\n",
    "hamming_loss_mlknn = hamming_loss(tags_test_array, previsao_mlknn)\n",
    "\n",
    "print('Hamming loss: {0: .2f}'.format(hamming_loss_mlknn))\n",
    "\n"
   ]
  },
  {
   "cell_type": "code",
   "execution_count": 29,
   "id": "0193d993",
   "metadata": {},
   "outputs": [
    {
     "name": "stdout",
     "output_type": "stream",
     "text": [
      "Resultados mlknn:  34.10%\n",
      "Hamming loss:  0.25\n",
      "Resultados br:  41.68%\n",
      "Hamming loss:  0.19\n",
      "Resultados cadeia:  49.82%\n",
      "Hamming loss:  0.21\n"
     ]
    }
   ],
   "source": [
    "print('Resultados mlknn: {0: .2f}%'.format(resultado_mlknn*100))\n",
    "print('Hamming loss: {0: .2f}'.format(hamming_loss_mlknn))\n",
    "\n",
    "print('Resultados br: {0: .2f}%'.format(resultado_br*100))\n",
    "print('Hamming loss: {0: .2f}'.format(hamming_loss_br))\n",
    "\n",
    "print('Resultados cadeia: {0: .2f}%'.format(resultado_cadeia*100))\n",
    "print('Hamming loss: {0: .2f}'.format(hamming_loss_cadeia))"
   ]
  },
  {
   "cell_type": "code",
   "execution_count": 33,
   "id": "71a53f28",
   "metadata": {},
   "outputs": [
    {
     "data": {
      "text/html": [
       "<div>\n",
       "<style scoped>\n",
       "    .dataframe tbody tr th:only-of-type {\n",
       "        vertical-align: middle;\n",
       "    }\n",
       "\n",
       "    .dataframe tbody tr th {\n",
       "        vertical-align: top;\n",
       "    }\n",
       "\n",
       "    .dataframe thead th {\n",
       "        text-align: right;\n",
       "    }\n",
       "</style>\n",
       "<table border=\"1\" class=\"dataframe\">\n",
       "  <thead>\n",
       "    <tr style=\"text-align: right;\">\n",
       "      <th></th>\n",
       "      <th>perguntas</th>\n",
       "      <th>tags_real</th>\n",
       "      <th>br</th>\n",
       "      <th>cadeia</th>\n",
       "      <th>mlknn</th>\n",
       "    </tr>\n",
       "  </thead>\n",
       "  <tbody>\n",
       "    <tr>\n",
       "      <th>0</th>\n",
       "      <td>estou com conflito entre o  CODE   e os  CODE ...</td>\n",
       "      <td>(0, 1, 0, 0)</td>\n",
       "      <td>[0, 1, 0, 0]</td>\n",
       "      <td>[0.0, 1.0, 0.0, 0.0]</td>\n",
       "      <td>[0, 1, 0, 0]</td>\n",
       "    </tr>\n",
       "    <tr>\n",
       "      <th>1</th>\n",
       "      <td>Estou fazendo um site que eu sou obrigado a us...</td>\n",
       "      <td>(0, 0, 1, 0)</td>\n",
       "      <td>[0, 0, 1, 0]</td>\n",
       "      <td>[0.0, 0.0, 1.0, 0.0]</td>\n",
       "      <td>[0, 1, 1, 0]</td>\n",
       "    </tr>\n",
       "    <tr>\n",
       "      <th>2</th>\n",
       "      <td>Recentemente fiz um refactor do meu código par...</td>\n",
       "      <td>(1, 0, 0, 0)</td>\n",
       "      <td>[1, 0, 0, 0]</td>\n",
       "      <td>[1.0, 0.0, 0.0, 0.0]</td>\n",
       "      <td>[1, 0, 0, 0]</td>\n",
       "    </tr>\n",
       "    <tr>\n",
       "      <th>3</th>\n",
       "      <td>Eu tenho esse código em CODE  que passo valore...</td>\n",
       "      <td>(0, 1, 1, 0)</td>\n",
       "      <td>[0, 1, 0, 0]</td>\n",
       "      <td>[0.0, 1.0, 0.0, 0.0]</td>\n",
       "      <td>[0, 0, 1, 0]</td>\n",
       "    </tr>\n",
       "    <tr>\n",
       "      <th>4</th>\n",
       "      <td>Olá, em minha função tem o evento CODE  que de...</td>\n",
       "      <td>(0, 1, 1, 0)</td>\n",
       "      <td>[0, 1, 0, 0]</td>\n",
       "      <td>[0.0, 1.0, 0.0, 0.0]</td>\n",
       "      <td>[0, 1, 1, 0]</td>\n",
       "    </tr>\n",
       "    <tr>\n",
       "      <th>...</th>\n",
       "      <td>...</td>\n",
       "      <td>...</td>\n",
       "      <td>...</td>\n",
       "      <td>...</td>\n",
       "      <td>...</td>\n",
       "    </tr>\n",
       "    <tr>\n",
       "      <th>1077</th>\n",
       "      <td>Estou a desenvolver um website em jQuery. E at...</td>\n",
       "      <td>(0, 1, 0, 0)</td>\n",
       "      <td>[0, 1, 1, 0]</td>\n",
       "      <td>[0.0, 1.0, 1.0, 0.0]</td>\n",
       "      <td>[0, 0, 1, 0]</td>\n",
       "    </tr>\n",
       "    <tr>\n",
       "      <th>1078</th>\n",
       "      <td>Estou usando este plugin - jquery autocomplete...</td>\n",
       "      <td>(0, 1, 0, 0)</td>\n",
       "      <td>[0, 1, 0, 0]</td>\n",
       "      <td>[0.0, 1.0, 0.0, 0.0]</td>\n",
       "      <td>[0, 1, 0, 0]</td>\n",
       "    </tr>\n",
       "    <tr>\n",
       "      <th>1079</th>\n",
       "      <td>Tenho o seguinte jQuery:  CODE   Nisto, quanti...</td>\n",
       "      <td>(0, 1, 0, 0)</td>\n",
       "      <td>[0, 1, 0, 0]</td>\n",
       "      <td>[0.0, 1.0, 0.0, 0.0]</td>\n",
       "      <td>[0, 1, 0, 0]</td>\n",
       "    </tr>\n",
       "    <tr>\n",
       "      <th>1080</th>\n",
       "      <td>Estou usando o SimpleModal Contact Form de Eri...</td>\n",
       "      <td>(0, 1, 0, 0)</td>\n",
       "      <td>[0, 1, 0, 0]</td>\n",
       "      <td>[0.0, 1.0, 0.0, 0.0]</td>\n",
       "      <td>[0, 1, 0, 0]</td>\n",
       "    </tr>\n",
       "    <tr>\n",
       "      <th>1081</th>\n",
       "      <td>Estou tento problemas com o webpack, gostaria ...</td>\n",
       "      <td>(0, 0, 0, 1)</td>\n",
       "      <td>[0, 0, 0, 0]</td>\n",
       "      <td>[0.0, 0.0, 1.0, 0.0]</td>\n",
       "      <td>[0, 1, 1, 0]</td>\n",
       "    </tr>\n",
       "  </tbody>\n",
       "</table>\n",
       "<p>1082 rows × 5 columns</p>\n",
       "</div>"
      ],
      "text/plain": [
       "                                              perguntas     tags_real  \\\n",
       "0     estou com conflito entre o  CODE   e os  CODE ...  (0, 1, 0, 0)   \n",
       "1     Estou fazendo um site que eu sou obrigado a us...  (0, 0, 1, 0)   \n",
       "2     Recentemente fiz um refactor do meu código par...  (1, 0, 0, 0)   \n",
       "3     Eu tenho esse código em CODE  que passo valore...  (0, 1, 1, 0)   \n",
       "4     Olá, em minha função tem o evento CODE  que de...  (0, 1, 1, 0)   \n",
       "...                                                 ...           ...   \n",
       "1077  Estou a desenvolver um website em jQuery. E at...  (0, 1, 0, 0)   \n",
       "1078  Estou usando este plugin - jquery autocomplete...  (0, 1, 0, 0)   \n",
       "1079  Tenho o seguinte jQuery:  CODE   Nisto, quanti...  (0, 1, 0, 0)   \n",
       "1080  Estou usando o SimpleModal Contact Form de Eri...  (0, 1, 0, 0)   \n",
       "1081  Estou tento problemas com o webpack, gostaria ...  (0, 0, 0, 1)   \n",
       "\n",
       "                br                cadeia         mlknn  \n",
       "0     [0, 1, 0, 0]  [0.0, 1.0, 0.0, 0.0]  [0, 1, 0, 0]  \n",
       "1     [0, 0, 1, 0]  [0.0, 0.0, 1.0, 0.0]  [0, 1, 1, 0]  \n",
       "2     [1, 0, 0, 0]  [1.0, 0.0, 0.0, 0.0]  [1, 0, 0, 0]  \n",
       "3     [0, 1, 0, 0]  [0.0, 1.0, 0.0, 0.0]  [0, 0, 1, 0]  \n",
       "4     [0, 1, 0, 0]  [0.0, 1.0, 0.0, 0.0]  [0, 1, 1, 0]  \n",
       "...            ...                   ...           ...  \n",
       "1077  [0, 1, 1, 0]  [0.0, 1.0, 1.0, 0.0]  [0, 0, 1, 0]  \n",
       "1078  [0, 1, 0, 0]  [0.0, 1.0, 0.0, 0.0]  [0, 1, 0, 0]  \n",
       "1079  [0, 1, 0, 0]  [0.0, 1.0, 0.0, 0.0]  [0, 1, 0, 0]  \n",
       "1080  [0, 1, 0, 0]  [0.0, 1.0, 0.0, 0.0]  [0, 1, 0, 0]  \n",
       "1081  [0, 0, 0, 0]  [0.0, 0.0, 1.0, 0.0]  [0, 1, 1, 0]  \n",
       "\n",
       "[1082 rows x 5 columns]"
      ]
     },
     "execution_count": 33,
     "metadata": {},
     "output_type": "execute_result"
    }
   ],
   "source": [
    "resultados_classificacao = pd.DataFrame()\n",
    "resultados_classificacao['perguntas'] = perguntas_test.values\n",
    "resultados_classificacao['tags_real'] = list(tags_test)\n",
    "resultados_classificacao['br'] = list(previsao_br.toarray())\n",
    "resultados_classificacao['cadeia'] = list(previsao_cadeia.toarray())\n",
    "resultados_classificacao['mlknn'] = list(previsao_mlknn.toarray())\n",
    "\n",
    "resultados_classificacao"
   ]
  },
  {
   "cell_type": "code",
   "execution_count": 35,
   "id": "7e4873cf",
   "metadata": {},
   "outputs": [
    {
     "data": {
      "text/plain": [
       "perguntas    Estou fazendo um site que eu sou obrigado a us...\n",
       "tags_real                                         (0, 0, 1, 0)\n",
       "br                                                [0, 0, 1, 0]\n",
       "cadeia                                    [0.0, 0.0, 1.0, 0.0]\n",
       "mlknn                                             [0, 1, 1, 0]\n",
       "Name: 1, dtype: object"
      ]
     },
     "execution_count": 35,
     "metadata": {},
     "output_type": "execute_result"
    }
   ],
   "source": [
    "resultados_classificacao.iloc[1]"
   ]
  },
  {
   "cell_type": "code",
   "execution_count": 36,
   "id": "90dca00f",
   "metadata": {},
   "outputs": [
    {
     "data": {
      "text/plain": [
       "'Estou fazendo um site que eu sou obrigado a usar HTML, CSS e JavaScript no máximo. Só que muitas coisas que eu preciso do PhP eu não posso usar. Sendo assim eu estive pesquisando por sinonimo de CODE  e encontrei o seguinte, que ajudou em partes:  CODE   Tá, mas qual é o problema? Ele cria uma barra de rolagem do lado. Eu sei como remover com CSS, mas o texto que foi inserido rola só dentro da área da CODE  e eu queria que fizesse como se o texto inserido fizesse parte da página, como funciona no CODE  do PhP. A questão é, como fazer a mecânica do JavaScript nesse caso ficar igual ao do PhP?  Print para exemplificar: https://imgur.com/a/V9AGLgB '"
      ]
     },
     "execution_count": 36,
     "metadata": {},
     "output_type": "execute_result"
    }
   ],
   "source": [
    "resultados_classificacao.perguntas[1]"
   ]
  },
  {
   "cell_type": "code",
   "execution_count": null,
   "id": "7585dee0",
   "metadata": {},
   "outputs": [],
   "source": []
  }
 ],
 "metadata": {
  "kernelspec": {
   "display_name": "Python 3 (ipykernel)",
   "language": "python",
   "name": "python3"
  },
  "language_info": {
   "codemirror_mode": {
    "name": "ipython",
    "version": 3
   },
   "file_extension": ".py",
   "mimetype": "text/x-python",
   "name": "python",
   "nbconvert_exporter": "python",
   "pygments_lexer": "ipython3",
   "version": "3.11.7"
  }
 },
 "nbformat": 4,
 "nbformat_minor": 5
}
